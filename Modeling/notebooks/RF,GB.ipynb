{
  "cells": [
    {
      "cell_type": "code",
      "source": [
        "import pandas as pd"
      ],
      "outputs": [],
      "execution_count": 67,
      "metadata": {
        "gather": {
          "logged": 1737546505294
        }
      }
    },
    {
      "cell_type": "code",
      "source": [
        "# import pymysql\n",
        "import numpy as np\n",
        "import matplotlib.pyplot as plt\n",
        "import seaborn as sns"
      ],
      "outputs": [],
      "execution_count": 28,
      "metadata": {
        "jupyter": {
          "source_hidden": false,
          "outputs_hidden": false
        },
        "nteract": {
          "transient": {
            "deleting": false
          }
        },
        "gather": {
          "logged": 1737468641758
        }
      }
    },
    {
      "cell_type": "code",
      "source": [
        "freezing = pd.DataFrame(columns=['num', 'GRID_X', 'GRID_Y', 'FCST_TM', 'ICE_state'])"
      ],
      "outputs": [],
      "execution_count": 5,
      "metadata": {
        "jupyter": {
          "source_hidden": false,
          "outputs_hidden": false
        },
        "nteract": {
          "transient": {
            "deleting": false
          }
        },
        "gather": {
          "logged": 1736243829153
        }
      }
    },
    {
      "cell_type": "code",
      "source": [
        "weather = pd.DataFrame(columns=['YYMMDDHHMI','STNID','WS','PA','TA_C','HM','SDTOT'])"
      ],
      "outputs": [],
      "execution_count": 3,
      "metadata": {
        "jupyter": {
          "source_hidden": false,
          "outputs_hidden": false
        },
        "nteract": {
          "transient": {
            "deleting": false
          }
        },
        "gather": {
          "logged": 1736468992885
        }
      }
    },
    {
      "cell_type": "code",
      "source": [
        "# MySQL 연결\n",
        "connection = pymysql.connect(\n",
        "    host='freeze-db.mysql.database.azure.com',\n",
        "    user='human',\n",
        "    password='Human123456',\n",
        "    database='freezedb'\n",
        ")\n",
        "\n",
        "# 쿼리 실행 및 배치 크기 설정\n",
        "query = \"SELECT * FROM freezing\"\n",
        "batch_size = 1000  # 한 번에 처리할 행 개수\n",
        "\n",
        "# 배치 단위로 데이터를 가져오고 처리\n",
        "with connection.cursor() as cursor:\n",
        "    cursor.execute(query)\n",
        "    while True:\n",
        "        rows = cursor.fetchmany(batch_size)\n",
        "        if not rows:  # 가져올 데이터가 없으면 중단\n",
        "            break\n",
        "        \n",
        "        # 데이터를 DataFrame으로 변환\n",
        "        data = pd.DataFrame(rows, columns=[col[0] for col in cursor.description])\n",
        "        \n",
        "        # freezing DataFrame에 합치기\n",
        "        freezing = pd.concat([freezing,data])\n",
        "\n",
        "connection.close()"
      ],
      "outputs": [],
      "execution_count": 6,
      "metadata": {
        "jupyter": {
          "source_hidden": false,
          "outputs_hidden": false
        },
        "nteract": {
          "transient": {
            "deleting": false
          }
        },
        "gather": {
          "logged": 1736246839563
        }
      }
    },
    {
      "cell_type": "code",
      "source": [
        "freezing.info()"
      ],
      "outputs": [
        {
          "output_type": "stream",
          "name": "stdout",
          "text": "<class 'pandas.core.frame.DataFrame'>\nInt64Index: 6595992 entries, 0 to 991\nData columns (total 5 columns):\n #   Column     Dtype \n---  ------     ----- \n 0   num        object\n 1   GRID_X     object\n 2   GRID_Y     object\n 3   FCST_TM    object\n 4   ICE_state  object\ndtypes: object(5)\nmemory usage: 301.9+ MB\n"
        }
      ],
      "execution_count": 7,
      "metadata": {
        "jupyter": {
          "source_hidden": false,
          "outputs_hidden": false
        },
        "nteract": {
          "transient": {
            "deleting": false
          }
        },
        "gather": {
          "logged": 1736247441512
        }
      }
    },
    {
      "cell_type": "code",
      "source": [
        "freezing.head()"
      ],
      "outputs": [
        {
          "output_type": "execute_result",
          "execution_count": 8,
          "data": {
            "text/plain": "  num      GRID_X     GRID_Y              FCST_TM      ICE_state\n0   0  126.700114  37.191712  2023-01-01 00:00:00  Freezing_poss\n1   1  126.700266  37.205535  2023-01-01 00:00:00  Freezing_poss\n2   2  126.700417  37.219358  2023-01-01 00:00:00  Freezing_poss\n3   3  126.700569  37.233181  2023-01-01 00:00:00  Freezing_poss\n4   4  126.700721  37.247005  2023-01-01 00:00:00  Freezing_poss",
            "text/html": "<div>\n<style scoped>\n    .dataframe tbody tr th:only-of-type {\n        vertical-align: middle;\n    }\n\n    .dataframe tbody tr th {\n        vertical-align: top;\n    }\n\n    .dataframe thead th {\n        text-align: right;\n    }\n</style>\n<table border=\"1\" class=\"dataframe\">\n  <thead>\n    <tr style=\"text-align: right;\">\n      <th></th>\n      <th>num</th>\n      <th>GRID_X</th>\n      <th>GRID_Y</th>\n      <th>FCST_TM</th>\n      <th>ICE_state</th>\n    </tr>\n  </thead>\n  <tbody>\n    <tr>\n      <th>0</th>\n      <td>0</td>\n      <td>126.700114</td>\n      <td>37.191712</td>\n      <td>2023-01-01 00:00:00</td>\n      <td>Freezing_poss</td>\n    </tr>\n    <tr>\n      <th>1</th>\n      <td>1</td>\n      <td>126.700266</td>\n      <td>37.205535</td>\n      <td>2023-01-01 00:00:00</td>\n      <td>Freezing_poss</td>\n    </tr>\n    <tr>\n      <th>2</th>\n      <td>2</td>\n      <td>126.700417</td>\n      <td>37.219358</td>\n      <td>2023-01-01 00:00:00</td>\n      <td>Freezing_poss</td>\n    </tr>\n    <tr>\n      <th>3</th>\n      <td>3</td>\n      <td>126.700569</td>\n      <td>37.233181</td>\n      <td>2023-01-01 00:00:00</td>\n      <td>Freezing_poss</td>\n    </tr>\n    <tr>\n      <th>4</th>\n      <td>4</td>\n      <td>126.700721</td>\n      <td>37.247005</td>\n      <td>2023-01-01 00:00:00</td>\n      <td>Freezing_poss</td>\n    </tr>\n  </tbody>\n</table>\n</div>"
          },
          "metadata": {}
        }
      ],
      "execution_count": 8,
      "metadata": {
        "jupyter": {
          "source_hidden": false,
          "outputs_hidden": false
        },
        "nteract": {
          "transient": {
            "deleting": false
          }
        },
        "gather": {
          "logged": 1736247478517
        }
      }
    },
    {
      "cell_type": "code",
      "source": [
        "# MySQL 연결\n",
        "connection = pymysql.connect(\n",
        "    host='freeze-db.mysql.database.azure.com',\n",
        "    user='human',\n",
        "    password='Human123456',\n",
        "    database='freezedb'\n",
        ")\n",
        "\n",
        "# 쿼리 실행 및 배치 크기 설정\n",
        "query = \"SELECT * FROM weather\"\n",
        "batch_size = 1000  # 한 번에 처리할 행 개수\n",
        "\n",
        "# 배치 단위로 데이터를 가져오고 처리\n",
        "with connection.cursor() as cursor:\n",
        "    cursor.execute(query)\n",
        "    while True:\n",
        "        rows = cursor.fetchmany(batch_size)\n",
        "        if not rows:  # 가져올 데이터가 없으면 중단\n",
        "            break\n",
        "        \n",
        "        # 데이터를 DataFrame으로 변환\n",
        "        data = pd.DataFrame(rows, columns=[col[0] for col in cursor.description])\n",
        "        \n",
        "        # freezing DataFrame에 합치기\n",
        "        weather = pd.concat([weather,data])\n",
        "\n",
        "connection.close()"
      ],
      "outputs": [],
      "execution_count": 4,
      "metadata": {
        "jupyter": {
          "source_hidden": false,
          "outputs_hidden": false
        },
        "nteract": {
          "transient": {
            "deleting": false
          }
        },
        "gather": {
          "logged": 1736469048157
        }
      }
    },
    {
      "cell_type": "code",
      "source": [
        "import os"
      ],
      "outputs": [],
      "execution_count": 5,
      "metadata": {
        "jupyter": {
          "source_hidden": false,
          "outputs_hidden": false
        },
        "nteract": {
          "transient": {
            "deleting": false
          }
        },
        "gather": {
          "logged": 1736469082416
        }
      }
    },
    {
      "cell_type": "code",
      "source": [
        "print(os.getcwd())"
      ],
      "outputs": [
        {
          "output_type": "stream",
          "name": "stdout",
          "text": "/mnt/batch/tasks/shared/LS_root/mounts/clusters/freezing/code/Users/tmxhs85\n"
        }
      ],
      "execution_count": 6,
      "metadata": {
        "jupyter": {
          "source_hidden": false,
          "outputs_hidden": false
        },
        "nteract": {
          "transient": {
            "deleting": false
          }
        },
        "gather": {
          "logged": 1736469082959
        }
      }
    },
    {
      "cell_type": "code",
      "source": [
        "freezing.to_csv('/mnt/batch/tasks/shared/LS_root/mounts/clusters/freezing/code/Users/tmxhs85/freezing_df.csv',index=None)"
      ],
      "outputs": [],
      "execution_count": 15,
      "metadata": {
        "jupyter": {
          "source_hidden": false,
          "outputs_hidden": false
        },
        "nteract": {
          "transient": {
            "deleting": false
          }
        },
        "gather": {
          "logged": 1736247828014
        }
      }
    },
    {
      "cell_type": "code",
      "source": [
        "weather.to_csv('/mnt/batch/tasks/shared/LS_root/mounts/clusters/freezing/code/Users/tmxhs85/weather_df.csv',index=None)"
      ],
      "outputs": [],
      "execution_count": 7,
      "metadata": {
        "jupyter": {
          "source_hidden": false,
          "outputs_hidden": false
        },
        "nteract": {
          "transient": {
            "deleting": false
          }
        },
        "gather": {
          "logged": 1736469145232
        }
      }
    },
    {
      "cell_type": "code",
      "source": [
        "dff = pd.read_csv('/mnt/batch/tasks/shared/LS_root/mounts/clusters/freezing/code/Users/tmxhs85/freezing_df.csv')"
      ],
      "outputs": [],
      "execution_count": 3,
      "metadata": {
        "jupyter": {
          "source_hidden": false,
          "outputs_hidden": false
        },
        "nteract": {
          "transient": {
            "deleting": false
          }
        },
        "gather": {
          "logged": 1736992005708
        }
      }
    },
    {
      "cell_type": "code",
      "source": [
        "dfw = pd.read_csv('/mnt/batch/tasks/shared/LS_root/mounts/clusters/freezing/code/Users/tmxhs85/weather_df.csv')"
      ],
      "outputs": [],
      "execution_count": 4,
      "metadata": {
        "jupyter": {
          "source_hidden": false,
          "outputs_hidden": false
        },
        "nteract": {
          "transient": {
            "deleting": false
          }
        },
        "gather": {
          "logged": 1736992005919
        }
      }
    },
    {
      "cell_type": "code",
      "source": [
        "dff.info()"
      ],
      "outputs": [
        {
          "output_type": "stream",
          "name": "stdout",
          "text": "<class 'pandas.core.frame.DataFrame'>\nRangeIndex: 6595992 entries, 0 to 6595991\nData columns (total 5 columns):\n #   Column     Dtype  \n---  ------     -----  \n 0   num        int64  \n 1   GRID_X     float64\n 2   GRID_Y     float64\n 3   FCST_TM    object \n 4   ICE_state  object \ndtypes: float64(2), int64(1), object(2)\nmemory usage: 251.6+ MB\n"
        }
      ],
      "execution_count": 5,
      "metadata": {
        "jupyter": {
          "source_hidden": false,
          "outputs_hidden": false
        },
        "nteract": {
          "transient": {
            "deleting": false
          }
        },
        "gather": {
          "logged": 1736992006122
        }
      }
    },
    {
      "cell_type": "code",
      "source": [
        "dff.head()"
      ],
      "outputs": [
        {
          "output_type": "execute_result",
          "execution_count": 6,
          "data": {
            "text/plain": "   num      GRID_X     GRID_Y              FCST_TM      ICE_state\n0    0  126.700114  37.191712  2023-01-01 00:00:00  Freezing_poss\n1    1  126.700266  37.205535  2023-01-01 00:00:00  Freezing_poss\n2    2  126.700417  37.219358  2023-01-01 00:00:00  Freezing_poss\n3    3  126.700569  37.233181  2023-01-01 00:00:00  Freezing_poss\n4    4  126.700721  37.247005  2023-01-01 00:00:00  Freezing_poss",
            "text/html": "<div>\n<style scoped>\n    .dataframe tbody tr th:only-of-type {\n        vertical-align: middle;\n    }\n\n    .dataframe tbody tr th {\n        vertical-align: top;\n    }\n\n    .dataframe thead th {\n        text-align: right;\n    }\n</style>\n<table border=\"1\" class=\"dataframe\">\n  <thead>\n    <tr style=\"text-align: right;\">\n      <th></th>\n      <th>num</th>\n      <th>GRID_X</th>\n      <th>GRID_Y</th>\n      <th>FCST_TM</th>\n      <th>ICE_state</th>\n    </tr>\n  </thead>\n  <tbody>\n    <tr>\n      <th>0</th>\n      <td>0</td>\n      <td>126.700114</td>\n      <td>37.191712</td>\n      <td>2023-01-01 00:00:00</td>\n      <td>Freezing_poss</td>\n    </tr>\n    <tr>\n      <th>1</th>\n      <td>1</td>\n      <td>126.700266</td>\n      <td>37.205535</td>\n      <td>2023-01-01 00:00:00</td>\n      <td>Freezing_poss</td>\n    </tr>\n    <tr>\n      <th>2</th>\n      <td>2</td>\n      <td>126.700417</td>\n      <td>37.219358</td>\n      <td>2023-01-01 00:00:00</td>\n      <td>Freezing_poss</td>\n    </tr>\n    <tr>\n      <th>3</th>\n      <td>3</td>\n      <td>126.700569</td>\n      <td>37.233181</td>\n      <td>2023-01-01 00:00:00</td>\n      <td>Freezing_poss</td>\n    </tr>\n    <tr>\n      <th>4</th>\n      <td>4</td>\n      <td>126.700721</td>\n      <td>37.247005</td>\n      <td>2023-01-01 00:00:00</td>\n      <td>Freezing_poss</td>\n    </tr>\n  </tbody>\n</table>\n</div>"
          },
          "metadata": {}
        }
      ],
      "execution_count": 6,
      "metadata": {
        "jupyter": {
          "source_hidden": false,
          "outputs_hidden": false
        },
        "nteract": {
          "transient": {
            "deleting": false
          }
        },
        "gather": {
          "logged": 1736992006362
        }
      }
    },
    {
      "cell_type": "code",
      "source": [
        "dff.tail()"
      ],
      "outputs": [
        {
          "output_type": "execute_result",
          "execution_count": 7,
          "data": {
            "text/plain": "           num      GRID_X     GRID_Y              FCST_TM     ICE_state\n6595987  56371  127.498500  37.196805  2024-02-29 23:00:00  Non_Freezing\n6595988  56372  127.498825  37.210625  2024-02-29 23:00:00  Non_Freezing\n6595989  56373  127.499150  37.224447  2024-02-29 23:00:00  Non_Freezing\n6595990  56374  127.499475  37.238268  2024-02-29 23:00:00  Non_Freezing\n6595991  56375  127.499800  37.252091  2024-02-29 23:00:00  Non_Freezing",
            "text/html": "<div>\n<style scoped>\n    .dataframe tbody tr th:only-of-type {\n        vertical-align: middle;\n    }\n\n    .dataframe tbody tr th {\n        vertical-align: top;\n    }\n\n    .dataframe thead th {\n        text-align: right;\n    }\n</style>\n<table border=\"1\" class=\"dataframe\">\n  <thead>\n    <tr style=\"text-align: right;\">\n      <th></th>\n      <th>num</th>\n      <th>GRID_X</th>\n      <th>GRID_Y</th>\n      <th>FCST_TM</th>\n      <th>ICE_state</th>\n    </tr>\n  </thead>\n  <tbody>\n    <tr>\n      <th>6595987</th>\n      <td>56371</td>\n      <td>127.498500</td>\n      <td>37.196805</td>\n      <td>2024-02-29 23:00:00</td>\n      <td>Non_Freezing</td>\n    </tr>\n    <tr>\n      <th>6595988</th>\n      <td>56372</td>\n      <td>127.498825</td>\n      <td>37.210625</td>\n      <td>2024-02-29 23:00:00</td>\n      <td>Non_Freezing</td>\n    </tr>\n    <tr>\n      <th>6595989</th>\n      <td>56373</td>\n      <td>127.499150</td>\n      <td>37.224447</td>\n      <td>2024-02-29 23:00:00</td>\n      <td>Non_Freezing</td>\n    </tr>\n    <tr>\n      <th>6595990</th>\n      <td>56374</td>\n      <td>127.499475</td>\n      <td>37.238268</td>\n      <td>2024-02-29 23:00:00</td>\n      <td>Non_Freezing</td>\n    </tr>\n    <tr>\n      <th>6595991</th>\n      <td>56375</td>\n      <td>127.499800</td>\n      <td>37.252091</td>\n      <td>2024-02-29 23:00:00</td>\n      <td>Non_Freezing</td>\n    </tr>\n  </tbody>\n</table>\n</div>"
          },
          "metadata": {}
        }
      ],
      "execution_count": 7,
      "metadata": {
        "jupyter": {
          "source_hidden": false,
          "outputs_hidden": false
        },
        "nteract": {
          "transient": {
            "deleting": false
          }
        },
        "gather": {
          "logged": 1736992006621
        }
      }
    },
    {
      "cell_type": "code",
      "source": [
        "dfw.info()"
      ],
      "outputs": [
        {
          "output_type": "stream",
          "name": "stdout",
          "text": "<class 'pandas.core.frame.DataFrame'>\nRangeIndex: 19965 entries, 0 to 19964\nData columns (total 7 columns):\n #   Column      Non-Null Count  Dtype  \n---  ------      --------------  -----  \n 0   YYMMDDHHMI  19965 non-null  int64  \n 1   STNID       19965 non-null  int64  \n 2   WS          19965 non-null  float64\n 3   PA          19965 non-null  float64\n 4   TA_C        19965 non-null  float64\n 5   HM          19965 non-null  int64  \n 6   SDTOT       19965 non-null  float64\ndtypes: float64(4), int64(3)\nmemory usage: 1.1 MB\n"
        }
      ],
      "execution_count": 8,
      "metadata": {
        "jupyter": {
          "source_hidden": false,
          "outputs_hidden": false
        },
        "nteract": {
          "transient": {
            "deleting": false
          }
        },
        "gather": {
          "logged": 1736992006833
        }
      }
    },
    {
      "cell_type": "code",
      "source": [
        "dfw.head()"
      ],
      "outputs": [
        {
          "output_type": "execute_result",
          "execution_count": 9,
          "data": {
            "text/plain": "     YYMMDDHHMI  STNID   WS      PA  TA_C  HM  SDTOT\n0  202301010000     98  0.2  1015.4  -1.8  83    3.7\n1  202301010100     98  0.7  1015.1  -2.2  84    3.7\n2  202301010200     98  0.1  1015.0  -2.7  87    3.9\n3  202301010300     98  0.4  1015.3  -3.1  90    3.9\n4  202301010400     98  0.0  1015.4  -3.8  90    3.9",
            "text/html": "<div>\n<style scoped>\n    .dataframe tbody tr th:only-of-type {\n        vertical-align: middle;\n    }\n\n    .dataframe tbody tr th {\n        vertical-align: top;\n    }\n\n    .dataframe thead th {\n        text-align: right;\n    }\n</style>\n<table border=\"1\" class=\"dataframe\">\n  <thead>\n    <tr style=\"text-align: right;\">\n      <th></th>\n      <th>YYMMDDHHMI</th>\n      <th>STNID</th>\n      <th>WS</th>\n      <th>PA</th>\n      <th>TA_C</th>\n      <th>HM</th>\n      <th>SDTOT</th>\n    </tr>\n  </thead>\n  <tbody>\n    <tr>\n      <th>0</th>\n      <td>202301010000</td>\n      <td>98</td>\n      <td>0.2</td>\n      <td>1015.4</td>\n      <td>-1.8</td>\n      <td>83</td>\n      <td>3.7</td>\n    </tr>\n    <tr>\n      <th>1</th>\n      <td>202301010100</td>\n      <td>98</td>\n      <td>0.7</td>\n      <td>1015.1</td>\n      <td>-2.2</td>\n      <td>84</td>\n      <td>3.7</td>\n    </tr>\n    <tr>\n      <th>2</th>\n      <td>202301010200</td>\n      <td>98</td>\n      <td>0.1</td>\n      <td>1015.0</td>\n      <td>-2.7</td>\n      <td>87</td>\n      <td>3.9</td>\n    </tr>\n    <tr>\n      <th>3</th>\n      <td>202301010300</td>\n      <td>98</td>\n      <td>0.4</td>\n      <td>1015.3</td>\n      <td>-3.1</td>\n      <td>90</td>\n      <td>3.9</td>\n    </tr>\n    <tr>\n      <th>4</th>\n      <td>202301010400</td>\n      <td>98</td>\n      <td>0.0</td>\n      <td>1015.4</td>\n      <td>-3.8</td>\n      <td>90</td>\n      <td>3.9</td>\n    </tr>\n  </tbody>\n</table>\n</div>"
          },
          "metadata": {}
        }
      ],
      "execution_count": 9,
      "metadata": {
        "jupyter": {
          "source_hidden": false,
          "outputs_hidden": false
        },
        "nteract": {
          "transient": {
            "deleting": false
          }
        },
        "gather": {
          "logged": 1736992007048
        }
      }
    },
    {
      "cell_type": "code",
      "source": [
        "for i in range(len(dfw)):\n",
        "    temp = str(dfw.iloc[i,0])\n",
        "    tmp = f\"{temp[:4]}-{temp[4:6]}-{temp[6:8]} {temp[8:10]}:{temp[10:12]}:00\"\n",
        "    dfw.iloc[i,0] = tmp"
      ],
      "outputs": [],
      "execution_count": 10,
      "metadata": {
        "jupyter": {
          "source_hidden": false,
          "outputs_hidden": false
        },
        "nteract": {
          "transient": {
            "deleting": false
          }
        },
        "gather": {
          "logged": 1736992016763
        }
      }
    },
    {
      "cell_type": "code",
      "source": [
        "dfw.head()"
      ],
      "outputs": [
        {
          "output_type": "execute_result",
          "execution_count": 11,
          "data": {
            "text/plain": "            YYMMDDHHMI  STNID   WS      PA  TA_C  HM  SDTOT\n0  2023-01-01 00:00:00     98  0.2  1015.4  -1.8  83    3.7\n1  2023-01-01 01:00:00     98  0.7  1015.1  -2.2  84    3.7\n2  2023-01-01 02:00:00     98  0.1  1015.0  -2.7  87    3.9\n3  2023-01-01 03:00:00     98  0.4  1015.3  -3.1  90    3.9\n4  2023-01-01 04:00:00     98  0.0  1015.4  -3.8  90    3.9",
            "text/html": "<div>\n<style scoped>\n    .dataframe tbody tr th:only-of-type {\n        vertical-align: middle;\n    }\n\n    .dataframe tbody tr th {\n        vertical-align: top;\n    }\n\n    .dataframe thead th {\n        text-align: right;\n    }\n</style>\n<table border=\"1\" class=\"dataframe\">\n  <thead>\n    <tr style=\"text-align: right;\">\n      <th></th>\n      <th>YYMMDDHHMI</th>\n      <th>STNID</th>\n      <th>WS</th>\n      <th>PA</th>\n      <th>TA_C</th>\n      <th>HM</th>\n      <th>SDTOT</th>\n    </tr>\n  </thead>\n  <tbody>\n    <tr>\n      <th>0</th>\n      <td>2023-01-01 00:00:00</td>\n      <td>98</td>\n      <td>0.2</td>\n      <td>1015.4</td>\n      <td>-1.8</td>\n      <td>83</td>\n      <td>3.7</td>\n    </tr>\n    <tr>\n      <th>1</th>\n      <td>2023-01-01 01:00:00</td>\n      <td>98</td>\n      <td>0.7</td>\n      <td>1015.1</td>\n      <td>-2.2</td>\n      <td>84</td>\n      <td>3.7</td>\n    </tr>\n    <tr>\n      <th>2</th>\n      <td>2023-01-01 02:00:00</td>\n      <td>98</td>\n      <td>0.1</td>\n      <td>1015.0</td>\n      <td>-2.7</td>\n      <td>87</td>\n      <td>3.9</td>\n    </tr>\n    <tr>\n      <th>3</th>\n      <td>2023-01-01 03:00:00</td>\n      <td>98</td>\n      <td>0.4</td>\n      <td>1015.3</td>\n      <td>-3.1</td>\n      <td>90</td>\n      <td>3.9</td>\n    </tr>\n    <tr>\n      <th>4</th>\n      <td>2023-01-01 04:00:00</td>\n      <td>98</td>\n      <td>0.0</td>\n      <td>1015.4</td>\n      <td>-3.8</td>\n      <td>90</td>\n      <td>3.9</td>\n    </tr>\n  </tbody>\n</table>\n</div>"
          },
          "metadata": {}
        }
      ],
      "execution_count": 11,
      "metadata": {
        "jupyter": {
          "source_hidden": false,
          "outputs_hidden": false
        },
        "nteract": {
          "transient": {
            "deleting": false
          }
        },
        "gather": {
          "logged": 1736992039784
        }
      }
    },
    {
      "cell_type": "code",
      "source": [
        "dfw.tail()"
      ],
      "outputs": [
        {
          "output_type": "execute_result",
          "execution_count": 12,
          "data": {
            "text/plain": "                YYMMDDHHMI  STNID   WS      PA  TA_C  HM  SDTOT\n19960  2024-02-29 19:00:00    108  3.4  1009.4   6.6  48   -9.0\n19961  2024-02-29 20:00:00    108  4.8  1009.3   5.3  62   -9.0\n19962  2024-02-29 21:00:00    108  6.2  1009.4   4.1  59   -9.0\n19963  2024-02-29 22:00:00    108  4.3  1009.9   2.5  43   -9.0\n19964  2024-02-29 23:00:00    108  3.5  1010.4   1.5  50   -9.0",
            "text/html": "<div>\n<style scoped>\n    .dataframe tbody tr th:only-of-type {\n        vertical-align: middle;\n    }\n\n    .dataframe tbody tr th {\n        vertical-align: top;\n    }\n\n    .dataframe thead th {\n        text-align: right;\n    }\n</style>\n<table border=\"1\" class=\"dataframe\">\n  <thead>\n    <tr style=\"text-align: right;\">\n      <th></th>\n      <th>YYMMDDHHMI</th>\n      <th>STNID</th>\n      <th>WS</th>\n      <th>PA</th>\n      <th>TA_C</th>\n      <th>HM</th>\n      <th>SDTOT</th>\n    </tr>\n  </thead>\n  <tbody>\n    <tr>\n      <th>19960</th>\n      <td>2024-02-29 19:00:00</td>\n      <td>108</td>\n      <td>3.4</td>\n      <td>1009.4</td>\n      <td>6.6</td>\n      <td>48</td>\n      <td>-9.0</td>\n    </tr>\n    <tr>\n      <th>19961</th>\n      <td>2024-02-29 20:00:00</td>\n      <td>108</td>\n      <td>4.8</td>\n      <td>1009.3</td>\n      <td>5.3</td>\n      <td>62</td>\n      <td>-9.0</td>\n    </tr>\n    <tr>\n      <th>19962</th>\n      <td>2024-02-29 21:00:00</td>\n      <td>108</td>\n      <td>6.2</td>\n      <td>1009.4</td>\n      <td>4.1</td>\n      <td>59</td>\n      <td>-9.0</td>\n    </tr>\n    <tr>\n      <th>19963</th>\n      <td>2024-02-29 22:00:00</td>\n      <td>108</td>\n      <td>4.3</td>\n      <td>1009.9</td>\n      <td>2.5</td>\n      <td>43</td>\n      <td>-9.0</td>\n    </tr>\n    <tr>\n      <th>19964</th>\n      <td>2024-02-29 23:00:00</td>\n      <td>108</td>\n      <td>3.5</td>\n      <td>1010.4</td>\n      <td>1.5</td>\n      <td>50</td>\n      <td>-9.0</td>\n    </tr>\n  </tbody>\n</table>\n</div>"
          },
          "metadata": {}
        }
      ],
      "execution_count": 12,
      "metadata": {
        "jupyter": {
          "source_hidden": false,
          "outputs_hidden": false
        },
        "nteract": {
          "transient": {
            "deleting": false
          }
        },
        "gather": {
          "logged": 1736992040331
        }
      }
    },
    {
      "cell_type": "code",
      "source": [
        "dff['WS'] = None\n",
        "dff['TA_C'] = None\n",
        "dff['HM'] = None"
      ],
      "outputs": [],
      "execution_count": 13,
      "metadata": {
        "jupyter": {
          "source_hidden": false,
          "outputs_hidden": false
        },
        "nteract": {
          "transient": {
            "deleting": false
          }
        },
        "gather": {
          "logged": 1736992040562
        }
      }
    },
    {
      "cell_type": "code",
      "source": [
        "dff[dff['FCST_TM'] == '2023-02-01 0:00']"
      ],
      "outputs": [
        {
          "output_type": "execute_result",
          "execution_count": 14,
          "data": {
            "text/plain": "          num      GRID_X     GRID_Y          FCST_TM      ICE_state    WS  \\\n1634904     0  126.700114  37.191712  2023-02-01 0:00   Non_Freezing  None   \n1634905     1  126.700266  37.205535  2023-02-01 0:00   Non_Freezing  None   \n1634906     2  126.700417  37.219358  2023-02-01 0:00   Non_Freezing  None   \n1634907     3  126.700569  37.233181  2023-02-01 0:00   Non_Freezing  None   \n1634908     4  126.700721  37.247005  2023-02-01 0:00   Non_Freezing  None   \n...       ...         ...        ...              ...            ...   ...   \n1637248  2344  127.498500  37.196805  2023-02-01 0:00  Freezing_poss  None   \n1637249  2345  127.498825  37.210625  2023-02-01 0:00  Freezing_poss  None   \n1637250  2346  127.499150  37.224447  2023-02-01 0:00  Freezing_poss  None   \n1637251  2347  127.499475  37.238268  2023-02-01 0:00  Freezing_poss  None   \n1637252  2348  127.499800  37.252091  2023-02-01 0:00  Freezing_poss  None   \n\n         TA_C    HM  \n1634904  None  None  \n1634905  None  None  \n1634906  None  None  \n1634907  None  None  \n1634908  None  None  \n...       ...   ...  \n1637248  None  None  \n1637249  None  None  \n1637250  None  None  \n1637251  None  None  \n1637252  None  None  \n\n[2349 rows x 8 columns]",
            "text/html": "<div>\n<style scoped>\n    .dataframe tbody tr th:only-of-type {\n        vertical-align: middle;\n    }\n\n    .dataframe tbody tr th {\n        vertical-align: top;\n    }\n\n    .dataframe thead th {\n        text-align: right;\n    }\n</style>\n<table border=\"1\" class=\"dataframe\">\n  <thead>\n    <tr style=\"text-align: right;\">\n      <th></th>\n      <th>num</th>\n      <th>GRID_X</th>\n      <th>GRID_Y</th>\n      <th>FCST_TM</th>\n      <th>ICE_state</th>\n      <th>WS</th>\n      <th>TA_C</th>\n      <th>HM</th>\n    </tr>\n  </thead>\n  <tbody>\n    <tr>\n      <th>1634904</th>\n      <td>0</td>\n      <td>126.700114</td>\n      <td>37.191712</td>\n      <td>2023-02-01 0:00</td>\n      <td>Non_Freezing</td>\n      <td>None</td>\n      <td>None</td>\n      <td>None</td>\n    </tr>\n    <tr>\n      <th>1634905</th>\n      <td>1</td>\n      <td>126.700266</td>\n      <td>37.205535</td>\n      <td>2023-02-01 0:00</td>\n      <td>Non_Freezing</td>\n      <td>None</td>\n      <td>None</td>\n      <td>None</td>\n    </tr>\n    <tr>\n      <th>1634906</th>\n      <td>2</td>\n      <td>126.700417</td>\n      <td>37.219358</td>\n      <td>2023-02-01 0:00</td>\n      <td>Non_Freezing</td>\n      <td>None</td>\n      <td>None</td>\n      <td>None</td>\n    </tr>\n    <tr>\n      <th>1634907</th>\n      <td>3</td>\n      <td>126.700569</td>\n      <td>37.233181</td>\n      <td>2023-02-01 0:00</td>\n      <td>Non_Freezing</td>\n      <td>None</td>\n      <td>None</td>\n      <td>None</td>\n    </tr>\n    <tr>\n      <th>1634908</th>\n      <td>4</td>\n      <td>126.700721</td>\n      <td>37.247005</td>\n      <td>2023-02-01 0:00</td>\n      <td>Non_Freezing</td>\n      <td>None</td>\n      <td>None</td>\n      <td>None</td>\n    </tr>\n    <tr>\n      <th>...</th>\n      <td>...</td>\n      <td>...</td>\n      <td>...</td>\n      <td>...</td>\n      <td>...</td>\n      <td>...</td>\n      <td>...</td>\n      <td>...</td>\n    </tr>\n    <tr>\n      <th>1637248</th>\n      <td>2344</td>\n      <td>127.498500</td>\n      <td>37.196805</td>\n      <td>2023-02-01 0:00</td>\n      <td>Freezing_poss</td>\n      <td>None</td>\n      <td>None</td>\n      <td>None</td>\n    </tr>\n    <tr>\n      <th>1637249</th>\n      <td>2345</td>\n      <td>127.498825</td>\n      <td>37.210625</td>\n      <td>2023-02-01 0:00</td>\n      <td>Freezing_poss</td>\n      <td>None</td>\n      <td>None</td>\n      <td>None</td>\n    </tr>\n    <tr>\n      <th>1637250</th>\n      <td>2346</td>\n      <td>127.499150</td>\n      <td>37.224447</td>\n      <td>2023-02-01 0:00</td>\n      <td>Freezing_poss</td>\n      <td>None</td>\n      <td>None</td>\n      <td>None</td>\n    </tr>\n    <tr>\n      <th>1637251</th>\n      <td>2347</td>\n      <td>127.499475</td>\n      <td>37.238268</td>\n      <td>2023-02-01 0:00</td>\n      <td>Freezing_poss</td>\n      <td>None</td>\n      <td>None</td>\n      <td>None</td>\n    </tr>\n    <tr>\n      <th>1637252</th>\n      <td>2348</td>\n      <td>127.499800</td>\n      <td>37.252091</td>\n      <td>2023-02-01 0:00</td>\n      <td>Freezing_poss</td>\n      <td>None</td>\n      <td>None</td>\n      <td>None</td>\n    </tr>\n  </tbody>\n</table>\n<p>2349 rows × 8 columns</p>\n</div>"
          },
          "metadata": {}
        }
      ],
      "execution_count": 14,
      "metadata": {
        "jupyter": {
          "source_hidden": false,
          "outputs_hidden": false
        },
        "nteract": {
          "transient": {
            "deleting": false
          }
        },
        "gather": {
          "logged": 1736992062230
        }
      }
    },
    {
      "cell_type": "code",
      "source": [
        "dff[dff['FCST_TM'] == '2024-02-02 0:00']"
      ],
      "outputs": [
        {
          "output_type": "execute_result",
          "execution_count": 16,
          "data": {
            "text/plain": "          num      GRID_X     GRID_Y          FCST_TM      ICE_state    WS  \\\n5017464     0  126.700114  37.191712  2024-02-02 0:00       Freezing  None   \n5017465     1  126.700266  37.205535  2024-02-02 0:00       Freezing  None   \n5017466     2  126.700417  37.219358  2024-02-02 0:00       Freezing  None   \n5017467     3  126.700569  37.233181  2024-02-02 0:00       Freezing  None   \n5017468     4  126.700721  37.247005  2024-02-02 0:00  Freezing_poss  None   \n...       ...         ...        ...              ...            ...   ...   \n5019808  2344  127.498500  37.196805  2024-02-02 0:00   Non_Freezing  None   \n5019809  2345  127.498825  37.210625  2024-02-02 0:00   Non_Freezing  None   \n5019810  2346  127.499150  37.224447  2024-02-02 0:00   Non_Freezing  None   \n5019811  2347  127.499475  37.238268  2024-02-02 0:00   Non_Freezing  None   \n5019812  2348  127.499800  37.252091  2024-02-02 0:00   Non_Freezing  None   \n\n         TA_C    HM  \n5017464  None  None  \n5017465  None  None  \n5017466  None  None  \n5017467  None  None  \n5017468  None  None  \n...       ...   ...  \n5019808  None  None  \n5019809  None  None  \n5019810  None  None  \n5019811  None  None  \n5019812  None  None  \n\n[2349 rows x 8 columns]",
            "text/html": "<div>\n<style scoped>\n    .dataframe tbody tr th:only-of-type {\n        vertical-align: middle;\n    }\n\n    .dataframe tbody tr th {\n        vertical-align: top;\n    }\n\n    .dataframe thead th {\n        text-align: right;\n    }\n</style>\n<table border=\"1\" class=\"dataframe\">\n  <thead>\n    <tr style=\"text-align: right;\">\n      <th></th>\n      <th>num</th>\n      <th>GRID_X</th>\n      <th>GRID_Y</th>\n      <th>FCST_TM</th>\n      <th>ICE_state</th>\n      <th>WS</th>\n      <th>TA_C</th>\n      <th>HM</th>\n    </tr>\n  </thead>\n  <tbody>\n    <tr>\n      <th>5017464</th>\n      <td>0</td>\n      <td>126.700114</td>\n      <td>37.191712</td>\n      <td>2024-02-02 0:00</td>\n      <td>Freezing</td>\n      <td>None</td>\n      <td>None</td>\n      <td>None</td>\n    </tr>\n    <tr>\n      <th>5017465</th>\n      <td>1</td>\n      <td>126.700266</td>\n      <td>37.205535</td>\n      <td>2024-02-02 0:00</td>\n      <td>Freezing</td>\n      <td>None</td>\n      <td>None</td>\n      <td>None</td>\n    </tr>\n    <tr>\n      <th>5017466</th>\n      <td>2</td>\n      <td>126.700417</td>\n      <td>37.219358</td>\n      <td>2024-02-02 0:00</td>\n      <td>Freezing</td>\n      <td>None</td>\n      <td>None</td>\n      <td>None</td>\n    </tr>\n    <tr>\n      <th>5017467</th>\n      <td>3</td>\n      <td>126.700569</td>\n      <td>37.233181</td>\n      <td>2024-02-02 0:00</td>\n      <td>Freezing</td>\n      <td>None</td>\n      <td>None</td>\n      <td>None</td>\n    </tr>\n    <tr>\n      <th>5017468</th>\n      <td>4</td>\n      <td>126.700721</td>\n      <td>37.247005</td>\n      <td>2024-02-02 0:00</td>\n      <td>Freezing_poss</td>\n      <td>None</td>\n      <td>None</td>\n      <td>None</td>\n    </tr>\n    <tr>\n      <th>...</th>\n      <td>...</td>\n      <td>...</td>\n      <td>...</td>\n      <td>...</td>\n      <td>...</td>\n      <td>...</td>\n      <td>...</td>\n      <td>...</td>\n    </tr>\n    <tr>\n      <th>5019808</th>\n      <td>2344</td>\n      <td>127.498500</td>\n      <td>37.196805</td>\n      <td>2024-02-02 0:00</td>\n      <td>Non_Freezing</td>\n      <td>None</td>\n      <td>None</td>\n      <td>None</td>\n    </tr>\n    <tr>\n      <th>5019809</th>\n      <td>2345</td>\n      <td>127.498825</td>\n      <td>37.210625</td>\n      <td>2024-02-02 0:00</td>\n      <td>Non_Freezing</td>\n      <td>None</td>\n      <td>None</td>\n      <td>None</td>\n    </tr>\n    <tr>\n      <th>5019810</th>\n      <td>2346</td>\n      <td>127.499150</td>\n      <td>37.224447</td>\n      <td>2024-02-02 0:00</td>\n      <td>Non_Freezing</td>\n      <td>None</td>\n      <td>None</td>\n      <td>None</td>\n    </tr>\n    <tr>\n      <th>5019811</th>\n      <td>2347</td>\n      <td>127.499475</td>\n      <td>37.238268</td>\n      <td>2024-02-02 0:00</td>\n      <td>Non_Freezing</td>\n      <td>None</td>\n      <td>None</td>\n      <td>None</td>\n    </tr>\n    <tr>\n      <th>5019812</th>\n      <td>2348</td>\n      <td>127.499800</td>\n      <td>37.252091</td>\n      <td>2024-02-02 0:00</td>\n      <td>Non_Freezing</td>\n      <td>None</td>\n      <td>None</td>\n      <td>None</td>\n    </tr>\n  </tbody>\n</table>\n<p>2349 rows × 8 columns</p>\n</div>"
          },
          "metadata": {}
        }
      ],
      "execution_count": 16,
      "metadata": {
        "jupyter": {
          "source_hidden": false,
          "outputs_hidden": false
        },
        "nteract": {
          "transient": {
            "deleting": false
          }
        },
        "gather": {
          "logged": 1736992526764
        }
      }
    },
    {
      "cell_type": "code",
      "source": [
        "for i in range(0,24):\n",
        "    if i < 10:\n",
        "        dff['FCST_TM'].replace(f'2023-02-01 {i}:00',f'2023-02-01 0{i}:00:00',inplace=True)\n",
        "        dff['FCST_TM'].replace(f'2024-02-02 {i}:00',f'2024-02-02 0{i}:00:00',inplace=True)\n",
        "    else:\n",
        "        dff['FCST_TM'].replace(f'2023-02-01 {i}:00',f'2023-02-01 {i}:00:00',inplace=True)\n",
        "        dff['FCST_TM'].replace(f'2024-02-02 {i}:00',f'2024-02-02 {i}:00:00',inplace=True)"
      ],
      "outputs": [],
      "execution_count": 18,
      "metadata": {
        "jupyter": {
          "source_hidden": false,
          "outputs_hidden": false
        },
        "nteract": {
          "transient": {
            "deleting": false
          }
        },
        "gather": {
          "logged": 1736992934836
        }
      }
    },
    {
      "cell_type": "code",
      "source": [
        "dff[dff['FCST_TM'] == '2023-02-01 0:00']"
      ],
      "outputs": [
        {
          "output_type": "execute_result",
          "execution_count": 19,
          "data": {
            "text/plain": "Empty DataFrame\nColumns: [num, GRID_X, GRID_Y, FCST_TM, ICE_state, WS, TA_C, HM]\nIndex: []",
            "text/html": "<div>\n<style scoped>\n    .dataframe tbody tr th:only-of-type {\n        vertical-align: middle;\n    }\n\n    .dataframe tbody tr th {\n        vertical-align: top;\n    }\n\n    .dataframe thead th {\n        text-align: right;\n    }\n</style>\n<table border=\"1\" class=\"dataframe\">\n  <thead>\n    <tr style=\"text-align: right;\">\n      <th></th>\n      <th>num</th>\n      <th>GRID_X</th>\n      <th>GRID_Y</th>\n      <th>FCST_TM</th>\n      <th>ICE_state</th>\n      <th>WS</th>\n      <th>TA_C</th>\n      <th>HM</th>\n    </tr>\n  </thead>\n  <tbody>\n  </tbody>\n</table>\n</div>"
          },
          "metadata": {}
        }
      ],
      "execution_count": 19,
      "metadata": {
        "jupyter": {
          "source_hidden": false,
          "outputs_hidden": false
        },
        "nteract": {
          "transient": {
            "deleting": false
          }
        },
        "gather": {
          "logged": 1736992948586
        }
      }
    },
    {
      "cell_type": "code",
      "source": [
        "dff[dff['FCST_TM'] == '2024-02-02 0:00']"
      ],
      "outputs": [
        {
          "output_type": "execute_result",
          "execution_count": 20,
          "data": {
            "text/plain": "Empty DataFrame\nColumns: [num, GRID_X, GRID_Y, FCST_TM, ICE_state, WS, TA_C, HM]\nIndex: []",
            "text/html": "<div>\n<style scoped>\n    .dataframe tbody tr th:only-of-type {\n        vertical-align: middle;\n    }\n\n    .dataframe tbody tr th {\n        vertical-align: top;\n    }\n\n    .dataframe thead th {\n        text-align: right;\n    }\n</style>\n<table border=\"1\" class=\"dataframe\">\n  <thead>\n    <tr style=\"text-align: right;\">\n      <th></th>\n      <th>num</th>\n      <th>GRID_X</th>\n      <th>GRID_Y</th>\n      <th>FCST_TM</th>\n      <th>ICE_state</th>\n      <th>WS</th>\n      <th>TA_C</th>\n      <th>HM</th>\n    </tr>\n  </thead>\n  <tbody>\n  </tbody>\n</table>\n</div>"
          },
          "metadata": {}
        }
      ],
      "execution_count": 20,
      "metadata": {
        "jupyter": {
          "source_hidden": false,
          "outputs_hidden": false
        },
        "nteract": {
          "transient": {
            "deleting": false
          }
        },
        "gather": {
          "logged": 1736992960199
        }
      }
    },
    {
      "cell_type": "code",
      "source": [
        "dff[dff['FCST_TM'] == '2023-02-01 00:00:00']"
      ],
      "outputs": [
        {
          "output_type": "execute_result",
          "execution_count": 21,
          "data": {
            "text/plain": "          num      GRID_X     GRID_Y              FCST_TM      ICE_state  \\\n1634904     0  126.700114  37.191712  2023-02-01 00:00:00   Non_Freezing   \n1634905     1  126.700266  37.205535  2023-02-01 00:00:00   Non_Freezing   \n1634906     2  126.700417  37.219358  2023-02-01 00:00:00   Non_Freezing   \n1634907     3  126.700569  37.233181  2023-02-01 00:00:00   Non_Freezing   \n1634908     4  126.700721  37.247005  2023-02-01 00:00:00   Non_Freezing   \n...       ...         ...        ...                  ...            ...   \n1637248  2344  127.498500  37.196805  2023-02-01 00:00:00  Freezing_poss   \n1637249  2345  127.498825  37.210625  2023-02-01 00:00:00  Freezing_poss   \n1637250  2346  127.499150  37.224447  2023-02-01 00:00:00  Freezing_poss   \n1637251  2347  127.499475  37.238268  2023-02-01 00:00:00  Freezing_poss   \n1637252  2348  127.499800  37.252091  2023-02-01 00:00:00  Freezing_poss   \n\n           WS  TA_C    HM  \n1634904  None  None  None  \n1634905  None  None  None  \n1634906  None  None  None  \n1634907  None  None  None  \n1634908  None  None  None  \n...       ...   ...   ...  \n1637248  None  None  None  \n1637249  None  None  None  \n1637250  None  None  None  \n1637251  None  None  None  \n1637252  None  None  None  \n\n[2349 rows x 8 columns]",
            "text/html": "<div>\n<style scoped>\n    .dataframe tbody tr th:only-of-type {\n        vertical-align: middle;\n    }\n\n    .dataframe tbody tr th {\n        vertical-align: top;\n    }\n\n    .dataframe thead th {\n        text-align: right;\n    }\n</style>\n<table border=\"1\" class=\"dataframe\">\n  <thead>\n    <tr style=\"text-align: right;\">\n      <th></th>\n      <th>num</th>\n      <th>GRID_X</th>\n      <th>GRID_Y</th>\n      <th>FCST_TM</th>\n      <th>ICE_state</th>\n      <th>WS</th>\n      <th>TA_C</th>\n      <th>HM</th>\n    </tr>\n  </thead>\n  <tbody>\n    <tr>\n      <th>1634904</th>\n      <td>0</td>\n      <td>126.700114</td>\n      <td>37.191712</td>\n      <td>2023-02-01 00:00:00</td>\n      <td>Non_Freezing</td>\n      <td>None</td>\n      <td>None</td>\n      <td>None</td>\n    </tr>\n    <tr>\n      <th>1634905</th>\n      <td>1</td>\n      <td>126.700266</td>\n      <td>37.205535</td>\n      <td>2023-02-01 00:00:00</td>\n      <td>Non_Freezing</td>\n      <td>None</td>\n      <td>None</td>\n      <td>None</td>\n    </tr>\n    <tr>\n      <th>1634906</th>\n      <td>2</td>\n      <td>126.700417</td>\n      <td>37.219358</td>\n      <td>2023-02-01 00:00:00</td>\n      <td>Non_Freezing</td>\n      <td>None</td>\n      <td>None</td>\n      <td>None</td>\n    </tr>\n    <tr>\n      <th>1634907</th>\n      <td>3</td>\n      <td>126.700569</td>\n      <td>37.233181</td>\n      <td>2023-02-01 00:00:00</td>\n      <td>Non_Freezing</td>\n      <td>None</td>\n      <td>None</td>\n      <td>None</td>\n    </tr>\n    <tr>\n      <th>1634908</th>\n      <td>4</td>\n      <td>126.700721</td>\n      <td>37.247005</td>\n      <td>2023-02-01 00:00:00</td>\n      <td>Non_Freezing</td>\n      <td>None</td>\n      <td>None</td>\n      <td>None</td>\n    </tr>\n    <tr>\n      <th>...</th>\n      <td>...</td>\n      <td>...</td>\n      <td>...</td>\n      <td>...</td>\n      <td>...</td>\n      <td>...</td>\n      <td>...</td>\n      <td>...</td>\n    </tr>\n    <tr>\n      <th>1637248</th>\n      <td>2344</td>\n      <td>127.498500</td>\n      <td>37.196805</td>\n      <td>2023-02-01 00:00:00</td>\n      <td>Freezing_poss</td>\n      <td>None</td>\n      <td>None</td>\n      <td>None</td>\n    </tr>\n    <tr>\n      <th>1637249</th>\n      <td>2345</td>\n      <td>127.498825</td>\n      <td>37.210625</td>\n      <td>2023-02-01 00:00:00</td>\n      <td>Freezing_poss</td>\n      <td>None</td>\n      <td>None</td>\n      <td>None</td>\n    </tr>\n    <tr>\n      <th>1637250</th>\n      <td>2346</td>\n      <td>127.499150</td>\n      <td>37.224447</td>\n      <td>2023-02-01 00:00:00</td>\n      <td>Freezing_poss</td>\n      <td>None</td>\n      <td>None</td>\n      <td>None</td>\n    </tr>\n    <tr>\n      <th>1637251</th>\n      <td>2347</td>\n      <td>127.499475</td>\n      <td>37.238268</td>\n      <td>2023-02-01 00:00:00</td>\n      <td>Freezing_poss</td>\n      <td>None</td>\n      <td>None</td>\n      <td>None</td>\n    </tr>\n    <tr>\n      <th>1637252</th>\n      <td>2348</td>\n      <td>127.499800</td>\n      <td>37.252091</td>\n      <td>2023-02-01 00:00:00</td>\n      <td>Freezing_poss</td>\n      <td>None</td>\n      <td>None</td>\n      <td>None</td>\n    </tr>\n  </tbody>\n</table>\n<p>2349 rows × 8 columns</p>\n</div>"
          },
          "metadata": {}
        }
      ],
      "execution_count": 21,
      "metadata": {
        "jupyter": {
          "source_hidden": false,
          "outputs_hidden": false
        },
        "nteract": {
          "transient": {
            "deleting": false
          }
        },
        "gather": {
          "logged": 1736992970271
        }
      }
    },
    {
      "cell_type": "code",
      "source": [
        "dff[dff['FCST_TM'] == '2024-02-02 00:00:00']"
      ],
      "outputs": [
        {
          "output_type": "execute_result",
          "execution_count": 25,
          "data": {
            "text/plain": "          num      GRID_X     GRID_Y              FCST_TM      ICE_state  \\\n5017464     0  126.700114  37.191712  2024-02-02 00:00:00       Freezing   \n5017465     1  126.700266  37.205535  2024-02-02 00:00:00       Freezing   \n5017466     2  126.700417  37.219358  2024-02-02 00:00:00       Freezing   \n5017467     3  126.700569  37.233181  2024-02-02 00:00:00       Freezing   \n5017468     4  126.700721  37.247005  2024-02-02 00:00:00  Freezing_poss   \n...       ...         ...        ...                  ...            ...   \n5019808  2344  127.498500  37.196805  2024-02-02 00:00:00   Non_Freezing   \n5019809  2345  127.498825  37.210625  2024-02-02 00:00:00   Non_Freezing   \n5019810  2346  127.499150  37.224447  2024-02-02 00:00:00   Non_Freezing   \n5019811  2347  127.499475  37.238268  2024-02-02 00:00:00   Non_Freezing   \n5019812  2348  127.499800  37.252091  2024-02-02 00:00:00   Non_Freezing   \n\n           WS  TA_C    HM  \n5017464  None  None  None  \n5017465  None  None  None  \n5017466  None  None  None  \n5017467  None  None  None  \n5017468  None  None  None  \n...       ...   ...   ...  \n5019808  None  None  None  \n5019809  None  None  None  \n5019810  None  None  None  \n5019811  None  None  None  \n5019812  None  None  None  \n\n[2349 rows x 8 columns]",
            "text/html": "<div>\n<style scoped>\n    .dataframe tbody tr th:only-of-type {\n        vertical-align: middle;\n    }\n\n    .dataframe tbody tr th {\n        vertical-align: top;\n    }\n\n    .dataframe thead th {\n        text-align: right;\n    }\n</style>\n<table border=\"1\" class=\"dataframe\">\n  <thead>\n    <tr style=\"text-align: right;\">\n      <th></th>\n      <th>num</th>\n      <th>GRID_X</th>\n      <th>GRID_Y</th>\n      <th>FCST_TM</th>\n      <th>ICE_state</th>\n      <th>WS</th>\n      <th>TA_C</th>\n      <th>HM</th>\n    </tr>\n  </thead>\n  <tbody>\n    <tr>\n      <th>5017464</th>\n      <td>0</td>\n      <td>126.700114</td>\n      <td>37.191712</td>\n      <td>2024-02-02 00:00:00</td>\n      <td>Freezing</td>\n      <td>None</td>\n      <td>None</td>\n      <td>None</td>\n    </tr>\n    <tr>\n      <th>5017465</th>\n      <td>1</td>\n      <td>126.700266</td>\n      <td>37.205535</td>\n      <td>2024-02-02 00:00:00</td>\n      <td>Freezing</td>\n      <td>None</td>\n      <td>None</td>\n      <td>None</td>\n    </tr>\n    <tr>\n      <th>5017466</th>\n      <td>2</td>\n      <td>126.700417</td>\n      <td>37.219358</td>\n      <td>2024-02-02 00:00:00</td>\n      <td>Freezing</td>\n      <td>None</td>\n      <td>None</td>\n      <td>None</td>\n    </tr>\n    <tr>\n      <th>5017467</th>\n      <td>3</td>\n      <td>126.700569</td>\n      <td>37.233181</td>\n      <td>2024-02-02 00:00:00</td>\n      <td>Freezing</td>\n      <td>None</td>\n      <td>None</td>\n      <td>None</td>\n    </tr>\n    <tr>\n      <th>5017468</th>\n      <td>4</td>\n      <td>126.700721</td>\n      <td>37.247005</td>\n      <td>2024-02-02 00:00:00</td>\n      <td>Freezing_poss</td>\n      <td>None</td>\n      <td>None</td>\n      <td>None</td>\n    </tr>\n    <tr>\n      <th>...</th>\n      <td>...</td>\n      <td>...</td>\n      <td>...</td>\n      <td>...</td>\n      <td>...</td>\n      <td>...</td>\n      <td>...</td>\n      <td>...</td>\n    </tr>\n    <tr>\n      <th>5019808</th>\n      <td>2344</td>\n      <td>127.498500</td>\n      <td>37.196805</td>\n      <td>2024-02-02 00:00:00</td>\n      <td>Non_Freezing</td>\n      <td>None</td>\n      <td>None</td>\n      <td>None</td>\n    </tr>\n    <tr>\n      <th>5019809</th>\n      <td>2345</td>\n      <td>127.498825</td>\n      <td>37.210625</td>\n      <td>2024-02-02 00:00:00</td>\n      <td>Non_Freezing</td>\n      <td>None</td>\n      <td>None</td>\n      <td>None</td>\n    </tr>\n    <tr>\n      <th>5019810</th>\n      <td>2346</td>\n      <td>127.499150</td>\n      <td>37.224447</td>\n      <td>2024-02-02 00:00:00</td>\n      <td>Non_Freezing</td>\n      <td>None</td>\n      <td>None</td>\n      <td>None</td>\n    </tr>\n    <tr>\n      <th>5019811</th>\n      <td>2347</td>\n      <td>127.499475</td>\n      <td>37.238268</td>\n      <td>2024-02-02 00:00:00</td>\n      <td>Non_Freezing</td>\n      <td>None</td>\n      <td>None</td>\n      <td>None</td>\n    </tr>\n    <tr>\n      <th>5019812</th>\n      <td>2348</td>\n      <td>127.499800</td>\n      <td>37.252091</td>\n      <td>2024-02-02 00:00:00</td>\n      <td>Non_Freezing</td>\n      <td>None</td>\n      <td>None</td>\n      <td>None</td>\n    </tr>\n  </tbody>\n</table>\n<p>2349 rows × 8 columns</p>\n</div>"
          },
          "metadata": {}
        }
      ],
      "execution_count": 25,
      "metadata": {
        "jupyter": {
          "source_hidden": false,
          "outputs_hidden": false
        },
        "nteract": {
          "transient": {
            "deleting": false
          }
        },
        "gather": {
          "logged": 1736992993308
        }
      }
    },
    {
      "cell_type": "code",
      "source": [
        "!pip install geopy"
      ],
      "outputs": [
        {
          "output_type": "stream",
          "name": "stdout",
          "text": "Requirement already satisfied: geopy in /anaconda/envs/azureml_py38/lib/python3.10/site-packages (2.4.1)\r\nRequirement already satisfied: geographiclib<3,>=1.52 in /anaconda/envs/azureml_py38/lib/python3.10/site-packages (from geopy) (2.0)\r\n"
        }
      ],
      "execution_count": 15,
      "metadata": {
        "jupyter": {
          "source_hidden": false,
          "outputs_hidden": false
        },
        "nteract": {
          "transient": {
            "deleting": false
          }
        }
      }
    },
    {
      "cell_type": "code",
      "source": [
        "from geopy.distance import geodesic"
      ],
      "outputs": [],
      "execution_count": 26,
      "metadata": {
        "jupyter": {
          "source_hidden": false,
          "outputs_hidden": false
        },
        "nteract": {
          "transient": {
            "deleting": false
          }
        },
        "gather": {
          "logged": 1736993002438
        }
      }
    },
    {
      "cell_type": "code",
      "source": [
        "def haversine_distance(lat1, lon1, lat2, lon2):\n",
        "  # 위도와 경도의 차이 계산\n",
        "  lat1, lon1, lat2, lon2 = map(np.radians, [lat1,lon1,lat2,lon2])\n",
        "\n",
        "  # Haversine formula\n",
        "  dlat = lat2 - lat1\n",
        "  dlon = lon2 - lon1\n",
        "  a = np.sin(dlat / 2) ** 2 + np.cos(lat1) * np.cos(lat2) * np.sin(dlon / 2) ** 2\n",
        "  c = 2 * np.arcsin(np.sqrt(a))\n",
        "  radius = 3959   # Earth radius in miles\n",
        "\n",
        "  return radius * c"
      ],
      "outputs": [],
      "execution_count": 27,
      "metadata": {
        "jupyter": {
          "source_hidden": false,
          "outputs_hidden": false
        },
        "nteract": {
          "transient": {
            "deleting": false
          }
        },
        "gather": {
          "logged": 1736993003919
        }
      }
    },
    {
      "cell_type": "code",
      "source": [
        "address = [[37.57142,126.9658,108],[37.47772,126.6249,112],[37.90188,127.0607,98],[37.88589,126.76648,99],[37.25746,126.983,119],[37.48863,127.49446,202],[37.26399,127.48421,203]]\n",
        "\n",
        "# address 배열을 DataFrame으로 변환 (벡터화 연산을 위해)\n",
        "address_df = pd.DataFrame(address, columns = ['LAT','LON','STNID'])"
      ],
      "outputs": [],
      "execution_count": 28,
      "metadata": {
        "jupyter": {
          "source_hidden": false,
          "outputs_hidden": false
        },
        "nteract": {
          "transient": {
            "deleting": false
          }
        },
        "gather": {
          "logged": 1736993005250
        }
      }
    },
    {
      "cell_type": "code",
      "source": [
        "# 각 행에 대해 최단 거리 계산 및 필요한 값 추출\n",
        "def find_closest_station(row):\n",
        "    lat1, lon1 = row['GRID_Y'], row['GRID_X']\n",
        "    distances = haversine_distance(lat1, lon1, address_df['LAT'].values, address_df['LON'].values)\n",
        "    \n",
        "    # 거리값을 오름차순으로 정렬하여 첫 번째와 두 번째, 세 번째 최단 거리 인덱스를 찾음\n",
        "    sorted_idx = np.argsort(distances)\n",
        "\n",
        "    first_closest_idx = sorted_idx[0]\n",
        "    second_closest_idx = sorted_idx[1]\n",
        "    third_closest_idx = sorted_idx[2]\n",
        "\n",
        "    first_place = address_df.iloc[first_closest_idx]['STNID']\n",
        "    second_place = address_df.iloc[second_closest_idx]['STNID']\n",
        "    third_place = address_df.iloc[third_closest_idx]['STNID']\n",
        "\n",
        "    # 필요한 값 추출\n",
        "    station_data_first = dfw[(dfw['YYMMDDHHMI'] == row['FCST_TM']) & (dfw['STNID'] == first_place)]\n",
        "    station_data_second = dfw[(dfw['YYMMDDHHMI'] == row['FCST_TM']) & (dfw['STNID'] == second_place)]\n",
        "    station_data_third = dfw[(dfw['YYMMDDHHMI'] == row['FCST_TM']) & (dfw['STNID'] == third_place)]\n",
        "\n",
        "    # empty 여부에 따라 station_data 지정\n",
        "    if not station_data_first.empty:\n",
        "        station_data = station_data_first.iloc[0]\n",
        "    elif not station_data_second.empty:\n",
        "        station_data = station_data_second.iloc[0]\n",
        "    elif not station_data_third.empty:\n",
        "        station_data = station_data_third.iloc[0]\n",
        "    else:\n",
        "        station_data = dfw[(dfw['YYMMDDHHMI'] == row['FCST_TM']) & (dfw['STNID'] == address_df.iloc[sorted_idx[3]]['STNID'])].iloc[0]\n",
        "\n",
        "    return pd.Series({\n",
        "        'WS':station_data['WS'],\n",
        "        'TA_C':station_data['TA_C'],\n",
        "        'HM':station_data['HM']\n",
        "    })"
      ],
      "outputs": [],
      "execution_count": 29,
      "metadata": {
        "jupyter": {
          "source_hidden": false,
          "outputs_hidden": false
        },
        "nteract": {
          "transient": {
            "deleting": false
          }
        },
        "gather": {
          "logged": 1736993011587
        }
      }
    },
    {
      "cell_type": "code",
      "source": [
        "# 각 행에 대해 'find_closest_station' 함수 적용\n",
        "dff[['WS', 'TA_C', 'HM']] = dff.apply(find_closest_station, axis=1)"
      ],
      "outputs": [],
      "execution_count": 30,
      "metadata": {
        "jupyter": {
          "source_hidden": false,
          "outputs_hidden": false
        },
        "nteract": {
          "transient": {
            "deleting": false
          }
        },
        "gather": {
          "logged": 1737024972735
        }
      }
    },
    {
      "cell_type": "code",
      "source": [
        "# 결과 확인\n",
        "dff.head()"
      ],
      "outputs": [
        {
          "output_type": "execute_result",
          "execution_count": 31,
          "data": {
            "text/plain": "   num      GRID_X     GRID_Y              FCST_TM      ICE_state   WS  TA_C  \\\n0    0  126.700114  37.191712  2023-01-01 00:00:00  Freezing_poss  0.6  -4.6   \n1    1  126.700266  37.205535  2023-01-01 00:00:00  Freezing_poss  0.6  -4.6   \n2    2  126.700417  37.219358  2023-01-01 00:00:00  Freezing_poss  0.6  -4.6   \n3    3  126.700569  37.233181  2023-01-01 00:00:00  Freezing_poss  0.6  -4.6   \n4    4  126.700721  37.247005  2023-01-01 00:00:00  Freezing_poss  0.6  -4.6   \n\n     HM  \n0  94.0  \n1  94.0  \n2  94.0  \n3  94.0  \n4  94.0  ",
            "text/html": "<div>\n<style scoped>\n    .dataframe tbody tr th:only-of-type {\n        vertical-align: middle;\n    }\n\n    .dataframe tbody tr th {\n        vertical-align: top;\n    }\n\n    .dataframe thead th {\n        text-align: right;\n    }\n</style>\n<table border=\"1\" class=\"dataframe\">\n  <thead>\n    <tr style=\"text-align: right;\">\n      <th></th>\n      <th>num</th>\n      <th>GRID_X</th>\n      <th>GRID_Y</th>\n      <th>FCST_TM</th>\n      <th>ICE_state</th>\n      <th>WS</th>\n      <th>TA_C</th>\n      <th>HM</th>\n    </tr>\n  </thead>\n  <tbody>\n    <tr>\n      <th>0</th>\n      <td>0</td>\n      <td>126.700114</td>\n      <td>37.191712</td>\n      <td>2023-01-01 00:00:00</td>\n      <td>Freezing_poss</td>\n      <td>0.6</td>\n      <td>-4.6</td>\n      <td>94.0</td>\n    </tr>\n    <tr>\n      <th>1</th>\n      <td>1</td>\n      <td>126.700266</td>\n      <td>37.205535</td>\n      <td>2023-01-01 00:00:00</td>\n      <td>Freezing_poss</td>\n      <td>0.6</td>\n      <td>-4.6</td>\n      <td>94.0</td>\n    </tr>\n    <tr>\n      <th>2</th>\n      <td>2</td>\n      <td>126.700417</td>\n      <td>37.219358</td>\n      <td>2023-01-01 00:00:00</td>\n      <td>Freezing_poss</td>\n      <td>0.6</td>\n      <td>-4.6</td>\n      <td>94.0</td>\n    </tr>\n    <tr>\n      <th>3</th>\n      <td>3</td>\n      <td>126.700569</td>\n      <td>37.233181</td>\n      <td>2023-01-01 00:00:00</td>\n      <td>Freezing_poss</td>\n      <td>0.6</td>\n      <td>-4.6</td>\n      <td>94.0</td>\n    </tr>\n    <tr>\n      <th>4</th>\n      <td>4</td>\n      <td>126.700721</td>\n      <td>37.247005</td>\n      <td>2023-01-01 00:00:00</td>\n      <td>Freezing_poss</td>\n      <td>0.6</td>\n      <td>-4.6</td>\n      <td>94.0</td>\n    </tr>\n  </tbody>\n</table>\n</div>"
          },
          "metadata": {}
        }
      ],
      "execution_count": 31,
      "metadata": {
        "jupyter": {
          "source_hidden": false,
          "outputs_hidden": false
        },
        "nteract": {
          "transient": {
            "deleting": false
          }
        },
        "gather": {
          "logged": 1737025003268
        }
      }
    },
    {
      "cell_type": "code",
      "source": [
        "# 최적화 하지 않고 dff에 날씨 정보 넣는 코드\n",
        "'''\n",
        "for i in range(len(dff)):\n",
        "  loc = 9999\n",
        "  place = ''\n",
        "  temp_list = list(dfw[dfw['YYMMDDHHMI'] == dff.iloc[i]['FCST_TM']]['STNID'])\n",
        "  for j in range(len(address)):\n",
        "    temp = haversine_distance(dff.iloc[i]['GRID_Y'], dff.iloc[i]['GRID_X'], address[j][0], address[j][1])\n",
        "    if temp < loc:\n",
        "      if address[j][2] in temp_list:\n",
        "        loc = temp\n",
        "        place = address[j][2]\n",
        "  dff.loc[i,'WS'] = dfw[(dfw['YYMMDDHHMI'] == dff.iloc[i]['FCST_TM']) & (dfw['STNID'] == place)]['WS'].values[0]\n",
        "  dff.loc[i,'WS'] = dfw[(dfw['YYMMDDHHMI'] == dff.iloc[i]['FCST_TM']) & (dfw['STNID'] == place)]['PA'].values[0]\n",
        "  dff.loc[i,'WS'] = dfw[(dfw['YYMMDDHHMI'] == dff.iloc[i]['FCST_TM']) & (dfw['STNID'] == place)]['TA_C'].values[0]\n",
        "  dff.loc[i,'WS'] = dfw[(dfw['YYMMDDHHMI'] == dff.iloc[i]['FCST_TM']) & (dfw['STNID'] == place)]['HM'].values[0]\n",
        "  dff.loc[i,'WS'] = dfw[(dfw['YYMMDDHHMI'] == dff.iloc[i]['FCST_TM']) & (dfw['STNID'] == place)]['SDTOT'].values[0]\n",
        "'''"
      ],
      "outputs": [
        {
          "output_type": "execute_result",
          "execution_count": 32,
          "data": {
            "text/plain": "\"\\nfor i in range(len(dff)):\\n  loc = 9999\\n  place = ''\\n  temp_list = list(dfw[dfw['YYMMDDHHMI'] == dff.iloc[i]['FCST_TM']]['STNID'])\\n  for j in range(len(address)):\\n    temp = haversine_distance(dff.iloc[i]['GRID_Y'], dff.iloc[i]['GRID_X'], address[j][0], address[j][1])\\n    if temp < loc:\\n      if address[j][2] in temp_list:\\n        loc = temp\\n        place = address[j][2]\\n  dff.loc[i,'WS'] = dfw[(dfw['YYMMDDHHMI'] == dff.iloc[i]['FCST_TM']) & (dfw['STNID'] == place)]['WS'].values[0]\\n  dff.loc[i,'WS'] = dfw[(dfw['YYMMDDHHMI'] == dff.iloc[i]['FCST_TM']) & (dfw['STNID'] == place)]['PA'].values[0]\\n  dff.loc[i,'WS'] = dfw[(dfw['YYMMDDHHMI'] == dff.iloc[i]['FCST_TM']) & (dfw['STNID'] == place)]['TA_C'].values[0]\\n  dff.loc[i,'WS'] = dfw[(dfw['YYMMDDHHMI'] == dff.iloc[i]['FCST_TM']) & (dfw['STNID'] == place)]['HM'].values[0]\\n  dff.loc[i,'WS'] = dfw[(dfw['YYMMDDHHMI'] == dff.iloc[i]['FCST_TM']) & (dfw['STNID'] == place)]['SDTOT'].values[0]\\n\""
          },
          "metadata": {}
        }
      ],
      "execution_count": 32,
      "metadata": {
        "jupyter": {
          "source_hidden": false,
          "outputs_hidden": false
        },
        "nteract": {
          "transient": {
            "deleting": false
          }
        },
        "gather": {
          "logged": 1737025019446
        }
      }
    },
    {
      "cell_type": "code",
      "source": [
        "dff.to_csv('/mnt/batch/tasks/shared/LS_root/mounts/clusters/freezing/code/Users/tmxhs85/dff.csv',index=None)"
      ],
      "outputs": [],
      "execution_count": 33,
      "metadata": {
        "jupyter": {
          "source_hidden": false,
          "outputs_hidden": false
        },
        "nteract": {
          "transient": {
            "deleting": false
          }
        },
        "gather": {
          "logged": 1737025051596
        }
      }
    },
    {
      "cell_type": "code",
      "source": [
        "dfw.to_csv('/mnt/batch/tasks/shared/LS_root/mounts/clusters/freezing/code/Users/tmxhs85/dfw.csv',index=None)"
      ],
      "outputs": [],
      "execution_count": 34,
      "metadata": {
        "jupyter": {
          "source_hidden": false,
          "outputs_hidden": false
        },
        "nteract": {
          "transient": {
            "deleting": false
          }
        },
        "gather": {
          "logged": 1737025063816
        }
      }
    },
    {
      "cell_type": "code",
      "source": [
        "df = pd.read_csv('/mnt/batch/tasks/shared/LS_root/mounts/clusters/freezing/code/Users/tmxhs85/dff.csv')"
      ],
      "outputs": [],
      "execution_count": 35,
      "metadata": {
        "jupyter": {
          "source_hidden": false,
          "outputs_hidden": false
        },
        "nteract": {
          "transient": {
            "deleting": false
          }
        },
        "gather": {
          "logged": 1737025075377
        }
      }
    },
    {
      "cell_type": "code",
      "source": [
        "dw = pd.read_csv('/mnt/batch/tasks/shared/LS_root/mounts/clusters/freezing/code/Users/tmxhs85/dfw.csv')"
      ],
      "outputs": [],
      "execution_count": 36,
      "metadata": {
        "jupyter": {
          "source_hidden": false,
          "outputs_hidden": false
        },
        "nteract": {
          "transient": {
            "deleting": false
          }
        },
        "gather": {
          "logged": 1737025078967
        }
      }
    },
    {
      "cell_type": "code",
      "source": [
        "df.head(5)"
      ],
      "outputs": [
        {
          "output_type": "execute_result",
          "execution_count": 37,
          "data": {
            "text/plain": "   num      GRID_X     GRID_Y              FCST_TM      ICE_state   WS  TA_C  \\\n0    0  126.700114  37.191712  2023-01-01 00:00:00  Freezing_poss  0.6  -4.6   \n1    1  126.700266  37.205535  2023-01-01 00:00:00  Freezing_poss  0.6  -4.6   \n2    2  126.700417  37.219358  2023-01-01 00:00:00  Freezing_poss  0.6  -4.6   \n3    3  126.700569  37.233181  2023-01-01 00:00:00  Freezing_poss  0.6  -4.6   \n4    4  126.700721  37.247005  2023-01-01 00:00:00  Freezing_poss  0.6  -4.6   \n\n     HM  \n0  94.0  \n1  94.0  \n2  94.0  \n3  94.0  \n4  94.0  ",
            "text/html": "<div>\n<style scoped>\n    .dataframe tbody tr th:only-of-type {\n        vertical-align: middle;\n    }\n\n    .dataframe tbody tr th {\n        vertical-align: top;\n    }\n\n    .dataframe thead th {\n        text-align: right;\n    }\n</style>\n<table border=\"1\" class=\"dataframe\">\n  <thead>\n    <tr style=\"text-align: right;\">\n      <th></th>\n      <th>num</th>\n      <th>GRID_X</th>\n      <th>GRID_Y</th>\n      <th>FCST_TM</th>\n      <th>ICE_state</th>\n      <th>WS</th>\n      <th>TA_C</th>\n      <th>HM</th>\n    </tr>\n  </thead>\n  <tbody>\n    <tr>\n      <th>0</th>\n      <td>0</td>\n      <td>126.700114</td>\n      <td>37.191712</td>\n      <td>2023-01-01 00:00:00</td>\n      <td>Freezing_poss</td>\n      <td>0.6</td>\n      <td>-4.6</td>\n      <td>94.0</td>\n    </tr>\n    <tr>\n      <th>1</th>\n      <td>1</td>\n      <td>126.700266</td>\n      <td>37.205535</td>\n      <td>2023-01-01 00:00:00</td>\n      <td>Freezing_poss</td>\n      <td>0.6</td>\n      <td>-4.6</td>\n      <td>94.0</td>\n    </tr>\n    <tr>\n      <th>2</th>\n      <td>2</td>\n      <td>126.700417</td>\n      <td>37.219358</td>\n      <td>2023-01-01 00:00:00</td>\n      <td>Freezing_poss</td>\n      <td>0.6</td>\n      <td>-4.6</td>\n      <td>94.0</td>\n    </tr>\n    <tr>\n      <th>3</th>\n      <td>3</td>\n      <td>126.700569</td>\n      <td>37.233181</td>\n      <td>2023-01-01 00:00:00</td>\n      <td>Freezing_poss</td>\n      <td>0.6</td>\n      <td>-4.6</td>\n      <td>94.0</td>\n    </tr>\n    <tr>\n      <th>4</th>\n      <td>4</td>\n      <td>126.700721</td>\n      <td>37.247005</td>\n      <td>2023-01-01 00:00:00</td>\n      <td>Freezing_poss</td>\n      <td>0.6</td>\n      <td>-4.6</td>\n      <td>94.0</td>\n    </tr>\n  </tbody>\n</table>\n</div>"
          },
          "metadata": {}
        }
      ],
      "execution_count": 37,
      "metadata": {
        "jupyter": {
          "source_hidden": false,
          "outputs_hidden": false
        },
        "nteract": {
          "transient": {
            "deleting": false
          }
        },
        "gather": {
          "logged": 1737025081658
        }
      }
    },
    {
      "cell_type": "code",
      "source": [
        "df.head(10)"
      ],
      "outputs": [
        {
          "output_type": "execute_result",
          "execution_count": 38,
          "data": {
            "text/plain": "   num      GRID_X     GRID_Y              FCST_TM      ICE_state   WS  TA_C  \\\n0    0  126.700114  37.191712  2023-01-01 00:00:00  Freezing_poss  0.6  -4.6   \n1    1  126.700266  37.205535  2023-01-01 00:00:00  Freezing_poss  0.6  -4.6   \n2    2  126.700417  37.219358  2023-01-01 00:00:00  Freezing_poss  0.6  -4.6   \n3    3  126.700569  37.233181  2023-01-01 00:00:00  Freezing_poss  0.6  -4.6   \n4    4  126.700721  37.247005  2023-01-01 00:00:00  Freezing_poss  0.6  -4.6   \n5    5  126.700873  37.260830  2023-01-01 00:00:00   Non_Freezing  0.6  -4.6   \n6    6  126.701025  37.274655  2023-01-01 00:00:00   Non_Freezing  4.6   3.0   \n7    7  126.701178  37.288480  2023-01-01 00:00:00   Non_Freezing  4.6   3.0   \n8    8  126.701330  37.302306  2023-01-01 00:00:00   Non_Freezing  4.6   3.0   \n9    9  126.701482  37.316132  2023-01-01 00:00:00   Non_Freezing  4.6   3.0   \n\n     HM  \n0  94.0  \n1  94.0  \n2  94.0  \n3  94.0  \n4  94.0  \n5  94.0  \n6  62.0  \n7  62.0  \n8  62.0  \n9  62.0  ",
            "text/html": "<div>\n<style scoped>\n    .dataframe tbody tr th:only-of-type {\n        vertical-align: middle;\n    }\n\n    .dataframe tbody tr th {\n        vertical-align: top;\n    }\n\n    .dataframe thead th {\n        text-align: right;\n    }\n</style>\n<table border=\"1\" class=\"dataframe\">\n  <thead>\n    <tr style=\"text-align: right;\">\n      <th></th>\n      <th>num</th>\n      <th>GRID_X</th>\n      <th>GRID_Y</th>\n      <th>FCST_TM</th>\n      <th>ICE_state</th>\n      <th>WS</th>\n      <th>TA_C</th>\n      <th>HM</th>\n    </tr>\n  </thead>\n  <tbody>\n    <tr>\n      <th>0</th>\n      <td>0</td>\n      <td>126.700114</td>\n      <td>37.191712</td>\n      <td>2023-01-01 00:00:00</td>\n      <td>Freezing_poss</td>\n      <td>0.6</td>\n      <td>-4.6</td>\n      <td>94.0</td>\n    </tr>\n    <tr>\n      <th>1</th>\n      <td>1</td>\n      <td>126.700266</td>\n      <td>37.205535</td>\n      <td>2023-01-01 00:00:00</td>\n      <td>Freezing_poss</td>\n      <td>0.6</td>\n      <td>-4.6</td>\n      <td>94.0</td>\n    </tr>\n    <tr>\n      <th>2</th>\n      <td>2</td>\n      <td>126.700417</td>\n      <td>37.219358</td>\n      <td>2023-01-01 00:00:00</td>\n      <td>Freezing_poss</td>\n      <td>0.6</td>\n      <td>-4.6</td>\n      <td>94.0</td>\n    </tr>\n    <tr>\n      <th>3</th>\n      <td>3</td>\n      <td>126.700569</td>\n      <td>37.233181</td>\n      <td>2023-01-01 00:00:00</td>\n      <td>Freezing_poss</td>\n      <td>0.6</td>\n      <td>-4.6</td>\n      <td>94.0</td>\n    </tr>\n    <tr>\n      <th>4</th>\n      <td>4</td>\n      <td>126.700721</td>\n      <td>37.247005</td>\n      <td>2023-01-01 00:00:00</td>\n      <td>Freezing_poss</td>\n      <td>0.6</td>\n      <td>-4.6</td>\n      <td>94.0</td>\n    </tr>\n    <tr>\n      <th>5</th>\n      <td>5</td>\n      <td>126.700873</td>\n      <td>37.260830</td>\n      <td>2023-01-01 00:00:00</td>\n      <td>Non_Freezing</td>\n      <td>0.6</td>\n      <td>-4.6</td>\n      <td>94.0</td>\n    </tr>\n    <tr>\n      <th>6</th>\n      <td>6</td>\n      <td>126.701025</td>\n      <td>37.274655</td>\n      <td>2023-01-01 00:00:00</td>\n      <td>Non_Freezing</td>\n      <td>4.6</td>\n      <td>3.0</td>\n      <td>62.0</td>\n    </tr>\n    <tr>\n      <th>7</th>\n      <td>7</td>\n      <td>126.701178</td>\n      <td>37.288480</td>\n      <td>2023-01-01 00:00:00</td>\n      <td>Non_Freezing</td>\n      <td>4.6</td>\n      <td>3.0</td>\n      <td>62.0</td>\n    </tr>\n    <tr>\n      <th>8</th>\n      <td>8</td>\n      <td>126.701330</td>\n      <td>37.302306</td>\n      <td>2023-01-01 00:00:00</td>\n      <td>Non_Freezing</td>\n      <td>4.6</td>\n      <td>3.0</td>\n      <td>62.0</td>\n    </tr>\n    <tr>\n      <th>9</th>\n      <td>9</td>\n      <td>126.701482</td>\n      <td>37.316132</td>\n      <td>2023-01-01 00:00:00</td>\n      <td>Non_Freezing</td>\n      <td>4.6</td>\n      <td>3.0</td>\n      <td>62.0</td>\n    </tr>\n  </tbody>\n</table>\n</div>"
          },
          "metadata": {}
        }
      ],
      "execution_count": 38,
      "metadata": {
        "jupyter": {
          "source_hidden": false,
          "outputs_hidden": false
        },
        "nteract": {
          "transient": {
            "deleting": false
          }
        },
        "gather": {
          "logged": 1737025087630
        }
      }
    },
    {
      "cell_type": "code",
      "source": [
        "df.info()"
      ],
      "outputs": [
        {
          "output_type": "stream",
          "name": "stdout",
          "text": "<class 'pandas.core.frame.DataFrame'>\nRangeIndex: 6595992 entries, 0 to 6595991\nData columns (total 8 columns):\n #   Column     Dtype  \n---  ------     -----  \n 0   num        int64  \n 1   GRID_X     float64\n 2   GRID_Y     float64\n 3   FCST_TM    object \n 4   ICE_state  object \n 5   WS         float64\n 6   TA_C       float64\n 7   HM         float64\ndtypes: float64(5), int64(1), object(2)\nmemory usage: 402.6+ MB\n"
        }
      ],
      "execution_count": 39,
      "metadata": {
        "jupyter": {
          "source_hidden": false,
          "outputs_hidden": false
        },
        "nteract": {
          "transient": {
            "deleting": false
          }
        },
        "gather": {
          "logged": 1737025092397
        }
      }
    },
    {
      "cell_type": "code",
      "source": [
        "# 데이터 전처리"
      ],
      "outputs": [],
      "execution_count": 40,
      "metadata": {
        "jupyter": {
          "source_hidden": false,
          "outputs_hidden": false
        },
        "nteract": {
          "transient": {
            "deleting": false
          }
        },
        "gather": {
          "logged": 1737025097872
        }
      }
    },
    {
      "cell_type": "code",
      "source": [
        "train_df = df.drop(columns=['num'])"
      ],
      "outputs": [],
      "execution_count": 41,
      "metadata": {
        "jupyter": {
          "source_hidden": false,
          "outputs_hidden": false
        },
        "nteract": {
          "transient": {
            "deleting": false
          }
        },
        "gather": {
          "logged": 1737025100480
        }
      }
    },
    {
      "cell_type": "code",
      "source": [
        "train_df['FCST_TM'] = pd.to_datetime(train_df['FCST_TM'])"
      ],
      "outputs": [],
      "execution_count": 42,
      "metadata": {
        "jupyter": {
          "source_hidden": false,
          "outputs_hidden": false
        },
        "nteract": {
          "transient": {
            "deleting": false
          }
        },
        "gather": {
          "logged": 1737025103214
        }
      }
    },
    {
      "cell_type": "code",
      "source": [
        "train_df = train_df.astype({'WS':'float64','TA_C':'float64','HM':'float64'})"
      ],
      "outputs": [],
      "execution_count": 44,
      "metadata": {
        "jupyter": {
          "source_hidden": false,
          "outputs_hidden": false
        },
        "nteract": {
          "transient": {
            "deleting": false
          }
        },
        "gather": {
          "logged": 1737025129004
        }
      }
    },
    {
      "cell_type": "code",
      "source": [
        "train_df['Year'] = train_df['FCST_TM'].dt.year\n",
        "train_df['Month'] = train_df['FCST_TM'].dt.month\n",
        "train_df['Day'] = train_df['FCST_TM'].dt.day\n",
        "train_df['Hour'] = train_df['FCST_TM'].dt.hour"
      ],
      "outputs": [],
      "execution_count": 45,
      "metadata": {
        "jupyter": {
          "source_hidden": false,
          "outputs_hidden": false
        },
        "nteract": {
          "transient": {
            "deleting": false
          }
        },
        "gather": {
          "logged": 1737025131552
        }
      }
    },
    {
      "cell_type": "code",
      "source": [
        "train_df.head()"
      ],
      "outputs": [
        {
          "output_type": "execute_result",
          "execution_count": 46,
          "data": {
            "text/plain": "       GRID_X     GRID_Y    FCST_TM      ICE_state   WS  TA_C    HM  Year  \\\n0  126.700114  37.191712 2023-01-01  Freezing_poss  0.6  -4.6  94.0  2023   \n1  126.700266  37.205535 2023-01-01  Freezing_poss  0.6  -4.6  94.0  2023   \n2  126.700417  37.219358 2023-01-01  Freezing_poss  0.6  -4.6  94.0  2023   \n3  126.700569  37.233181 2023-01-01  Freezing_poss  0.6  -4.6  94.0  2023   \n4  126.700721  37.247005 2023-01-01  Freezing_poss  0.6  -4.6  94.0  2023   \n\n   Month  Day  Hour  \n0      1    1     0  \n1      1    1     0  \n2      1    1     0  \n3      1    1     0  \n4      1    1     0  ",
            "text/html": "<div>\n<style scoped>\n    .dataframe tbody tr th:only-of-type {\n        vertical-align: middle;\n    }\n\n    .dataframe tbody tr th {\n        vertical-align: top;\n    }\n\n    .dataframe thead th {\n        text-align: right;\n    }\n</style>\n<table border=\"1\" class=\"dataframe\">\n  <thead>\n    <tr style=\"text-align: right;\">\n      <th></th>\n      <th>GRID_X</th>\n      <th>GRID_Y</th>\n      <th>FCST_TM</th>\n      <th>ICE_state</th>\n      <th>WS</th>\n      <th>TA_C</th>\n      <th>HM</th>\n      <th>Year</th>\n      <th>Month</th>\n      <th>Day</th>\n      <th>Hour</th>\n    </tr>\n  </thead>\n  <tbody>\n    <tr>\n      <th>0</th>\n      <td>126.700114</td>\n      <td>37.191712</td>\n      <td>2023-01-01</td>\n      <td>Freezing_poss</td>\n      <td>0.6</td>\n      <td>-4.6</td>\n      <td>94.0</td>\n      <td>2023</td>\n      <td>1</td>\n      <td>1</td>\n      <td>0</td>\n    </tr>\n    <tr>\n      <th>1</th>\n      <td>126.700266</td>\n      <td>37.205535</td>\n      <td>2023-01-01</td>\n      <td>Freezing_poss</td>\n      <td>0.6</td>\n      <td>-4.6</td>\n      <td>94.0</td>\n      <td>2023</td>\n      <td>1</td>\n      <td>1</td>\n      <td>0</td>\n    </tr>\n    <tr>\n      <th>2</th>\n      <td>126.700417</td>\n      <td>37.219358</td>\n      <td>2023-01-01</td>\n      <td>Freezing_poss</td>\n      <td>0.6</td>\n      <td>-4.6</td>\n      <td>94.0</td>\n      <td>2023</td>\n      <td>1</td>\n      <td>1</td>\n      <td>0</td>\n    </tr>\n    <tr>\n      <th>3</th>\n      <td>126.700569</td>\n      <td>37.233181</td>\n      <td>2023-01-01</td>\n      <td>Freezing_poss</td>\n      <td>0.6</td>\n      <td>-4.6</td>\n      <td>94.0</td>\n      <td>2023</td>\n      <td>1</td>\n      <td>1</td>\n      <td>0</td>\n    </tr>\n    <tr>\n      <th>4</th>\n      <td>126.700721</td>\n      <td>37.247005</td>\n      <td>2023-01-01</td>\n      <td>Freezing_poss</td>\n      <td>0.6</td>\n      <td>-4.6</td>\n      <td>94.0</td>\n      <td>2023</td>\n      <td>1</td>\n      <td>1</td>\n      <td>0</td>\n    </tr>\n  </tbody>\n</table>\n</div>"
          },
          "metadata": {}
        }
      ],
      "execution_count": 46,
      "metadata": {
        "jupyter": {
          "source_hidden": false,
          "outputs_hidden": false
        },
        "nteract": {
          "transient": {
            "deleting": false
          }
        },
        "gather": {
          "logged": 1737025150302
        }
      }
    },
    {
      "cell_type": "code",
      "source": [
        "train_df = train_df.drop(columns=['FCST_TM'])"
      ],
      "outputs": [],
      "execution_count": 47,
      "metadata": {
        "jupyter": {
          "source_hidden": false,
          "outputs_hidden": false
        },
        "nteract": {
          "transient": {
            "deleting": false
          }
        },
        "gather": {
          "logged": 1737025207067
        }
      }
    },
    {
      "cell_type": "code",
      "source": [
        "train_df.head()"
      ],
      "outputs": [
        {
          "output_type": "execute_result",
          "execution_count": 48,
          "data": {
            "text/plain": "       GRID_X     GRID_Y      ICE_state   WS  TA_C    HM  Year  Month  Day  \\\n0  126.700114  37.191712  Freezing_poss  0.6  -4.6  94.0  2023      1    1   \n1  126.700266  37.205535  Freezing_poss  0.6  -4.6  94.0  2023      1    1   \n2  126.700417  37.219358  Freezing_poss  0.6  -4.6  94.0  2023      1    1   \n3  126.700569  37.233181  Freezing_poss  0.6  -4.6  94.0  2023      1    1   \n4  126.700721  37.247005  Freezing_poss  0.6  -4.6  94.0  2023      1    1   \n\n   Hour  \n0     0  \n1     0  \n2     0  \n3     0  \n4     0  ",
            "text/html": "<div>\n<style scoped>\n    .dataframe tbody tr th:only-of-type {\n        vertical-align: middle;\n    }\n\n    .dataframe tbody tr th {\n        vertical-align: top;\n    }\n\n    .dataframe thead th {\n        text-align: right;\n    }\n</style>\n<table border=\"1\" class=\"dataframe\">\n  <thead>\n    <tr style=\"text-align: right;\">\n      <th></th>\n      <th>GRID_X</th>\n      <th>GRID_Y</th>\n      <th>ICE_state</th>\n      <th>WS</th>\n      <th>TA_C</th>\n      <th>HM</th>\n      <th>Year</th>\n      <th>Month</th>\n      <th>Day</th>\n      <th>Hour</th>\n    </tr>\n  </thead>\n  <tbody>\n    <tr>\n      <th>0</th>\n      <td>126.700114</td>\n      <td>37.191712</td>\n      <td>Freezing_poss</td>\n      <td>0.6</td>\n      <td>-4.6</td>\n      <td>94.0</td>\n      <td>2023</td>\n      <td>1</td>\n      <td>1</td>\n      <td>0</td>\n    </tr>\n    <tr>\n      <th>1</th>\n      <td>126.700266</td>\n      <td>37.205535</td>\n      <td>Freezing_poss</td>\n      <td>0.6</td>\n      <td>-4.6</td>\n      <td>94.0</td>\n      <td>2023</td>\n      <td>1</td>\n      <td>1</td>\n      <td>0</td>\n    </tr>\n    <tr>\n      <th>2</th>\n      <td>126.700417</td>\n      <td>37.219358</td>\n      <td>Freezing_poss</td>\n      <td>0.6</td>\n      <td>-4.6</td>\n      <td>94.0</td>\n      <td>2023</td>\n      <td>1</td>\n      <td>1</td>\n      <td>0</td>\n    </tr>\n    <tr>\n      <th>3</th>\n      <td>126.700569</td>\n      <td>37.233181</td>\n      <td>Freezing_poss</td>\n      <td>0.6</td>\n      <td>-4.6</td>\n      <td>94.0</td>\n      <td>2023</td>\n      <td>1</td>\n      <td>1</td>\n      <td>0</td>\n    </tr>\n    <tr>\n      <th>4</th>\n      <td>126.700721</td>\n      <td>37.247005</td>\n      <td>Freezing_poss</td>\n      <td>0.6</td>\n      <td>-4.6</td>\n      <td>94.0</td>\n      <td>2023</td>\n      <td>1</td>\n      <td>1</td>\n      <td>0</td>\n    </tr>\n  </tbody>\n</table>\n</div>"
          },
          "metadata": {}
        }
      ],
      "execution_count": 48,
      "metadata": {
        "jupyter": {
          "source_hidden": false,
          "outputs_hidden": false
        },
        "nteract": {
          "transient": {
            "deleting": false
          }
        },
        "gather": {
          "logged": 1737025212800
        }
      }
    },
    {
      "cell_type": "code",
      "source": [
        "from sklearn.ensemble import RandomForestClassifier\n",
        "from sklearn.model_selection import train_test_split\n",
        "from sklearn.preprocessing import LabelEncoder\n",
        "from sklearn.metrics import accuracy_score"
      ],
      "outputs": [],
      "execution_count": 29,
      "metadata": {
        "jupyter": {
          "source_hidden": false,
          "outputs_hidden": false
        },
        "nteract": {
          "transient": {
            "deleting": false
          }
        },
        "gather": {
          "logged": 1737468663282
        }
      }
    },
    {
      "cell_type": "code",
      "source": [
        "le = LabelEncoder()\n",
        "le.fit(train_df['ICE_state'])\n",
        "ice_label = le.transform(train_df['ICE_state'])"
      ],
      "outputs": [],
      "execution_count": 50,
      "metadata": {
        "jupyter": {
          "source_hidden": false,
          "outputs_hidden": false
        },
        "nteract": {
          "transient": {
            "deleting": false
          }
        },
        "gather": {
          "logged": 1737025235036
        }
      }
    },
    {
      "cell_type": "code",
      "source": [
        "ice_label"
      ],
      "outputs": [
        {
          "output_type": "execute_result",
          "execution_count": 51,
          "data": {
            "text/plain": "array([1, 1, 1, ..., 2, 2, 2])"
          },
          "metadata": {}
        }
      ],
      "execution_count": 51,
      "metadata": {
        "jupyter": {
          "source_hidden": false,
          "outputs_hidden": false
        },
        "nteract": {
          "transient": {
            "deleting": false
          }
        },
        "gather": {
          "logged": 1737025236384
        }
      }
    },
    {
      "cell_type": "code",
      "source": [
        "train_df['ICE_state'] = ice_label"
      ],
      "outputs": [],
      "execution_count": 52,
      "metadata": {
        "jupyter": {
          "source_hidden": false,
          "outputs_hidden": false
        },
        "nteract": {
          "transient": {
            "deleting": false
          }
        },
        "gather": {
          "logged": 1737025237834
        }
      }
    },
    {
      "cell_type": "code",
      "source": [
        "train_df.head()"
      ],
      "outputs": [
        {
          "output_type": "execute_result",
          "execution_count": 53,
          "data": {
            "text/plain": "       GRID_X     GRID_Y  ICE_state   WS  TA_C    HM  Year  Month  Day  Hour\n0  126.700114  37.191712          1  0.6  -4.6  94.0  2023      1    1     0\n1  126.700266  37.205535          1  0.6  -4.6  94.0  2023      1    1     0\n2  126.700417  37.219358          1  0.6  -4.6  94.0  2023      1    1     0\n3  126.700569  37.233181          1  0.6  -4.6  94.0  2023      1    1     0\n4  126.700721  37.247005          1  0.6  -4.6  94.0  2023      1    1     0",
            "text/html": "<div>\n<style scoped>\n    .dataframe tbody tr th:only-of-type {\n        vertical-align: middle;\n    }\n\n    .dataframe tbody tr th {\n        vertical-align: top;\n    }\n\n    .dataframe thead th {\n        text-align: right;\n    }\n</style>\n<table border=\"1\" class=\"dataframe\">\n  <thead>\n    <tr style=\"text-align: right;\">\n      <th></th>\n      <th>GRID_X</th>\n      <th>GRID_Y</th>\n      <th>ICE_state</th>\n      <th>WS</th>\n      <th>TA_C</th>\n      <th>HM</th>\n      <th>Year</th>\n      <th>Month</th>\n      <th>Day</th>\n      <th>Hour</th>\n    </tr>\n  </thead>\n  <tbody>\n    <tr>\n      <th>0</th>\n      <td>126.700114</td>\n      <td>37.191712</td>\n      <td>1</td>\n      <td>0.6</td>\n      <td>-4.6</td>\n      <td>94.0</td>\n      <td>2023</td>\n      <td>1</td>\n      <td>1</td>\n      <td>0</td>\n    </tr>\n    <tr>\n      <th>1</th>\n      <td>126.700266</td>\n      <td>37.205535</td>\n      <td>1</td>\n      <td>0.6</td>\n      <td>-4.6</td>\n      <td>94.0</td>\n      <td>2023</td>\n      <td>1</td>\n      <td>1</td>\n      <td>0</td>\n    </tr>\n    <tr>\n      <th>2</th>\n      <td>126.700417</td>\n      <td>37.219358</td>\n      <td>1</td>\n      <td>0.6</td>\n      <td>-4.6</td>\n      <td>94.0</td>\n      <td>2023</td>\n      <td>1</td>\n      <td>1</td>\n      <td>0</td>\n    </tr>\n    <tr>\n      <th>3</th>\n      <td>126.700569</td>\n      <td>37.233181</td>\n      <td>1</td>\n      <td>0.6</td>\n      <td>-4.6</td>\n      <td>94.0</td>\n      <td>2023</td>\n      <td>1</td>\n      <td>1</td>\n      <td>0</td>\n    </tr>\n    <tr>\n      <th>4</th>\n      <td>126.700721</td>\n      <td>37.247005</td>\n      <td>1</td>\n      <td>0.6</td>\n      <td>-4.6</td>\n      <td>94.0</td>\n      <td>2023</td>\n      <td>1</td>\n      <td>1</td>\n      <td>0</td>\n    </tr>\n  </tbody>\n</table>\n</div>"
          },
          "metadata": {}
        }
      ],
      "execution_count": 53,
      "metadata": {
        "jupyter": {
          "source_hidden": false,
          "outputs_hidden": false
        },
        "nteract": {
          "transient": {
            "deleting": false
          }
        },
        "gather": {
          "logged": 1737025253247
        }
      }
    },
    {
      "cell_type": "code",
      "source": [
        "train_df.to_csv('/mnt/batch/tasks/shared/LS_root/mounts/clusters/freezing/code/Users/tmxhs85/train_df.csv',index=None)"
      ],
      "outputs": [],
      "execution_count": 54,
      "metadata": {
        "jupyter": {
          "source_hidden": false,
          "outputs_hidden": false
        },
        "nteract": {
          "transient": {
            "deleting": false
          }
        },
        "gather": {
          "logged": 1737025467439
        }
      }
    },
    {
      "cell_type": "code",
      "source": [
        "train_df = pd.read_csv('/mnt/batch/tasks/shared/LS_root/mounts/clusters/gpu/code/Users/tmxhs85/train_df.csv')"
      ],
      "outputs": [],
      "execution_count": 30,
      "metadata": {
        "jupyter": {
          "source_hidden": false,
          "outputs_hidden": false
        },
        "nteract": {
          "transient": {
            "deleting": false
          }
        },
        "gather": {
          "logged": 1737468673660
        }
      }
    },
    {
      "cell_type": "code",
      "source": [
        "X = train_df[['GRID_X','GRID_Y','Year','Month','Day','Hour','WS','TA_C','HM']]"
      ],
      "outputs": [],
      "execution_count": 31,
      "metadata": {
        "jupyter": {
          "source_hidden": false,
          "outputs_hidden": false
        },
        "nteract": {
          "transient": {
            "deleting": false
          }
        },
        "gather": {
          "logged": 1737468678464
        }
      }
    },
    {
      "cell_type": "code",
      "source": [
        "Y = train_df['ICE_state']"
      ],
      "outputs": [],
      "execution_count": 32,
      "metadata": {
        "jupyter": {
          "source_hidden": false,
          "outputs_hidden": false
        },
        "nteract": {
          "transient": {
            "deleting": false
          }
        },
        "gather": {
          "logged": 1737468678816
        }
      }
    },
    {
      "cell_type": "code",
      "source": [
        "x_train, x_test, y_train, y_test = train_test_split(X,Y,test_size=0.2,shuffle=True,random_state=42)"
      ],
      "outputs": [],
      "execution_count": 33,
      "metadata": {
        "jupyter": {
          "source_hidden": false,
          "outputs_hidden": false
        },
        "nteract": {
          "transient": {
            "deleting": false
          }
        },
        "gather": {
          "logged": 1737468681422
        }
      }
    },
    {
      "cell_type": "code",
      "source": [
        "from sklearn.preprocessing import StandardScaler\n",
        "from sklearn.model_selection import GridSearchCV"
      ],
      "outputs": [],
      "execution_count": 34,
      "metadata": {
        "jupyter": {
          "source_hidden": false,
          "outputs_hidden": false
        },
        "nteract": {
          "transient": {
            "deleting": false
          }
        },
        "gather": {
          "logged": 1737468682314
        }
      }
    },
    {
      "cell_type": "code",
      "source": [
        "std = StandardScaler()\n",
        "std.fit(x_train)\n",
        "x_train_scaled = std.transform(x_train)\n",
        "x_test_scaled = std.transform(x_test)"
      ],
      "outputs": [],
      "execution_count": 35,
      "metadata": {
        "jupyter": {
          "source_hidden": false,
          "outputs_hidden": false
        },
        "nteract": {
          "transient": {
            "deleting": false
          }
        },
        "gather": {
          "logged": 1737468683908
        }
      }
    },
    {
      "cell_type": "code",
      "source": [
        "params = {\n",
        "    'n_estimators':[100,200,300,400,500],\n",
        "    'max_depth':[3,6,9,12,15]\n",
        "}"
      ],
      "outputs": [],
      "execution_count": 10,
      "metadata": {
        "jupyter": {
          "source_hidden": false,
          "outputs_hidden": false
        },
        "nteract": {
          "transient": {
            "deleting": false
          }
        },
        "gather": {
          "logged": 1737081405673
        }
      }
    },
    {
      "cell_type": "code",
      "source": [
        "clf = RandomForestClassifier(random_state=42)\n",
        "grid_cv = GridSearchCV(clf,param_grid=params,cv=2,n_jobs=2,verbose=2)\n",
        "grid_cv.fit(x_train_scaled,y_train)"
      ],
      "outputs": [
        {
          "output_type": "stream",
          "name": "stdout",
          "text": "Fitting 2 folds for each of 25 candidates, totalling 50 fits\n[CV] END .....................max_depth=15, n_estimators=200; total time=13.4min\n[CV] END .....................max_depth=15, n_estimators=300; total time=21.1min\n[CV] END ......................max_depth=3, n_estimators=100; total time= 2.3min\n[CV] END ......................max_depth=3, n_estimators=200; total time= 5.0min\n[CV] END ......................max_depth=3, n_estimators=300; total time= 7.2min\n[CV] END ......................max_depth=3, n_estimators=400; total time= 9.5min\n[CV] END ......................max_depth=3, n_estimators=500; total time=11.8min\n[CV] END ......................max_depth=6, n_estimators=100; total time= 3.9min\n[CV] END ......................max_depth=6, n_estimators=200; total time= 7.8min\n[CV] END ......................max_depth=6, n_estimators=300; total time=11.8min\n[CV] END ......................max_depth=6, n_estimators=400; total time=15.4min\n[CV] END ......................max_depth=6, n_estimators=500; total time=19.0min\n[CV] END ......................max_depth=9, n_estimators=100; total time= 4.9min\n[CV] END ......................max_depth=9, n_estimators=200; total time= 9.8min\n[CV] END ......................max_depth=9, n_estimators=300; total time=14.7min\n[CV] END ......................max_depth=9, n_estimators=400; total time=19.6min\n[CV] END ......................max_depth=9, n_estimators=500; total time=24.6min\n[CV] END .....................max_depth=12, n_estimators=100; total time= 6.1min\n[CV] END .....................max_depth=12, n_estimators=200; total time=12.3min\n[CV] END .....................max_depth=12, n_estimators=300; total time=18.2min\n[CV] END .....................max_depth=12, n_estimators=400; total time=24.3min\n[CV] END .....................max_depth=12, n_estimators=500; total time=30.4min\n[CV] END .....................max_depth=15, n_estimators=100; total time= 6.9min\n[CV] END .....................max_depth=15, n_estimators=200; total time=13.8min\n[CV] END .....................max_depth=15, n_estimators=300; total time=20.8min\n[CV] END .....................max_depth=15, n_estimators=400; total time=27.7min\n[CV] END .....................max_depth=15, n_estimators=400; total time=26.9min\n[CV] END .....................max_depth=15, n_estimators=500; total time=36.1min\n[CV] END .....................max_depth=15, n_estimators=500; total time=33.6min\n"
        },
        {
          "output_type": "stream",
          "name": "stderr",
          "text": "/anaconda/envs/azureml_py38/lib/python3.10/site-packages/joblib/externals/loky/process_executor.py:700: UserWarning: A worker stopped while some jobs were given to the executor. This can be caused by a too short worker timeout or by a memory leak.\n  warnings.warn(\n"
        },
        {
          "output_type": "execute_result",
          "execution_count": 61,
          "data": {
            "text/plain": "GridSearchCV(cv=2, estimator=RandomForestClassifier(random_state=42), n_jobs=2,\n             param_grid={'max_depth': [3, 6, 9, 12, 15],\n                         'n_estimators': [100, 200, 300, 400, 500]},\n             verbose=2)",
            "text/html": "<style>#sk-container-id-1 {\n  /* Definition of color scheme common for light and dark mode */\n  --sklearn-color-text: black;\n  --sklearn-color-line: gray;\n  /* Definition of color scheme for unfitted estimators */\n  --sklearn-color-unfitted-level-0: #fff5e6;\n  --sklearn-color-unfitted-level-1: #f6e4d2;\n  --sklearn-color-unfitted-level-2: #ffe0b3;\n  --sklearn-color-unfitted-level-3: chocolate;\n  /* Definition of color scheme for fitted estimators */\n  --sklearn-color-fitted-level-0: #f0f8ff;\n  --sklearn-color-fitted-level-1: #d4ebff;\n  --sklearn-color-fitted-level-2: #b3dbfd;\n  --sklearn-color-fitted-level-3: cornflowerblue;\n\n  /* Specific color for light theme */\n  --sklearn-color-text-on-default-background: var(--sg-text-color, var(--theme-code-foreground, var(--jp-content-font-color1, black)));\n  --sklearn-color-background: var(--sg-background-color, var(--theme-background, var(--jp-layout-color0, white)));\n  --sklearn-color-border-box: var(--sg-text-color, var(--theme-code-foreground, var(--jp-content-font-color1, black)));\n  --sklearn-color-icon: #696969;\n\n  @media (prefers-color-scheme: dark) {\n    /* Redefinition of color scheme for dark theme */\n    --sklearn-color-text-on-default-background: var(--sg-text-color, var(--theme-code-foreground, var(--jp-content-font-color1, white)));\n    --sklearn-color-background: var(--sg-background-color, var(--theme-background, var(--jp-layout-color0, #111)));\n    --sklearn-color-border-box: var(--sg-text-color, var(--theme-code-foreground, var(--jp-content-font-color1, white)));\n    --sklearn-color-icon: #878787;\n  }\n}\n\n#sk-container-id-1 {\n  color: var(--sklearn-color-text);\n}\n\n#sk-container-id-1 pre {\n  padding: 0;\n}\n\n#sk-container-id-1 input.sk-hidden--visually {\n  border: 0;\n  clip: rect(1px 1px 1px 1px);\n  clip: rect(1px, 1px, 1px, 1px);\n  height: 1px;\n  margin: -1px;\n  overflow: hidden;\n  padding: 0;\n  position: absolute;\n  width: 1px;\n}\n\n#sk-container-id-1 div.sk-dashed-wrapped {\n  border: 1px dashed var(--sklearn-color-line);\n  margin: 0 0.4em 0.5em 0.4em;\n  box-sizing: border-box;\n  padding-bottom: 0.4em;\n  background-color: var(--sklearn-color-background);\n}\n\n#sk-container-id-1 div.sk-container {\n  /* jupyter's `normalize.less` sets `[hidden] { display: none; }`\n     but bootstrap.min.css set `[hidden] { display: none !important; }`\n     so we also need the `!important` here to be able to override the\n     default hidden behavior on the sphinx rendered scikit-learn.org.\n     See: https://github.com/scikit-learn/scikit-learn/issues/21755 */\n  display: inline-block !important;\n  position: relative;\n}\n\n#sk-container-id-1 div.sk-text-repr-fallback {\n  display: none;\n}\n\ndiv.sk-parallel-item,\ndiv.sk-serial,\ndiv.sk-item {\n  /* draw centered vertical line to link estimators */\n  background-image: linear-gradient(var(--sklearn-color-text-on-default-background), var(--sklearn-color-text-on-default-background));\n  background-size: 2px 100%;\n  background-repeat: no-repeat;\n  background-position: center center;\n}\n\n/* Parallel-specific style estimator block */\n\n#sk-container-id-1 div.sk-parallel-item::after {\n  content: \"\";\n  width: 100%;\n  border-bottom: 2px solid var(--sklearn-color-text-on-default-background);\n  flex-grow: 1;\n}\n\n#sk-container-id-1 div.sk-parallel {\n  display: flex;\n  align-items: stretch;\n  justify-content: center;\n  background-color: var(--sklearn-color-background);\n  position: relative;\n}\n\n#sk-container-id-1 div.sk-parallel-item {\n  display: flex;\n  flex-direction: column;\n}\n\n#sk-container-id-1 div.sk-parallel-item:first-child::after {\n  align-self: flex-end;\n  width: 50%;\n}\n\n#sk-container-id-1 div.sk-parallel-item:last-child::after {\n  align-self: flex-start;\n  width: 50%;\n}\n\n#sk-container-id-1 div.sk-parallel-item:only-child::after {\n  width: 0;\n}\n\n/* Serial-specific style estimator block */\n\n#sk-container-id-1 div.sk-serial {\n  display: flex;\n  flex-direction: column;\n  align-items: center;\n  background-color: var(--sklearn-color-background);\n  padding-right: 1em;\n  padding-left: 1em;\n}\n\n\n/* Toggleable style: style used for estimator/Pipeline/ColumnTransformer box that is\nclickable and can be expanded/collapsed.\n- Pipeline and ColumnTransformer use this feature and define the default style\n- Estimators will overwrite some part of the style using the `sk-estimator` class\n*/\n\n/* Pipeline and ColumnTransformer style (default) */\n\n#sk-container-id-1 div.sk-toggleable {\n  /* Default theme specific background. It is overwritten whether we have a\n  specific estimator or a Pipeline/ColumnTransformer */\n  background-color: var(--sklearn-color-background);\n}\n\n/* Toggleable label */\n#sk-container-id-1 label.sk-toggleable__label {\n  cursor: pointer;\n  display: block;\n  width: 100%;\n  margin-bottom: 0;\n  padding: 0.5em;\n  box-sizing: border-box;\n  text-align: center;\n}\n\n#sk-container-id-1 label.sk-toggleable__label-arrow:before {\n  /* Arrow on the left of the label */\n  content: \"▸\";\n  float: left;\n  margin-right: 0.25em;\n  color: var(--sklearn-color-icon);\n}\n\n#sk-container-id-1 label.sk-toggleable__label-arrow:hover:before {\n  color: var(--sklearn-color-text);\n}\n\n/* Toggleable content - dropdown */\n\n#sk-container-id-1 div.sk-toggleable__content {\n  max-height: 0;\n  max-width: 0;\n  overflow: hidden;\n  text-align: left;\n  /* unfitted */\n  background-color: var(--sklearn-color-unfitted-level-0);\n}\n\n#sk-container-id-1 div.sk-toggleable__content.fitted {\n  /* fitted */\n  background-color: var(--sklearn-color-fitted-level-0);\n}\n\n#sk-container-id-1 div.sk-toggleable__content pre {\n  margin: 0.2em;\n  border-radius: 0.25em;\n  color: var(--sklearn-color-text);\n  /* unfitted */\n  background-color: var(--sklearn-color-unfitted-level-0);\n}\n\n#sk-container-id-1 div.sk-toggleable__content.fitted pre {\n  /* unfitted */\n  background-color: var(--sklearn-color-fitted-level-0);\n}\n\n#sk-container-id-1 input.sk-toggleable__control:checked~div.sk-toggleable__content {\n  /* Expand drop-down */\n  max-height: 200px;\n  max-width: 100%;\n  overflow: auto;\n}\n\n#sk-container-id-1 input.sk-toggleable__control:checked~label.sk-toggleable__label-arrow:before {\n  content: \"▾\";\n}\n\n/* Pipeline/ColumnTransformer-specific style */\n\n#sk-container-id-1 div.sk-label input.sk-toggleable__control:checked~label.sk-toggleable__label {\n  color: var(--sklearn-color-text);\n  background-color: var(--sklearn-color-unfitted-level-2);\n}\n\n#sk-container-id-1 div.sk-label.fitted input.sk-toggleable__control:checked~label.sk-toggleable__label {\n  background-color: var(--sklearn-color-fitted-level-2);\n}\n\n/* Estimator-specific style */\n\n/* Colorize estimator box */\n#sk-container-id-1 div.sk-estimator input.sk-toggleable__control:checked~label.sk-toggleable__label {\n  /* unfitted */\n  background-color: var(--sklearn-color-unfitted-level-2);\n}\n\n#sk-container-id-1 div.sk-estimator.fitted input.sk-toggleable__control:checked~label.sk-toggleable__label {\n  /* fitted */\n  background-color: var(--sklearn-color-fitted-level-2);\n}\n\n#sk-container-id-1 div.sk-label label.sk-toggleable__label,\n#sk-container-id-1 div.sk-label label {\n  /* The background is the default theme color */\n  color: var(--sklearn-color-text-on-default-background);\n}\n\n/* On hover, darken the color of the background */\n#sk-container-id-1 div.sk-label:hover label.sk-toggleable__label {\n  color: var(--sklearn-color-text);\n  background-color: var(--sklearn-color-unfitted-level-2);\n}\n\n/* Label box, darken color on hover, fitted */\n#sk-container-id-1 div.sk-label.fitted:hover label.sk-toggleable__label.fitted {\n  color: var(--sklearn-color-text);\n  background-color: var(--sklearn-color-fitted-level-2);\n}\n\n/* Estimator label */\n\n#sk-container-id-1 div.sk-label label {\n  font-family: monospace;\n  font-weight: bold;\n  display: inline-block;\n  line-height: 1.2em;\n}\n\n#sk-container-id-1 div.sk-label-container {\n  text-align: center;\n}\n\n/* Estimator-specific */\n#sk-container-id-1 div.sk-estimator {\n  font-family: monospace;\n  border: 1px dotted var(--sklearn-color-border-box);\n  border-radius: 0.25em;\n  box-sizing: border-box;\n  margin-bottom: 0.5em;\n  /* unfitted */\n  background-color: var(--sklearn-color-unfitted-level-0);\n}\n\n#sk-container-id-1 div.sk-estimator.fitted {\n  /* fitted */\n  background-color: var(--sklearn-color-fitted-level-0);\n}\n\n/* on hover */\n#sk-container-id-1 div.sk-estimator:hover {\n  /* unfitted */\n  background-color: var(--sklearn-color-unfitted-level-2);\n}\n\n#sk-container-id-1 div.sk-estimator.fitted:hover {\n  /* fitted */\n  background-color: var(--sklearn-color-fitted-level-2);\n}\n\n/* Specification for estimator info (e.g. \"i\" and \"?\") */\n\n/* Common style for \"i\" and \"?\" */\n\n.sk-estimator-doc-link,\na:link.sk-estimator-doc-link,\na:visited.sk-estimator-doc-link {\n  float: right;\n  font-size: smaller;\n  line-height: 1em;\n  font-family: monospace;\n  background-color: var(--sklearn-color-background);\n  border-radius: 1em;\n  height: 1em;\n  width: 1em;\n  text-decoration: none !important;\n  margin-left: 1ex;\n  /* unfitted */\n  border: var(--sklearn-color-unfitted-level-1) 1pt solid;\n  color: var(--sklearn-color-unfitted-level-1);\n}\n\n.sk-estimator-doc-link.fitted,\na:link.sk-estimator-doc-link.fitted,\na:visited.sk-estimator-doc-link.fitted {\n  /* fitted */\n  border: var(--sklearn-color-fitted-level-1) 1pt solid;\n  color: var(--sklearn-color-fitted-level-1);\n}\n\n/* On hover */\ndiv.sk-estimator:hover .sk-estimator-doc-link:hover,\n.sk-estimator-doc-link:hover,\ndiv.sk-label-container:hover .sk-estimator-doc-link:hover,\n.sk-estimator-doc-link:hover {\n  /* unfitted */\n  background-color: var(--sklearn-color-unfitted-level-3);\n  color: var(--sklearn-color-background);\n  text-decoration: none;\n}\n\ndiv.sk-estimator.fitted:hover .sk-estimator-doc-link.fitted:hover,\n.sk-estimator-doc-link.fitted:hover,\ndiv.sk-label-container:hover .sk-estimator-doc-link.fitted:hover,\n.sk-estimator-doc-link.fitted:hover {\n  /* fitted */\n  background-color: var(--sklearn-color-fitted-level-3);\n  color: var(--sklearn-color-background);\n  text-decoration: none;\n}\n\n/* Span, style for the box shown on hovering the info icon */\n.sk-estimator-doc-link span {\n  display: none;\n  z-index: 9999;\n  position: relative;\n  font-weight: normal;\n  right: .2ex;\n  padding: .5ex;\n  margin: .5ex;\n  width: min-content;\n  min-width: 20ex;\n  max-width: 50ex;\n  color: var(--sklearn-color-text);\n  box-shadow: 2pt 2pt 4pt #999;\n  /* unfitted */\n  background: var(--sklearn-color-unfitted-level-0);\n  border: .5pt solid var(--sklearn-color-unfitted-level-3);\n}\n\n.sk-estimator-doc-link.fitted span {\n  /* fitted */\n  background: var(--sklearn-color-fitted-level-0);\n  border: var(--sklearn-color-fitted-level-3);\n}\n\n.sk-estimator-doc-link:hover span {\n  display: block;\n}\n\n/* \"?\"-specific style due to the `<a>` HTML tag */\n\n#sk-container-id-1 a.estimator_doc_link {\n  float: right;\n  font-size: 1rem;\n  line-height: 1em;\n  font-family: monospace;\n  background-color: var(--sklearn-color-background);\n  border-radius: 1rem;\n  height: 1rem;\n  width: 1rem;\n  text-decoration: none;\n  /* unfitted */\n  color: var(--sklearn-color-unfitted-level-1);\n  border: var(--sklearn-color-unfitted-level-1) 1pt solid;\n}\n\n#sk-container-id-1 a.estimator_doc_link.fitted {\n  /* fitted */\n  border: var(--sklearn-color-fitted-level-1) 1pt solid;\n  color: var(--sklearn-color-fitted-level-1);\n}\n\n/* On hover */\n#sk-container-id-1 a.estimator_doc_link:hover {\n  /* unfitted */\n  background-color: var(--sklearn-color-unfitted-level-3);\n  color: var(--sklearn-color-background);\n  text-decoration: none;\n}\n\n#sk-container-id-1 a.estimator_doc_link.fitted:hover {\n  /* fitted */\n  background-color: var(--sklearn-color-fitted-level-3);\n}\n</style><div id=\"sk-container-id-1\" class=\"sk-top-container\"><div class=\"sk-text-repr-fallback\"><pre>GridSearchCV(cv=2, estimator=RandomForestClassifier(random_state=42), n_jobs=2,\n             param_grid={&#x27;max_depth&#x27;: [3, 6, 9, 12, 15],\n                         &#x27;n_estimators&#x27;: [100, 200, 300, 400, 500]},\n             verbose=2)</pre><b>In a Jupyter environment, please rerun this cell to show the HTML representation or trust the notebook. <br />On GitHub, the HTML representation is unable to render, please try loading this page with nbviewer.org.</b></div><div class=\"sk-container\" hidden><div class=\"sk-item sk-dashed-wrapped\"><div class=\"sk-label-container\"><div class=\"sk-label fitted sk-toggleable\"><input class=\"sk-toggleable__control sk-hidden--visually\" id=\"sk-estimator-id-1\" type=\"checkbox\" ><label for=\"sk-estimator-id-1\" class=\"sk-toggleable__label fitted sk-toggleable__label-arrow fitted\">&nbsp;&nbsp;GridSearchCV<a class=\"sk-estimator-doc-link fitted\" rel=\"noreferrer\" target=\"_blank\" href=\"https://scikit-learn.org/1.5/modules/generated/sklearn.model_selection.GridSearchCV.html\">?<span>Documentation for GridSearchCV</span></a><span class=\"sk-estimator-doc-link fitted\">i<span>Fitted</span></span></label><div class=\"sk-toggleable__content fitted\"><pre>GridSearchCV(cv=2, estimator=RandomForestClassifier(random_state=42), n_jobs=2,\n             param_grid={&#x27;max_depth&#x27;: [3, 6, 9, 12, 15],\n                         &#x27;n_estimators&#x27;: [100, 200, 300, 400, 500]},\n             verbose=2)</pre></div> </div></div><div class=\"sk-parallel\"><div class=\"sk-parallel-item\"><div class=\"sk-item\"><div class=\"sk-label-container\"><div class=\"sk-label fitted sk-toggleable\"><input class=\"sk-toggleable__control sk-hidden--visually\" id=\"sk-estimator-id-2\" type=\"checkbox\" ><label for=\"sk-estimator-id-2\" class=\"sk-toggleable__label fitted sk-toggleable__label-arrow fitted\">best_estimator_: RandomForestClassifier</label><div class=\"sk-toggleable__content fitted\"><pre>RandomForestClassifier(max_depth=15, n_estimators=400, random_state=42)</pre></div> </div></div><div class=\"sk-serial\"><div class=\"sk-item\"><div class=\"sk-estimator fitted sk-toggleable\"><input class=\"sk-toggleable__control sk-hidden--visually\" id=\"sk-estimator-id-3\" type=\"checkbox\" ><label for=\"sk-estimator-id-3\" class=\"sk-toggleable__label fitted sk-toggleable__label-arrow fitted\">&nbsp;RandomForestClassifier<a class=\"sk-estimator-doc-link fitted\" rel=\"noreferrer\" target=\"_blank\" href=\"https://scikit-learn.org/1.5/modules/generated/sklearn.ensemble.RandomForestClassifier.html\">?<span>Documentation for RandomForestClassifier</span></a></label><div class=\"sk-toggleable__content fitted\"><pre>RandomForestClassifier(max_depth=15, n_estimators=400, random_state=42)</pre></div> </div></div></div></div></div></div></div></div></div>"
          },
          "metadata": {}
        }
      ],
      "execution_count": 61,
      "metadata": {
        "jupyter": {
          "source_hidden": false,
          "outputs_hidden": false
        },
        "nteract": {
          "transient": {
            "deleting": false
          }
        },
        "gather": {
          "logged": 1737050200629
        }
      }
    },
    {
      "cell_type": "code",
      "source": [
        "grid_cv.best_estimator_"
      ],
      "outputs": [
        {
          "output_type": "execute_result",
          "execution_count": 62,
          "data": {
            "text/plain": "RandomForestClassifier(max_depth=15, n_estimators=400, random_state=42)",
            "text/html": "<style>#sk-container-id-2 {\n  /* Definition of color scheme common for light and dark mode */\n  --sklearn-color-text: black;\n  --sklearn-color-line: gray;\n  /* Definition of color scheme for unfitted estimators */\n  --sklearn-color-unfitted-level-0: #fff5e6;\n  --sklearn-color-unfitted-level-1: #f6e4d2;\n  --sklearn-color-unfitted-level-2: #ffe0b3;\n  --sklearn-color-unfitted-level-3: chocolate;\n  /* Definition of color scheme for fitted estimators */\n  --sklearn-color-fitted-level-0: #f0f8ff;\n  --sklearn-color-fitted-level-1: #d4ebff;\n  --sklearn-color-fitted-level-2: #b3dbfd;\n  --sklearn-color-fitted-level-3: cornflowerblue;\n\n  /* Specific color for light theme */\n  --sklearn-color-text-on-default-background: var(--sg-text-color, var(--theme-code-foreground, var(--jp-content-font-color1, black)));\n  --sklearn-color-background: var(--sg-background-color, var(--theme-background, var(--jp-layout-color0, white)));\n  --sklearn-color-border-box: var(--sg-text-color, var(--theme-code-foreground, var(--jp-content-font-color1, black)));\n  --sklearn-color-icon: #696969;\n\n  @media (prefers-color-scheme: dark) {\n    /* Redefinition of color scheme for dark theme */\n    --sklearn-color-text-on-default-background: var(--sg-text-color, var(--theme-code-foreground, var(--jp-content-font-color1, white)));\n    --sklearn-color-background: var(--sg-background-color, var(--theme-background, var(--jp-layout-color0, #111)));\n    --sklearn-color-border-box: var(--sg-text-color, var(--theme-code-foreground, var(--jp-content-font-color1, white)));\n    --sklearn-color-icon: #878787;\n  }\n}\n\n#sk-container-id-2 {\n  color: var(--sklearn-color-text);\n}\n\n#sk-container-id-2 pre {\n  padding: 0;\n}\n\n#sk-container-id-2 input.sk-hidden--visually {\n  border: 0;\n  clip: rect(1px 1px 1px 1px);\n  clip: rect(1px, 1px, 1px, 1px);\n  height: 1px;\n  margin: -1px;\n  overflow: hidden;\n  padding: 0;\n  position: absolute;\n  width: 1px;\n}\n\n#sk-container-id-2 div.sk-dashed-wrapped {\n  border: 1px dashed var(--sklearn-color-line);\n  margin: 0 0.4em 0.5em 0.4em;\n  box-sizing: border-box;\n  padding-bottom: 0.4em;\n  background-color: var(--sklearn-color-background);\n}\n\n#sk-container-id-2 div.sk-container {\n  /* jupyter's `normalize.less` sets `[hidden] { display: none; }`\n     but bootstrap.min.css set `[hidden] { display: none !important; }`\n     so we also need the `!important` here to be able to override the\n     default hidden behavior on the sphinx rendered scikit-learn.org.\n     See: https://github.com/scikit-learn/scikit-learn/issues/21755 */\n  display: inline-block !important;\n  position: relative;\n}\n\n#sk-container-id-2 div.sk-text-repr-fallback {\n  display: none;\n}\n\ndiv.sk-parallel-item,\ndiv.sk-serial,\ndiv.sk-item {\n  /* draw centered vertical line to link estimators */\n  background-image: linear-gradient(var(--sklearn-color-text-on-default-background), var(--sklearn-color-text-on-default-background));\n  background-size: 2px 100%;\n  background-repeat: no-repeat;\n  background-position: center center;\n}\n\n/* Parallel-specific style estimator block */\n\n#sk-container-id-2 div.sk-parallel-item::after {\n  content: \"\";\n  width: 100%;\n  border-bottom: 2px solid var(--sklearn-color-text-on-default-background);\n  flex-grow: 1;\n}\n\n#sk-container-id-2 div.sk-parallel {\n  display: flex;\n  align-items: stretch;\n  justify-content: center;\n  background-color: var(--sklearn-color-background);\n  position: relative;\n}\n\n#sk-container-id-2 div.sk-parallel-item {\n  display: flex;\n  flex-direction: column;\n}\n\n#sk-container-id-2 div.sk-parallel-item:first-child::after {\n  align-self: flex-end;\n  width: 50%;\n}\n\n#sk-container-id-2 div.sk-parallel-item:last-child::after {\n  align-self: flex-start;\n  width: 50%;\n}\n\n#sk-container-id-2 div.sk-parallel-item:only-child::after {\n  width: 0;\n}\n\n/* Serial-specific style estimator block */\n\n#sk-container-id-2 div.sk-serial {\n  display: flex;\n  flex-direction: column;\n  align-items: center;\n  background-color: var(--sklearn-color-background);\n  padding-right: 1em;\n  padding-left: 1em;\n}\n\n\n/* Toggleable style: style used for estimator/Pipeline/ColumnTransformer box that is\nclickable and can be expanded/collapsed.\n- Pipeline and ColumnTransformer use this feature and define the default style\n- Estimators will overwrite some part of the style using the `sk-estimator` class\n*/\n\n/* Pipeline and ColumnTransformer style (default) */\n\n#sk-container-id-2 div.sk-toggleable {\n  /* Default theme specific background. It is overwritten whether we have a\n  specific estimator or a Pipeline/ColumnTransformer */\n  background-color: var(--sklearn-color-background);\n}\n\n/* Toggleable label */\n#sk-container-id-2 label.sk-toggleable__label {\n  cursor: pointer;\n  display: block;\n  width: 100%;\n  margin-bottom: 0;\n  padding: 0.5em;\n  box-sizing: border-box;\n  text-align: center;\n}\n\n#sk-container-id-2 label.sk-toggleable__label-arrow:before {\n  /* Arrow on the left of the label */\n  content: \"▸\";\n  float: left;\n  margin-right: 0.25em;\n  color: var(--sklearn-color-icon);\n}\n\n#sk-container-id-2 label.sk-toggleable__label-arrow:hover:before {\n  color: var(--sklearn-color-text);\n}\n\n/* Toggleable content - dropdown */\n\n#sk-container-id-2 div.sk-toggleable__content {\n  max-height: 0;\n  max-width: 0;\n  overflow: hidden;\n  text-align: left;\n  /* unfitted */\n  background-color: var(--sklearn-color-unfitted-level-0);\n}\n\n#sk-container-id-2 div.sk-toggleable__content.fitted {\n  /* fitted */\n  background-color: var(--sklearn-color-fitted-level-0);\n}\n\n#sk-container-id-2 div.sk-toggleable__content pre {\n  margin: 0.2em;\n  border-radius: 0.25em;\n  color: var(--sklearn-color-text);\n  /* unfitted */\n  background-color: var(--sklearn-color-unfitted-level-0);\n}\n\n#sk-container-id-2 div.sk-toggleable__content.fitted pre {\n  /* unfitted */\n  background-color: var(--sklearn-color-fitted-level-0);\n}\n\n#sk-container-id-2 input.sk-toggleable__control:checked~div.sk-toggleable__content {\n  /* Expand drop-down */\n  max-height: 200px;\n  max-width: 100%;\n  overflow: auto;\n}\n\n#sk-container-id-2 input.sk-toggleable__control:checked~label.sk-toggleable__label-arrow:before {\n  content: \"▾\";\n}\n\n/* Pipeline/ColumnTransformer-specific style */\n\n#sk-container-id-2 div.sk-label input.sk-toggleable__control:checked~label.sk-toggleable__label {\n  color: var(--sklearn-color-text);\n  background-color: var(--sklearn-color-unfitted-level-2);\n}\n\n#sk-container-id-2 div.sk-label.fitted input.sk-toggleable__control:checked~label.sk-toggleable__label {\n  background-color: var(--sklearn-color-fitted-level-2);\n}\n\n/* Estimator-specific style */\n\n/* Colorize estimator box */\n#sk-container-id-2 div.sk-estimator input.sk-toggleable__control:checked~label.sk-toggleable__label {\n  /* unfitted */\n  background-color: var(--sklearn-color-unfitted-level-2);\n}\n\n#sk-container-id-2 div.sk-estimator.fitted input.sk-toggleable__control:checked~label.sk-toggleable__label {\n  /* fitted */\n  background-color: var(--sklearn-color-fitted-level-2);\n}\n\n#sk-container-id-2 div.sk-label label.sk-toggleable__label,\n#sk-container-id-2 div.sk-label label {\n  /* The background is the default theme color */\n  color: var(--sklearn-color-text-on-default-background);\n}\n\n/* On hover, darken the color of the background */\n#sk-container-id-2 div.sk-label:hover label.sk-toggleable__label {\n  color: var(--sklearn-color-text);\n  background-color: var(--sklearn-color-unfitted-level-2);\n}\n\n/* Label box, darken color on hover, fitted */\n#sk-container-id-2 div.sk-label.fitted:hover label.sk-toggleable__label.fitted {\n  color: var(--sklearn-color-text);\n  background-color: var(--sklearn-color-fitted-level-2);\n}\n\n/* Estimator label */\n\n#sk-container-id-2 div.sk-label label {\n  font-family: monospace;\n  font-weight: bold;\n  display: inline-block;\n  line-height: 1.2em;\n}\n\n#sk-container-id-2 div.sk-label-container {\n  text-align: center;\n}\n\n/* Estimator-specific */\n#sk-container-id-2 div.sk-estimator {\n  font-family: monospace;\n  border: 1px dotted var(--sklearn-color-border-box);\n  border-radius: 0.25em;\n  box-sizing: border-box;\n  margin-bottom: 0.5em;\n  /* unfitted */\n  background-color: var(--sklearn-color-unfitted-level-0);\n}\n\n#sk-container-id-2 div.sk-estimator.fitted {\n  /* fitted */\n  background-color: var(--sklearn-color-fitted-level-0);\n}\n\n/* on hover */\n#sk-container-id-2 div.sk-estimator:hover {\n  /* unfitted */\n  background-color: var(--sklearn-color-unfitted-level-2);\n}\n\n#sk-container-id-2 div.sk-estimator.fitted:hover {\n  /* fitted */\n  background-color: var(--sklearn-color-fitted-level-2);\n}\n\n/* Specification for estimator info (e.g. \"i\" and \"?\") */\n\n/* Common style for \"i\" and \"?\" */\n\n.sk-estimator-doc-link,\na:link.sk-estimator-doc-link,\na:visited.sk-estimator-doc-link {\n  float: right;\n  font-size: smaller;\n  line-height: 1em;\n  font-family: monospace;\n  background-color: var(--sklearn-color-background);\n  border-radius: 1em;\n  height: 1em;\n  width: 1em;\n  text-decoration: none !important;\n  margin-left: 1ex;\n  /* unfitted */\n  border: var(--sklearn-color-unfitted-level-1) 1pt solid;\n  color: var(--sklearn-color-unfitted-level-1);\n}\n\n.sk-estimator-doc-link.fitted,\na:link.sk-estimator-doc-link.fitted,\na:visited.sk-estimator-doc-link.fitted {\n  /* fitted */\n  border: var(--sklearn-color-fitted-level-1) 1pt solid;\n  color: var(--sklearn-color-fitted-level-1);\n}\n\n/* On hover */\ndiv.sk-estimator:hover .sk-estimator-doc-link:hover,\n.sk-estimator-doc-link:hover,\ndiv.sk-label-container:hover .sk-estimator-doc-link:hover,\n.sk-estimator-doc-link:hover {\n  /* unfitted */\n  background-color: var(--sklearn-color-unfitted-level-3);\n  color: var(--sklearn-color-background);\n  text-decoration: none;\n}\n\ndiv.sk-estimator.fitted:hover .sk-estimator-doc-link.fitted:hover,\n.sk-estimator-doc-link.fitted:hover,\ndiv.sk-label-container:hover .sk-estimator-doc-link.fitted:hover,\n.sk-estimator-doc-link.fitted:hover {\n  /* fitted */\n  background-color: var(--sklearn-color-fitted-level-3);\n  color: var(--sklearn-color-background);\n  text-decoration: none;\n}\n\n/* Span, style for the box shown on hovering the info icon */\n.sk-estimator-doc-link span {\n  display: none;\n  z-index: 9999;\n  position: relative;\n  font-weight: normal;\n  right: .2ex;\n  padding: .5ex;\n  margin: .5ex;\n  width: min-content;\n  min-width: 20ex;\n  max-width: 50ex;\n  color: var(--sklearn-color-text);\n  box-shadow: 2pt 2pt 4pt #999;\n  /* unfitted */\n  background: var(--sklearn-color-unfitted-level-0);\n  border: .5pt solid var(--sklearn-color-unfitted-level-3);\n}\n\n.sk-estimator-doc-link.fitted span {\n  /* fitted */\n  background: var(--sklearn-color-fitted-level-0);\n  border: var(--sklearn-color-fitted-level-3);\n}\n\n.sk-estimator-doc-link:hover span {\n  display: block;\n}\n\n/* \"?\"-specific style due to the `<a>` HTML tag */\n\n#sk-container-id-2 a.estimator_doc_link {\n  float: right;\n  font-size: 1rem;\n  line-height: 1em;\n  font-family: monospace;\n  background-color: var(--sklearn-color-background);\n  border-radius: 1rem;\n  height: 1rem;\n  width: 1rem;\n  text-decoration: none;\n  /* unfitted */\n  color: var(--sklearn-color-unfitted-level-1);\n  border: var(--sklearn-color-unfitted-level-1) 1pt solid;\n}\n\n#sk-container-id-2 a.estimator_doc_link.fitted {\n  /* fitted */\n  border: var(--sklearn-color-fitted-level-1) 1pt solid;\n  color: var(--sklearn-color-fitted-level-1);\n}\n\n/* On hover */\n#sk-container-id-2 a.estimator_doc_link:hover {\n  /* unfitted */\n  background-color: var(--sklearn-color-unfitted-level-3);\n  color: var(--sklearn-color-background);\n  text-decoration: none;\n}\n\n#sk-container-id-2 a.estimator_doc_link.fitted:hover {\n  /* fitted */\n  background-color: var(--sklearn-color-fitted-level-3);\n}\n</style><div id=\"sk-container-id-2\" class=\"sk-top-container\"><div class=\"sk-text-repr-fallback\"><pre>RandomForestClassifier(max_depth=15, n_estimators=400, random_state=42)</pre><b>In a Jupyter environment, please rerun this cell to show the HTML representation or trust the notebook. <br />On GitHub, the HTML representation is unable to render, please try loading this page with nbviewer.org.</b></div><div class=\"sk-container\" hidden><div class=\"sk-item\"><div class=\"sk-estimator fitted sk-toggleable\"><input class=\"sk-toggleable__control sk-hidden--visually\" id=\"sk-estimator-id-4\" type=\"checkbox\" checked><label for=\"sk-estimator-id-4\" class=\"sk-toggleable__label fitted sk-toggleable__label-arrow fitted\">&nbsp;&nbsp;RandomForestClassifier<a class=\"sk-estimator-doc-link fitted\" rel=\"noreferrer\" target=\"_blank\" href=\"https://scikit-learn.org/1.5/modules/generated/sklearn.ensemble.RandomForestClassifier.html\">?<span>Documentation for RandomForestClassifier</span></a><span class=\"sk-estimator-doc-link fitted\">i<span>Fitted</span></span></label><div class=\"sk-toggleable__content fitted\"><pre>RandomForestClassifier(max_depth=15, n_estimators=400, random_state=42)</pre></div> </div></div></div></div>"
          },
          "metadata": {}
        }
      ],
      "execution_count": 62,
      "metadata": {
        "jupyter": {
          "source_hidden": false,
          "outputs_hidden": false
        },
        "nteract": {
          "transient": {
            "deleting": false
          }
        },
        "gather": {
          "logged": 1737050200905
        }
      }
    },
    {
      "cell_type": "code",
      "source": [
        "estimator = grid_cv.best_estimator_\n",
        "pred = estimator.predict(x_test_scaled)"
      ],
      "outputs": [],
      "execution_count": 63,
      "metadata": {
        "jupyter": {
          "source_hidden": false,
          "outputs_hidden": false
        },
        "nteract": {
          "transient": {
            "deleting": false
          }
        },
        "gather": {
          "logged": 1737050282810
        }
      }
    },
    {
      "cell_type": "code",
      "source": [
        "from sklearn.metrics import r2_score, mean_squared_error, mean_absolute_error\n",
        "\n",
        "def evaluation(y_test , pred):\n",
        "    \n",
        "    mae = mean_absolute_error(y_test,pred) ## mae\n",
        "    mse = mean_squared_error(y_test,pred) # mse\n",
        "    rmse = np.sqrt(mean_squared_error(y_test,pred)) # rmse\n",
        "\n",
        "    print('mae: {}, mse: {}, rmse:{}'.format(mae, mse, rmse))"
      ],
      "outputs": [],
      "execution_count": 10,
      "metadata": {
        "jupyter": {
          "source_hidden": false,
          "outputs_hidden": false
        },
        "nteract": {
          "transient": {
            "deleting": false
          }
        },
        "gather": {
          "logged": 1737302018164
        }
      }
    },
    {
      "cell_type": "code",
      "source": [
        "print('최적 하이퍼 파라미터:\\n',grid_cv.best_params_)\n",
        "print('최고 예측 정확도: {0:.4f}'.format(grid_cv.best_score_))\n",
        "evaluation(y_test, pred)"
      ],
      "outputs": [
        {
          "output_type": "stream",
          "name": "stdout",
          "text": "최적 하이퍼 파라미터:\n {'max_depth': 15, 'n_estimators': 400}\n최고 예측 정확도: 0.9137\nmae: 0.0878548270579344, mse: 0.09271686834207728, rmse:0.3044944471448983\n"
        }
      ],
      "execution_count": 65,
      "metadata": {
        "jupyter": {
          "source_hidden": false,
          "outputs_hidden": false
        },
        "nteract": {
          "transient": {
            "deleting": false
          }
        },
        "gather": {
          "logged": 1737050283280
        }
      }
    },
    {
      "cell_type": "code",
      "source": [
        "# 중요 특징 시각화\n",
        "feature_importances = estimator.feature_importances_\n",
        "features = ['GRID_X','GRID_Y','Year','Month','Day','Hour','WS','TA_C','HM']\n",
        "importance_df = pd.DataFrame({'Feature': features, 'Importance': feature_importances})"
      ],
      "outputs": [],
      "execution_count": 66,
      "metadata": {
        "jupyter": {
          "source_hidden": false,
          "outputs_hidden": false
        },
        "nteract": {
          "transient": {
            "deleting": false
          }
        },
        "gather": {
          "logged": 1737050283506
        }
      }
    },
    {
      "cell_type": "code",
      "source": [
        "plt.figure(figsize=(10,6))\n",
        "sns.barplot(x='Importance',y='Feature',data=importance_df)\n",
        "plt.title('Feature Importance in Random Forest')\n",
        "plt.show()"
      ],
      "outputs": [
        {
          "output_type": "display_data",
          "data": {
            "text/plain": "<Figure size 1000x600 with 1 Axes>",
            "image/png": "[encoded data removed]"
          },
          "metadata": {}
        }
      ],
      "execution_count": 67,
      "metadata": {
        "jupyter": {
          "source_hidden": false,
          "outputs_hidden": false
        },
        "nteract": {
          "transient": {
            "deleting": false
          }
        },
        "gather": {
          "logged": 1737050283768
        }
      }
    },
    {
      "cell_type": "code",
      "source": [
        "import pickle\n",
        "with open('/mnt/batch/tasks/shared/LS_root/mounts/clusters/freezing/code/Users/tmxhs85/RF_model','wb') as f:\n",
        "    pickle.dump(estimator,f)"
      ],
      "outputs": [],
      "execution_count": 68,
      "metadata": {
        "jupyter": {
          "source_hidden": false,
          "outputs_hidden": false
        },
        "nteract": {
          "transient": {
            "deleting": false
          }
        },
        "gather": {
          "logged": 1737050290503
        }
      }
    },
    {
      "cell_type": "code",
      "source": [
        "# 저장한 모델 불러올 때\n",
        "# import pickle\n",
        "# with open('saved_model', 'rb') as f:\n",
        "#     model = pickle.load(f)"
      ],
      "outputs": [],
      "execution_count": null,
      "metadata": {
        "jupyter": {
          "source_hidden": false,
          "outputs_hidden": false
        },
        "nteract": {
          "transient": {
            "deleting": false
          }
        }
      }
    },
    {
      "cell_type": "code",
      "source": [
        "from sklearn.ensemble import GradientBoostingClassifier"
      ],
      "outputs": [],
      "execution_count": 11,
      "metadata": {
        "jupyter": {
          "source_hidden": false,
          "outputs_hidden": false
        },
        "nteract": {
          "transient": {
            "deleting": false
          }
        },
        "gather": {
          "logged": 1737302024427
        }
      }
    },
    {
      "cell_type": "code",
      "source": [
        "gbc = GradientBoostingClassifier(learning_rate=0.1,random_state=42)"
      ],
      "outputs": [],
      "execution_count": 12,
      "metadata": {
        "jupyter": {
          "source_hidden": false,
          "outputs_hidden": false
        },
        "nteract": {
          "transient": {
            "deleting": false
          }
        },
        "gather": {
          "logged": 1737302025886
        }
      }
    },
    {
      "cell_type": "code",
      "source": [
        "params = {\n",
        "    'n_estimators':[100,150,200],\n",
        "    'max_depth':[3,4,5]\n",
        "}"
      ],
      "outputs": [],
      "execution_count": 13,
      "metadata": {
        "jupyter": {
          "source_hidden": false,
          "outputs_hidden": false
        },
        "nteract": {
          "transient": {
            "deleting": false
          }
        },
        "gather": {
          "logged": 1737302027072
        }
      }
    },
    {
      "cell_type": "code",
      "source": [
        "grid_cv = GridSearchCV(gbc,param_grid=params,cv=2,n_jobs=2,verbose=2)\n",
        "grid_cv.fit(x_train_scaled,y_train)"
      ],
      "outputs": [
        {
          "output_type": "stream",
          "name": "stdout",
          "text": "Fitting 2 folds for each of 9 candidates, totalling 18 fits\n[CV] END ......................max_depth=3, n_estimators=100; total time=30.8min\n[CV] END ......................max_depth=3, n_estimators=150; total time=44.0min\n[CV] END ......................max_depth=3, n_estimators=200; total time=59.7min\n[CV] END ......................max_depth=4, n_estimators=100; total time=38.6min\n[CV] END ......................max_depth=4, n_estimators=150; total time=58.3min\n[CV] END ......................max_depth=4, n_estimators=200; total time=77.7min\n[CV] END ......................max_depth=5, n_estimators=100; total time=48.3min\n[CV] END ......................max_depth=5, n_estimators=150; total time=73.1min\n[CV] END ......................max_depth=5, n_estimators=200; total time=98.4min\n[CV] END ......................max_depth=3, n_estimators=100; total time=31.2min\n[CV] END ......................max_depth=3, n_estimators=150; total time=43.4min\n[CV] END ......................max_depth=3, n_estimators=200; total time=58.4min\n[CV] END ......................max_depth=4, n_estimators=100; total time=40.7min\n[CV] END ......................max_depth=4, n_estimators=150; total time=62.7min\n[CV] END ......................max_depth=4, n_estimators=200; total time=79.8min\n[CV] END ......................max_depth=5, n_estimators=100; total time=49.8min\n[CV] END ......................max_depth=5, n_estimators=150; total time=75.7min\n[CV] END .....................max_depth=5, n_estimators=200; total time=100.0min\n"
        },
        {
          "output_type": "execute_result",
          "execution_count": 14,
          "data": {
            "text/plain": "GridSearchCV(cv=2, estimator=GradientBoostingClassifier(random_state=42),\n             n_jobs=2,\n             param_grid={'max_depth': [3, 4, 5],\n                         'n_estimators': [100, 150, 200]},\n             verbose=2)",
            "text/html": "<style>#sk-container-id-1 {\n  /* Definition of color scheme common for light and dark mode */\n  --sklearn-color-text: black;\n  --sklearn-color-line: gray;\n  /* Definition of color scheme for unfitted estimators */\n  --sklearn-color-unfitted-level-0: #fff5e6;\n  --sklearn-color-unfitted-level-1: #f6e4d2;\n  --sklearn-color-unfitted-level-2: #ffe0b3;\n  --sklearn-color-unfitted-level-3: chocolate;\n  /* Definition of color scheme for fitted estimators */\n  --sklearn-color-fitted-level-0: #f0f8ff;\n  --sklearn-color-fitted-level-1: #d4ebff;\n  --sklearn-color-fitted-level-2: #b3dbfd;\n  --sklearn-color-fitted-level-3: cornflowerblue;\n\n  /* Specific color for light theme */\n  --sklearn-color-text-on-default-background: var(--sg-text-color, var(--theme-code-foreground, var(--jp-content-font-color1, black)));\n  --sklearn-color-background: var(--sg-background-color, var(--theme-background, var(--jp-layout-color0, white)));\n  --sklearn-color-border-box: var(--sg-text-color, var(--theme-code-foreground, var(--jp-content-font-color1, black)));\n  --sklearn-color-icon: #696969;\n\n  @media (prefers-color-scheme: dark) {\n    /* Redefinition of color scheme for dark theme */\n    --sklearn-color-text-on-default-background: var(--sg-text-color, var(--theme-code-foreground, var(--jp-content-font-color1, white)));\n    --sklearn-color-background: var(--sg-background-color, var(--theme-background, var(--jp-layout-color0, #111)));\n    --sklearn-color-border-box: var(--sg-text-color, var(--theme-code-foreground, var(--jp-content-font-color1, white)));\n    --sklearn-color-icon: #878787;\n  }\n}\n\n#sk-container-id-1 {\n  color: var(--sklearn-color-text);\n}\n\n#sk-container-id-1 pre {\n  padding: 0;\n}\n\n#sk-container-id-1 input.sk-hidden--visually {\n  border: 0;\n  clip: rect(1px 1px 1px 1px);\n  clip: rect(1px, 1px, 1px, 1px);\n  height: 1px;\n  margin: -1px;\n  overflow: hidden;\n  padding: 0;\n  position: absolute;\n  width: 1px;\n}\n\n#sk-container-id-1 div.sk-dashed-wrapped {\n  border: 1px dashed var(--sklearn-color-line);\n  margin: 0 0.4em 0.5em 0.4em;\n  box-sizing: border-box;\n  padding-bottom: 0.4em;\n  background-color: var(--sklearn-color-background);\n}\n\n#sk-container-id-1 div.sk-container {\n  /* jupyter's `normalize.less` sets `[hidden] { display: none; }`\n     but bootstrap.min.css set `[hidden] { display: none !important; }`\n     so we also need the `!important` here to be able to override the\n     default hidden behavior on the sphinx rendered scikit-learn.org.\n     See: https://github.com/scikit-learn/scikit-learn/issues/21755 */\n  display: inline-block !important;\n  position: relative;\n}\n\n#sk-container-id-1 div.sk-text-repr-fallback {\n  display: none;\n}\n\ndiv.sk-parallel-item,\ndiv.sk-serial,\ndiv.sk-item {\n  /* draw centered vertical line to link estimators */\n  background-image: linear-gradient(var(--sklearn-color-text-on-default-background), var(--sklearn-color-text-on-default-background));\n  background-size: 2px 100%;\n  background-repeat: no-repeat;\n  background-position: center center;\n}\n\n/* Parallel-specific style estimator block */\n\n#sk-container-id-1 div.sk-parallel-item::after {\n  content: \"\";\n  width: 100%;\n  border-bottom: 2px solid var(--sklearn-color-text-on-default-background);\n  flex-grow: 1;\n}\n\n#sk-container-id-1 div.sk-parallel {\n  display: flex;\n  align-items: stretch;\n  justify-content: center;\n  background-color: var(--sklearn-color-background);\n  position: relative;\n}\n\n#sk-container-id-1 div.sk-parallel-item {\n  display: flex;\n  flex-direction: column;\n}\n\n#sk-container-id-1 div.sk-parallel-item:first-child::after {\n  align-self: flex-end;\n  width: 50%;\n}\n\n#sk-container-id-1 div.sk-parallel-item:last-child::after {\n  align-self: flex-start;\n  width: 50%;\n}\n\n#sk-container-id-1 div.sk-parallel-item:only-child::after {\n  width: 0;\n}\n\n/* Serial-specific style estimator block */\n\n#sk-container-id-1 div.sk-serial {\n  display: flex;\n  flex-direction: column;\n  align-items: center;\n  background-color: var(--sklearn-color-background);\n  padding-right: 1em;\n  padding-left: 1em;\n}\n\n\n/* Toggleable style: style used for estimator/Pipeline/ColumnTransformer box that is\nclickable and can be expanded/collapsed.\n- Pipeline and ColumnTransformer use this feature and define the default style\n- Estimators will overwrite some part of the style using the `sk-estimator` class\n*/\n\n/* Pipeline and ColumnTransformer style (default) */\n\n#sk-container-id-1 div.sk-toggleable {\n  /* Default theme specific background. It is overwritten whether we have a\n  specific estimator or a Pipeline/ColumnTransformer */\n  background-color: var(--sklearn-color-background);\n}\n\n/* Toggleable label */\n#sk-container-id-1 label.sk-toggleable__label {\n  cursor: pointer;\n  display: block;\n  width: 100%;\n  margin-bottom: 0;\n  padding: 0.5em;\n  box-sizing: border-box;\n  text-align: center;\n}\n\n#sk-container-id-1 label.sk-toggleable__label-arrow:before {\n  /* Arrow on the left of the label */\n  content: \"▸\";\n  float: left;\n  margin-right: 0.25em;\n  color: var(--sklearn-color-icon);\n}\n\n#sk-container-id-1 label.sk-toggleable__label-arrow:hover:before {\n  color: var(--sklearn-color-text);\n}\n\n/* Toggleable content - dropdown */\n\n#sk-container-id-1 div.sk-toggleable__content {\n  max-height: 0;\n  max-width: 0;\n  overflow: hidden;\n  text-align: left;\n  /* unfitted */\n  background-color: var(--sklearn-color-unfitted-level-0);\n}\n\n#sk-container-id-1 div.sk-toggleable__content.fitted {\n  /* fitted */\n  background-color: var(--sklearn-color-fitted-level-0);\n}\n\n#sk-container-id-1 div.sk-toggleable__content pre {\n  margin: 0.2em;\n  border-radius: 0.25em;\n  color: var(--sklearn-color-text);\n  /* unfitted */\n  background-color: var(--sklearn-color-unfitted-level-0);\n}\n\n#sk-container-id-1 div.sk-toggleable__content.fitted pre {\n  /* unfitted */\n  background-color: var(--sklearn-color-fitted-level-0);\n}\n\n#sk-container-id-1 input.sk-toggleable__control:checked~div.sk-toggleable__content {\n  /* Expand drop-down */\n  max-height: 200px;\n  max-width: 100%;\n  overflow: auto;\n}\n\n#sk-container-id-1 input.sk-toggleable__control:checked~label.sk-toggleable__label-arrow:before {\n  content: \"▾\";\n}\n\n/* Pipeline/ColumnTransformer-specific style */\n\n#sk-container-id-1 div.sk-label input.sk-toggleable__control:checked~label.sk-toggleable__label {\n  color: var(--sklearn-color-text);\n  background-color: var(--sklearn-color-unfitted-level-2);\n}\n\n#sk-container-id-1 div.sk-label.fitted input.sk-toggleable__control:checked~label.sk-toggleable__label {\n  background-color: var(--sklearn-color-fitted-level-2);\n}\n\n/* Estimator-specific style */\n\n/* Colorize estimator box */\n#sk-container-id-1 div.sk-estimator input.sk-toggleable__control:checked~label.sk-toggleable__label {\n  /* unfitted */\n  background-color: var(--sklearn-color-unfitted-level-2);\n}\n\n#sk-container-id-1 div.sk-estimator.fitted input.sk-toggleable__control:checked~label.sk-toggleable__label {\n  /* fitted */\n  background-color: var(--sklearn-color-fitted-level-2);\n}\n\n#sk-container-id-1 div.sk-label label.sk-toggleable__label,\n#sk-container-id-1 div.sk-label label {\n  /* The background is the default theme color */\n  color: var(--sklearn-color-text-on-default-background);\n}\n\n/* On hover, darken the color of the background */\n#sk-container-id-1 div.sk-label:hover label.sk-toggleable__label {\n  color: var(--sklearn-color-text);\n  background-color: var(--sklearn-color-unfitted-level-2);\n}\n\n/* Label box, darken color on hover, fitted */\n#sk-container-id-1 div.sk-label.fitted:hover label.sk-toggleable__label.fitted {\n  color: var(--sklearn-color-text);\n  background-color: var(--sklearn-color-fitted-level-2);\n}\n\n/* Estimator label */\n\n#sk-container-id-1 div.sk-label label {\n  font-family: monospace;\n  font-weight: bold;\n  display: inline-block;\n  line-height: 1.2em;\n}\n\n#sk-container-id-1 div.sk-label-container {\n  text-align: center;\n}\n\n/* Estimator-specific */\n#sk-container-id-1 div.sk-estimator {\n  font-family: monospace;\n  border: 1px dotted var(--sklearn-color-border-box);\n  border-radius: 0.25em;\n  box-sizing: border-box;\n  margin-bottom: 0.5em;\n  /* unfitted */\n  background-color: var(--sklearn-color-unfitted-level-0);\n}\n\n#sk-container-id-1 div.sk-estimator.fitted {\n  /* fitted */\n  background-color: var(--sklearn-color-fitted-level-0);\n}\n\n/* on hover */\n#sk-container-id-1 div.sk-estimator:hover {\n  /* unfitted */\n  background-color: var(--sklearn-color-unfitted-level-2);\n}\n\n#sk-container-id-1 div.sk-estimator.fitted:hover {\n  /* fitted */\n  background-color: var(--sklearn-color-fitted-level-2);\n}\n\n/* Specification for estimator info (e.g. \"i\" and \"?\") */\n\n/* Common style for \"i\" and \"?\" */\n\n.sk-estimator-doc-link,\na:link.sk-estimator-doc-link,\na:visited.sk-estimator-doc-link {\n  float: right;\n  font-size: smaller;\n  line-height: 1em;\n  font-family: monospace;\n  background-color: var(--sklearn-color-background);\n  border-radius: 1em;\n  height: 1em;\n  width: 1em;\n  text-decoration: none !important;\n  margin-left: 1ex;\n  /* unfitted */\n  border: var(--sklearn-color-unfitted-level-1) 1pt solid;\n  color: var(--sklearn-color-unfitted-level-1);\n}\n\n.sk-estimator-doc-link.fitted,\na:link.sk-estimator-doc-link.fitted,\na:visited.sk-estimator-doc-link.fitted {\n  /* fitted */\n  border: var(--sklearn-color-fitted-level-1) 1pt solid;\n  color: var(--sklearn-color-fitted-level-1);\n}\n\n/* On hover */\ndiv.sk-estimator:hover .sk-estimator-doc-link:hover,\n.sk-estimator-doc-link:hover,\ndiv.sk-label-container:hover .sk-estimator-doc-link:hover,\n.sk-estimator-doc-link:hover {\n  /* unfitted */\n  background-color: var(--sklearn-color-unfitted-level-3);\n  color: var(--sklearn-color-background);\n  text-decoration: none;\n}\n\ndiv.sk-estimator.fitted:hover .sk-estimator-doc-link.fitted:hover,\n.sk-estimator-doc-link.fitted:hover,\ndiv.sk-label-container:hover .sk-estimator-doc-link.fitted:hover,\n.sk-estimator-doc-link.fitted:hover {\n  /* fitted */\n  background-color: var(--sklearn-color-fitted-level-3);\n  color: var(--sklearn-color-background);\n  text-decoration: none;\n}\n\n/* Span, style for the box shown on hovering the info icon */\n.sk-estimator-doc-link span {\n  display: none;\n  z-index: 9999;\n  position: relative;\n  font-weight: normal;\n  right: .2ex;\n  padding: .5ex;\n  margin: .5ex;\n  width: min-content;\n  min-width: 20ex;\n  max-width: 50ex;\n  color: var(--sklearn-color-text);\n  box-shadow: 2pt 2pt 4pt #999;\n  /* unfitted */\n  background: var(--sklearn-color-unfitted-level-0);\n  border: .5pt solid var(--sklearn-color-unfitted-level-3);\n}\n\n.sk-estimator-doc-link.fitted span {\n  /* fitted */\n  background: var(--sklearn-color-fitted-level-0);\n  border: var(--sklearn-color-fitted-level-3);\n}\n\n.sk-estimator-doc-link:hover span {\n  display: block;\n}\n\n/* \"?\"-specific style due to the `<a>` HTML tag */\n\n#sk-container-id-1 a.estimator_doc_link {\n  float: right;\n  font-size: 1rem;\n  line-height: 1em;\n  font-family: monospace;\n  background-color: var(--sklearn-color-background);\n  border-radius: 1rem;\n  height: 1rem;\n  width: 1rem;\n  text-decoration: none;\n  /* unfitted */\n  color: var(--sklearn-color-unfitted-level-1);\n  border: var(--sklearn-color-unfitted-level-1) 1pt solid;\n}\n\n#sk-container-id-1 a.estimator_doc_link.fitted {\n  /* fitted */\n  border: var(--sklearn-color-fitted-level-1) 1pt solid;\n  color: var(--sklearn-color-fitted-level-1);\n}\n\n/* On hover */\n#sk-container-id-1 a.estimator_doc_link:hover {\n  /* unfitted */\n  background-color: var(--sklearn-color-unfitted-level-3);\n  color: var(--sklearn-color-background);\n  text-decoration: none;\n}\n\n#sk-container-id-1 a.estimator_doc_link.fitted:hover {\n  /* fitted */\n  background-color: var(--sklearn-color-fitted-level-3);\n}\n</style><div id=\"sk-container-id-1\" class=\"sk-top-container\"><div class=\"sk-text-repr-fallback\"><pre>GridSearchCV(cv=2, estimator=GradientBoostingClassifier(random_state=42),\n             n_jobs=2,\n             param_grid={&#x27;max_depth&#x27;: [3, 4, 5],\n                         &#x27;n_estimators&#x27;: [100, 150, 200]},\n             verbose=2)</pre><b>In a Jupyter environment, please rerun this cell to show the HTML representation or trust the notebook. <br />On GitHub, the HTML representation is unable to render, please try loading this page with nbviewer.org.</b></div><div class=\"sk-container\" hidden><div class=\"sk-item sk-dashed-wrapped\"><div class=\"sk-label-container\"><div class=\"sk-label fitted sk-toggleable\"><input class=\"sk-toggleable__control sk-hidden--visually\" id=\"sk-estimator-id-1\" type=\"checkbox\" ><label for=\"sk-estimator-id-1\" class=\"sk-toggleable__label fitted sk-toggleable__label-arrow fitted\">&nbsp;&nbsp;GridSearchCV<a class=\"sk-estimator-doc-link fitted\" rel=\"noreferrer\" target=\"_blank\" href=\"https://scikit-learn.org/1.5/modules/generated/sklearn.model_selection.GridSearchCV.html\">?<span>Documentation for GridSearchCV</span></a><span class=\"sk-estimator-doc-link fitted\">i<span>Fitted</span></span></label><div class=\"sk-toggleable__content fitted\"><pre>GridSearchCV(cv=2, estimator=GradientBoostingClassifier(random_state=42),\n             n_jobs=2,\n             param_grid={&#x27;max_depth&#x27;: [3, 4, 5],\n                         &#x27;n_estimators&#x27;: [100, 150, 200]},\n             verbose=2)</pre></div> </div></div><div class=\"sk-parallel\"><div class=\"sk-parallel-item\"><div class=\"sk-item\"><div class=\"sk-label-container\"><div class=\"sk-label fitted sk-toggleable\"><input class=\"sk-toggleable__control sk-hidden--visually\" id=\"sk-estimator-id-2\" type=\"checkbox\" ><label for=\"sk-estimator-id-2\" class=\"sk-toggleable__label fitted sk-toggleable__label-arrow fitted\">best_estimator_: GradientBoostingClassifier</label><div class=\"sk-toggleable__content fitted\"><pre>GradientBoostingClassifier(max_depth=5, n_estimators=200, random_state=42)</pre></div> </div></div><div class=\"sk-serial\"><div class=\"sk-item\"><div class=\"sk-estimator fitted sk-toggleable\"><input class=\"sk-toggleable__control sk-hidden--visually\" id=\"sk-estimator-id-3\" type=\"checkbox\" ><label for=\"sk-estimator-id-3\" class=\"sk-toggleable__label fitted sk-toggleable__label-arrow fitted\">&nbsp;GradientBoostingClassifier<a class=\"sk-estimator-doc-link fitted\" rel=\"noreferrer\" target=\"_blank\" href=\"https://scikit-learn.org/1.5/modules/generated/sklearn.ensemble.GradientBoostingClassifier.html\">?<span>Documentation for GradientBoostingClassifier</span></a></label><div class=\"sk-toggleable__content fitted\"><pre>GradientBoostingClassifier(max_depth=5, n_estimators=200, random_state=42)</pre></div> </div></div></div></div></div></div></div></div></div>"
          },
          "metadata": {}
        }
      ],
      "execution_count": 14,
      "metadata": {
        "jupyter": {
          "source_hidden": false,
          "outputs_hidden": false
        },
        "nteract": {
          "transient": {
            "deleting": false
          }
        },
        "gather": {
          "logged": 1737345440533
        }
      }
    },
    {
      "cell_type": "code",
      "source": [
        "grid_cv.best_estimator_"
      ],
      "outputs": [
        {
          "output_type": "execute_result",
          "execution_count": 15,
          "data": {
            "text/plain": "GradientBoostingClassifier(max_depth=5, n_estimators=200, random_state=42)",
            "text/html": "<style>#sk-container-id-2 {\n  /* Definition of color scheme common for light and dark mode */\n  --sklearn-color-text: black;\n  --sklearn-color-line: gray;\n  /* Definition of color scheme for unfitted estimators */\n  --sklearn-color-unfitted-level-0: #fff5e6;\n  --sklearn-color-unfitted-level-1: #f6e4d2;\n  --sklearn-color-unfitted-level-2: #ffe0b3;\n  --sklearn-color-unfitted-level-3: chocolate;\n  /* Definition of color scheme for fitted estimators */\n  --sklearn-color-fitted-level-0: #f0f8ff;\n  --sklearn-color-fitted-level-1: #d4ebff;\n  --sklearn-color-fitted-level-2: #b3dbfd;\n  --sklearn-color-fitted-level-3: cornflowerblue;\n\n  /* Specific color for light theme */\n  --sklearn-color-text-on-default-background: var(--sg-text-color, var(--theme-code-foreground, var(--jp-content-font-color1, black)));\n  --sklearn-color-background: var(--sg-background-color, var(--theme-background, var(--jp-layout-color0, white)));\n  --sklearn-color-border-box: var(--sg-text-color, var(--theme-code-foreground, var(--jp-content-font-color1, black)));\n  --sklearn-color-icon: #696969;\n\n  @media (prefers-color-scheme: dark) {\n    /* Redefinition of color scheme for dark theme */\n    --sklearn-color-text-on-default-background: var(--sg-text-color, var(--theme-code-foreground, var(--jp-content-font-color1, white)));\n    --sklearn-color-background: var(--sg-background-color, var(--theme-background, var(--jp-layout-color0, #111)));\n    --sklearn-color-border-box: var(--sg-text-color, var(--theme-code-foreground, var(--jp-content-font-color1, white)));\n    --sklearn-color-icon: #878787;\n  }\n}\n\n#sk-container-id-2 {\n  color: var(--sklearn-color-text);\n}\n\n#sk-container-id-2 pre {\n  padding: 0;\n}\n\n#sk-container-id-2 input.sk-hidden--visually {\n  border: 0;\n  clip: rect(1px 1px 1px 1px);\n  clip: rect(1px, 1px, 1px, 1px);\n  height: 1px;\n  margin: -1px;\n  overflow: hidden;\n  padding: 0;\n  position: absolute;\n  width: 1px;\n}\n\n#sk-container-id-2 div.sk-dashed-wrapped {\n  border: 1px dashed var(--sklearn-color-line);\n  margin: 0 0.4em 0.5em 0.4em;\n  box-sizing: border-box;\n  padding-bottom: 0.4em;\n  background-color: var(--sklearn-color-background);\n}\n\n#sk-container-id-2 div.sk-container {\n  /* jupyter's `normalize.less` sets `[hidden] { display: none; }`\n     but bootstrap.min.css set `[hidden] { display: none !important; }`\n     so we also need the `!important` here to be able to override the\n     default hidden behavior on the sphinx rendered scikit-learn.org.\n     See: https://github.com/scikit-learn/scikit-learn/issues/21755 */\n  display: inline-block !important;\n  position: relative;\n}\n\n#sk-container-id-2 div.sk-text-repr-fallback {\n  display: none;\n}\n\ndiv.sk-parallel-item,\ndiv.sk-serial,\ndiv.sk-item {\n  /* draw centered vertical line to link estimators */\n  background-image: linear-gradient(var(--sklearn-color-text-on-default-background), var(--sklearn-color-text-on-default-background));\n  background-size: 2px 100%;\n  background-repeat: no-repeat;\n  background-position: center center;\n}\n\n/* Parallel-specific style estimator block */\n\n#sk-container-id-2 div.sk-parallel-item::after {\n  content: \"\";\n  width: 100%;\n  border-bottom: 2px solid var(--sklearn-color-text-on-default-background);\n  flex-grow: 1;\n}\n\n#sk-container-id-2 div.sk-parallel {\n  display: flex;\n  align-items: stretch;\n  justify-content: center;\n  background-color: var(--sklearn-color-background);\n  position: relative;\n}\n\n#sk-container-id-2 div.sk-parallel-item {\n  display: flex;\n  flex-direction: column;\n}\n\n#sk-container-id-2 div.sk-parallel-item:first-child::after {\n  align-self: flex-end;\n  width: 50%;\n}\n\n#sk-container-id-2 div.sk-parallel-item:last-child::after {\n  align-self: flex-start;\n  width: 50%;\n}\n\n#sk-container-id-2 div.sk-parallel-item:only-child::after {\n  width: 0;\n}\n\n/* Serial-specific style estimator block */\n\n#sk-container-id-2 div.sk-serial {\n  display: flex;\n  flex-direction: column;\n  align-items: center;\n  background-color: var(--sklearn-color-background);\n  padding-right: 1em;\n  padding-left: 1em;\n}\n\n\n/* Toggleable style: style used for estimator/Pipeline/ColumnTransformer box that is\nclickable and can be expanded/collapsed.\n- Pipeline and ColumnTransformer use this feature and define the default style\n- Estimators will overwrite some part of the style using the `sk-estimator` class\n*/\n\n/* Pipeline and ColumnTransformer style (default) */\n\n#sk-container-id-2 div.sk-toggleable {\n  /* Default theme specific background. It is overwritten whether we have a\n  specific estimator or a Pipeline/ColumnTransformer */\n  background-color: var(--sklearn-color-background);\n}\n\n/* Toggleable label */\n#sk-container-id-2 label.sk-toggleable__label {\n  cursor: pointer;\n  display: block;\n  width: 100%;\n  margin-bottom: 0;\n  padding: 0.5em;\n  box-sizing: border-box;\n  text-align: center;\n}\n\n#sk-container-id-2 label.sk-toggleable__label-arrow:before {\n  /* Arrow on the left of the label */\n  content: \"▸\";\n  float: left;\n  margin-right: 0.25em;\n  color: var(--sklearn-color-icon);\n}\n\n#sk-container-id-2 label.sk-toggleable__label-arrow:hover:before {\n  color: var(--sklearn-color-text);\n}\n\n/* Toggleable content - dropdown */\n\n#sk-container-id-2 div.sk-toggleable__content {\n  max-height: 0;\n  max-width: 0;\n  overflow: hidden;\n  text-align: left;\n  /* unfitted */\n  background-color: var(--sklearn-color-unfitted-level-0);\n}\n\n#sk-container-id-2 div.sk-toggleable__content.fitted {\n  /* fitted */\n  background-color: var(--sklearn-color-fitted-level-0);\n}\n\n#sk-container-id-2 div.sk-toggleable__content pre {\n  margin: 0.2em;\n  border-radius: 0.25em;\n  color: var(--sklearn-color-text);\n  /* unfitted */\n  background-color: var(--sklearn-color-unfitted-level-0);\n}\n\n#sk-container-id-2 div.sk-toggleable__content.fitted pre {\n  /* unfitted */\n  background-color: var(--sklearn-color-fitted-level-0);\n}\n\n#sk-container-id-2 input.sk-toggleable__control:checked~div.sk-toggleable__content {\n  /* Expand drop-down */\n  max-height: 200px;\n  max-width: 100%;\n  overflow: auto;\n}\n\n#sk-container-id-2 input.sk-toggleable__control:checked~label.sk-toggleable__label-arrow:before {\n  content: \"▾\";\n}\n\n/* Pipeline/ColumnTransformer-specific style */\n\n#sk-container-id-2 div.sk-label input.sk-toggleable__control:checked~label.sk-toggleable__label {\n  color: var(--sklearn-color-text);\n  background-color: var(--sklearn-color-unfitted-level-2);\n}\n\n#sk-container-id-2 div.sk-label.fitted input.sk-toggleable__control:checked~label.sk-toggleable__label {\n  background-color: var(--sklearn-color-fitted-level-2);\n}\n\n/* Estimator-specific style */\n\n/* Colorize estimator box */\n#sk-container-id-2 div.sk-estimator input.sk-toggleable__control:checked~label.sk-toggleable__label {\n  /* unfitted */\n  background-color: var(--sklearn-color-unfitted-level-2);\n}\n\n#sk-container-id-2 div.sk-estimator.fitted input.sk-toggleable__control:checked~label.sk-toggleable__label {\n  /* fitted */\n  background-color: var(--sklearn-color-fitted-level-2);\n}\n\n#sk-container-id-2 div.sk-label label.sk-toggleable__label,\n#sk-container-id-2 div.sk-label label {\n  /* The background is the default theme color */\n  color: var(--sklearn-color-text-on-default-background);\n}\n\n/* On hover, darken the color of the background */\n#sk-container-id-2 div.sk-label:hover label.sk-toggleable__label {\n  color: var(--sklearn-color-text);\n  background-color: var(--sklearn-color-unfitted-level-2);\n}\n\n/* Label box, darken color on hover, fitted */\n#sk-container-id-2 div.sk-label.fitted:hover label.sk-toggleable__label.fitted {\n  color: var(--sklearn-color-text);\n  background-color: var(--sklearn-color-fitted-level-2);\n}\n\n/* Estimator label */\n\n#sk-container-id-2 div.sk-label label {\n  font-family: monospace;\n  font-weight: bold;\n  display: inline-block;\n  line-height: 1.2em;\n}\n\n#sk-container-id-2 div.sk-label-container {\n  text-align: center;\n}\n\n/* Estimator-specific */\n#sk-container-id-2 div.sk-estimator {\n  font-family: monospace;\n  border: 1px dotted var(--sklearn-color-border-box);\n  border-radius: 0.25em;\n  box-sizing: border-box;\n  margin-bottom: 0.5em;\n  /* unfitted */\n  background-color: var(--sklearn-color-unfitted-level-0);\n}\n\n#sk-container-id-2 div.sk-estimator.fitted {\n  /* fitted */\n  background-color: var(--sklearn-color-fitted-level-0);\n}\n\n/* on hover */\n#sk-container-id-2 div.sk-estimator:hover {\n  /* unfitted */\n  background-color: var(--sklearn-color-unfitted-level-2);\n}\n\n#sk-container-id-2 div.sk-estimator.fitted:hover {\n  /* fitted */\n  background-color: var(--sklearn-color-fitted-level-2);\n}\n\n/* Specification for estimator info (e.g. \"i\" and \"?\") */\n\n/* Common style for \"i\" and \"?\" */\n\n.sk-estimator-doc-link,\na:link.sk-estimator-doc-link,\na:visited.sk-estimator-doc-link {\n  float: right;\n  font-size: smaller;\n  line-height: 1em;\n  font-family: monospace;\n  background-color: var(--sklearn-color-background);\n  border-radius: 1em;\n  height: 1em;\n  width: 1em;\n  text-decoration: none !important;\n  margin-left: 1ex;\n  /* unfitted */\n  border: var(--sklearn-color-unfitted-level-1) 1pt solid;\n  color: var(--sklearn-color-unfitted-level-1);\n}\n\n.sk-estimator-doc-link.fitted,\na:link.sk-estimator-doc-link.fitted,\na:visited.sk-estimator-doc-link.fitted {\n  /* fitted */\n  border: var(--sklearn-color-fitted-level-1) 1pt solid;\n  color: var(--sklearn-color-fitted-level-1);\n}\n\n/* On hover */\ndiv.sk-estimator:hover .sk-estimator-doc-link:hover,\n.sk-estimator-doc-link:hover,\ndiv.sk-label-container:hover .sk-estimator-doc-link:hover,\n.sk-estimator-doc-link:hover {\n  /* unfitted */\n  background-color: var(--sklearn-color-unfitted-level-3);\n  color: var(--sklearn-color-background);\n  text-decoration: none;\n}\n\ndiv.sk-estimator.fitted:hover .sk-estimator-doc-link.fitted:hover,\n.sk-estimator-doc-link.fitted:hover,\ndiv.sk-label-container:hover .sk-estimator-doc-link.fitted:hover,\n.sk-estimator-doc-link.fitted:hover {\n  /* fitted */\n  background-color: var(--sklearn-color-fitted-level-3);\n  color: var(--sklearn-color-background);\n  text-decoration: none;\n}\n\n/* Span, style for the box shown on hovering the info icon */\n.sk-estimator-doc-link span {\n  display: none;\n  z-index: 9999;\n  position: relative;\n  font-weight: normal;\n  right: .2ex;\n  padding: .5ex;\n  margin: .5ex;\n  width: min-content;\n  min-width: 20ex;\n  max-width: 50ex;\n  color: var(--sklearn-color-text);\n  box-shadow: 2pt 2pt 4pt #999;\n  /* unfitted */\n  background: var(--sklearn-color-unfitted-level-0);\n  border: .5pt solid var(--sklearn-color-unfitted-level-3);\n}\n\n.sk-estimator-doc-link.fitted span {\n  /* fitted */\n  background: var(--sklearn-color-fitted-level-0);\n  border: var(--sklearn-color-fitted-level-3);\n}\n\n.sk-estimator-doc-link:hover span {\n  display: block;\n}\n\n/* \"?\"-specific style due to the `<a>` HTML tag */\n\n#sk-container-id-2 a.estimator_doc_link {\n  float: right;\n  font-size: 1rem;\n  line-height: 1em;\n  font-family: monospace;\n  background-color: var(--sklearn-color-background);\n  border-radius: 1rem;\n  height: 1rem;\n  width: 1rem;\n  text-decoration: none;\n  /* unfitted */\n  color: var(--sklearn-color-unfitted-level-1);\n  border: var(--sklearn-color-unfitted-level-1) 1pt solid;\n}\n\n#sk-container-id-2 a.estimator_doc_link.fitted {\n  /* fitted */\n  border: var(--sklearn-color-fitted-level-1) 1pt solid;\n  color: var(--sklearn-color-fitted-level-1);\n}\n\n/* On hover */\n#sk-container-id-2 a.estimator_doc_link:hover {\n  /* unfitted */\n  background-color: var(--sklearn-color-unfitted-level-3);\n  color: var(--sklearn-color-background);\n  text-decoration: none;\n}\n\n#sk-container-id-2 a.estimator_doc_link.fitted:hover {\n  /* fitted */\n  background-color: var(--sklearn-color-fitted-level-3);\n}\n</style><div id=\"sk-container-id-2\" class=\"sk-top-container\"><div class=\"sk-text-repr-fallback\"><pre>GradientBoostingClassifier(max_depth=5, n_estimators=200, random_state=42)</pre><b>In a Jupyter environment, please rerun this cell to show the HTML representation or trust the notebook. <br />On GitHub, the HTML representation is unable to render, please try loading this page with nbviewer.org.</b></div><div class=\"sk-container\" hidden><div class=\"sk-item\"><div class=\"sk-estimator fitted sk-toggleable\"><input class=\"sk-toggleable__control sk-hidden--visually\" id=\"sk-estimator-id-4\" type=\"checkbox\" checked><label for=\"sk-estimator-id-4\" class=\"sk-toggleable__label fitted sk-toggleable__label-arrow fitted\">&nbsp;&nbsp;GradientBoostingClassifier<a class=\"sk-estimator-doc-link fitted\" rel=\"noreferrer\" target=\"_blank\" href=\"https://scikit-learn.org/1.5/modules/generated/sklearn.ensemble.GradientBoostingClassifier.html\">?<span>Documentation for GradientBoostingClassifier</span></a><span class=\"sk-estimator-doc-link fitted\">i<span>Fitted</span></span></label><div class=\"sk-toggleable__content fitted\"><pre>GradientBoostingClassifier(max_depth=5, n_estimators=200, random_state=42)</pre></div> </div></div></div></div>"
          },
          "metadata": {}
        }
      ],
      "execution_count": 15,
      "metadata": {
        "jupyter": {
          "source_hidden": false,
          "outputs_hidden": false
        },
        "nteract": {
          "transient": {
            "deleting": false
          }
        },
        "gather": {
          "logged": 1737348419913
        }
      }
    },
    {
      "cell_type": "code",
      "source": [
        "estimator = grid_cv.best_estimator_\n",
        "pred = estimator.predict(x_test_scaled)"
      ],
      "outputs": [],
      "execution_count": 16,
      "metadata": {
        "jupyter": {
          "source_hidden": false,
          "outputs_hidden": false
        },
        "nteract": {
          "transient": {
            "deleting": false
          }
        },
        "gather": {
          "logged": 1737348440792
        }
      }
    },
    {
      "cell_type": "code",
      "source": [
        "print('최적 하이퍼 파라미터:\\n',grid_cv.best_params_)\n",
        "print('최고 예측 정확도: {0:.4f}'.format(grid_cv.best_score_))\n",
        "evaluation(y_test, pred)"
      ],
      "outputs": [
        {
          "output_type": "stream",
          "name": "stdout",
          "text": "최적 하이퍼 파라미터:\n {'max_depth': 5, 'n_estimators': 200}\n최고 예측 정확도: 0.8914\nmae: 0.1118042084628627, mse: 0.11736819084914406, rmse:0.34259041266378726\n"
        }
      ],
      "execution_count": 17,
      "metadata": {
        "jupyter": {
          "source_hidden": false,
          "outputs_hidden": false
        },
        "nteract": {
          "transient": {
            "deleting": false
          }
        },
        "gather": {
          "logged": 1737348444710
        }
      }
    },
    {
      "cell_type": "code",
      "source": [
        "# 중요 특징 시각화\n",
        "feature_importances = estimator.feature_importances_\n",
        "features = ['GRID_X','GRID_Y','Year','Month','Day','Hour','WS','TA_C','HM']\n",
        "importance_df = pd.DataFrame({'Feature': features, 'Importance': feature_importances})"
      ],
      "outputs": [],
      "execution_count": 18,
      "metadata": {
        "jupyter": {
          "source_hidden": false,
          "outputs_hidden": false
        },
        "nteract": {
          "transient": {
            "deleting": false
          }
        },
        "gather": {
          "logged": 1737348447527
        }
      }
    },
    {
      "cell_type": "code",
      "source": [
        "plt.figure(figsize=(10,6))\n",
        "sns.barplot(x='Importance',y='Feature',data=importance_df)\n",
        "plt.title('Feature Importance in Gradient Boosting')\n",
        "plt.show()"
      ],
      "outputs": [
        {
          "output_type": "display_data",
          "data": {
            "text/plain": "<Figure size 1000x600 with 1 Axes>",
            "image/png": "[encoded data removed]"
          },
          "metadata": {}
        }
      ],
      "execution_count": 19,
      "metadata": {
        "jupyter": {
          "source_hidden": false,
          "outputs_hidden": false
        },
        "nteract": {
          "transient": {
            "deleting": false
          }
        },
        "gather": {
          "logged": 1737348450205
        }
      }
    },
    {
      "cell_type": "code",
      "source": [
        "import pickle\n",
        "with open('/mnt/batch/tasks/shared/LS_root/mounts/clusters/freezing/code/Users/tmxhs85/GBC_model','wb') as f:\n",
        "    pickle.dump(estimator,f)"
      ],
      "outputs": [],
      "execution_count": 21,
      "metadata": {
        "gather": {
          "logged": 1737348507366
        }
      }
    },
    {
      "cell_type": "code",
      "source": [
        "rf = RandomForestClassifier(max_depth=15, n_estimators=400, random_state=42)\n",
        "rf.fit(x_train_scaled,y_train)"
      ],
      "outputs": [
        {
          "output_type": "execute_result",
          "execution_count": 22,
          "data": {
            "text/plain": "RandomForestClassifier(max_depth=15, n_estimators=400, random_state=42)",
            "text/html": "<style>#sk-container-id-3 {\n  /* Definition of color scheme common for light and dark mode */\n  --sklearn-color-text: black;\n  --sklearn-color-line: gray;\n  /* Definition of color scheme for unfitted estimators */\n  --sklearn-color-unfitted-level-0: #fff5e6;\n  --sklearn-color-unfitted-level-1: #f6e4d2;\n  --sklearn-color-unfitted-level-2: #ffe0b3;\n  --sklearn-color-unfitted-level-3: chocolate;\n  /* Definition of color scheme for fitted estimators */\n  --sklearn-color-fitted-level-0: #f0f8ff;\n  --sklearn-color-fitted-level-1: #d4ebff;\n  --sklearn-color-fitted-level-2: #b3dbfd;\n  --sklearn-color-fitted-level-3: cornflowerblue;\n\n  /* Specific color for light theme */\n  --sklearn-color-text-on-default-background: var(--sg-text-color, var(--theme-code-foreground, var(--jp-content-font-color1, black)));\n  --sklearn-color-background: var(--sg-background-color, var(--theme-background, var(--jp-layout-color0, white)));\n  --sklearn-color-border-box: var(--sg-text-color, var(--theme-code-foreground, var(--jp-content-font-color1, black)));\n  --sklearn-color-icon: #696969;\n\n  @media (prefers-color-scheme: dark) {\n    /* Redefinition of color scheme for dark theme */\n    --sklearn-color-text-on-default-background: var(--sg-text-color, var(--theme-code-foreground, var(--jp-content-font-color1, white)));\n    --sklearn-color-background: var(--sg-background-color, var(--theme-background, var(--jp-layout-color0, #111)));\n    --sklearn-color-border-box: var(--sg-text-color, var(--theme-code-foreground, var(--jp-content-font-color1, white)));\n    --sklearn-color-icon: #878787;\n  }\n}\n\n#sk-container-id-3 {\n  color: var(--sklearn-color-text);\n}\n\n#sk-container-id-3 pre {\n  padding: 0;\n}\n\n#sk-container-id-3 input.sk-hidden--visually {\n  border: 0;\n  clip: rect(1px 1px 1px 1px);\n  clip: rect(1px, 1px, 1px, 1px);\n  height: 1px;\n  margin: -1px;\n  overflow: hidden;\n  padding: 0;\n  position: absolute;\n  width: 1px;\n}\n\n#sk-container-id-3 div.sk-dashed-wrapped {\n  border: 1px dashed var(--sklearn-color-line);\n  margin: 0 0.4em 0.5em 0.4em;\n  box-sizing: border-box;\n  padding-bottom: 0.4em;\n  background-color: var(--sklearn-color-background);\n}\n\n#sk-container-id-3 div.sk-container {\n  /* jupyter's `normalize.less` sets `[hidden] { display: none; }`\n     but bootstrap.min.css set `[hidden] { display: none !important; }`\n     so we also need the `!important` here to be able to override the\n     default hidden behavior on the sphinx rendered scikit-learn.org.\n     See: https://github.com/scikit-learn/scikit-learn/issues/21755 */\n  display: inline-block !important;\n  position: relative;\n}\n\n#sk-container-id-3 div.sk-text-repr-fallback {\n  display: none;\n}\n\ndiv.sk-parallel-item,\ndiv.sk-serial,\ndiv.sk-item {\n  /* draw centered vertical line to link estimators */\n  background-image: linear-gradient(var(--sklearn-color-text-on-default-background), var(--sklearn-color-text-on-default-background));\n  background-size: 2px 100%;\n  background-repeat: no-repeat;\n  background-position: center center;\n}\n\n/* Parallel-specific style estimator block */\n\n#sk-container-id-3 div.sk-parallel-item::after {\n  content: \"\";\n  width: 100%;\n  border-bottom: 2px solid var(--sklearn-color-text-on-default-background);\n  flex-grow: 1;\n}\n\n#sk-container-id-3 div.sk-parallel {\n  display: flex;\n  align-items: stretch;\n  justify-content: center;\n  background-color: var(--sklearn-color-background);\n  position: relative;\n}\n\n#sk-container-id-3 div.sk-parallel-item {\n  display: flex;\n  flex-direction: column;\n}\n\n#sk-container-id-3 div.sk-parallel-item:first-child::after {\n  align-self: flex-end;\n  width: 50%;\n}\n\n#sk-container-id-3 div.sk-parallel-item:last-child::after {\n  align-self: flex-start;\n  width: 50%;\n}\n\n#sk-container-id-3 div.sk-parallel-item:only-child::after {\n  width: 0;\n}\n\n/* Serial-specific style estimator block */\n\n#sk-container-id-3 div.sk-serial {\n  display: flex;\n  flex-direction: column;\n  align-items: center;\n  background-color: var(--sklearn-color-background);\n  padding-right: 1em;\n  padding-left: 1em;\n}\n\n\n/* Toggleable style: style used for estimator/Pipeline/ColumnTransformer box that is\nclickable and can be expanded/collapsed.\n- Pipeline and ColumnTransformer use this feature and define the default style\n- Estimators will overwrite some part of the style using the `sk-estimator` class\n*/\n\n/* Pipeline and ColumnTransformer style (default) */\n\n#sk-container-id-3 div.sk-toggleable {\n  /* Default theme specific background. It is overwritten whether we have a\n  specific estimator or a Pipeline/ColumnTransformer */\n  background-color: var(--sklearn-color-background);\n}\n\n/* Toggleable label */\n#sk-container-id-3 label.sk-toggleable__label {\n  cursor: pointer;\n  display: block;\n  width: 100%;\n  margin-bottom: 0;\n  padding: 0.5em;\n  box-sizing: border-box;\n  text-align: center;\n}\n\n#sk-container-id-3 label.sk-toggleable__label-arrow:before {\n  /* Arrow on the left of the label */\n  content: \"▸\";\n  float: left;\n  margin-right: 0.25em;\n  color: var(--sklearn-color-icon);\n}\n\n#sk-container-id-3 label.sk-toggleable__label-arrow:hover:before {\n  color: var(--sklearn-color-text);\n}\n\n/* Toggleable content - dropdown */\n\n#sk-container-id-3 div.sk-toggleable__content {\n  max-height: 0;\n  max-width: 0;\n  overflow: hidden;\n  text-align: left;\n  /* unfitted */\n  background-color: var(--sklearn-color-unfitted-level-0);\n}\n\n#sk-container-id-3 div.sk-toggleable__content.fitted {\n  /* fitted */\n  background-color: var(--sklearn-color-fitted-level-0);\n}\n\n#sk-container-id-3 div.sk-toggleable__content pre {\n  margin: 0.2em;\n  border-radius: 0.25em;\n  color: var(--sklearn-color-text);\n  /* unfitted */\n  background-color: var(--sklearn-color-unfitted-level-0);\n}\n\n#sk-container-id-3 div.sk-toggleable__content.fitted pre {\n  /* unfitted */\n  background-color: var(--sklearn-color-fitted-level-0);\n}\n\n#sk-container-id-3 input.sk-toggleable__control:checked~div.sk-toggleable__content {\n  /* Expand drop-down */\n  max-height: 200px;\n  max-width: 100%;\n  overflow: auto;\n}\n\n#sk-container-id-3 input.sk-toggleable__control:checked~label.sk-toggleable__label-arrow:before {\n  content: \"▾\";\n}\n\n/* Pipeline/ColumnTransformer-specific style */\n\n#sk-container-id-3 div.sk-label input.sk-toggleable__control:checked~label.sk-toggleable__label {\n  color: var(--sklearn-color-text);\n  background-color: var(--sklearn-color-unfitted-level-2);\n}\n\n#sk-container-id-3 div.sk-label.fitted input.sk-toggleable__control:checked~label.sk-toggleable__label {\n  background-color: var(--sklearn-color-fitted-level-2);\n}\n\n/* Estimator-specific style */\n\n/* Colorize estimator box */\n#sk-container-id-3 div.sk-estimator input.sk-toggleable__control:checked~label.sk-toggleable__label {\n  /* unfitted */\n  background-color: var(--sklearn-color-unfitted-level-2);\n}\n\n#sk-container-id-3 div.sk-estimator.fitted input.sk-toggleable__control:checked~label.sk-toggleable__label {\n  /* fitted */\n  background-color: var(--sklearn-color-fitted-level-2);\n}\n\n#sk-container-id-3 div.sk-label label.sk-toggleable__label,\n#sk-container-id-3 div.sk-label label {\n  /* The background is the default theme color */\n  color: var(--sklearn-color-text-on-default-background);\n}\n\n/* On hover, darken the color of the background */\n#sk-container-id-3 div.sk-label:hover label.sk-toggleable__label {\n  color: var(--sklearn-color-text);\n  background-color: var(--sklearn-color-unfitted-level-2);\n}\n\n/* Label box, darken color on hover, fitted */\n#sk-container-id-3 div.sk-label.fitted:hover label.sk-toggleable__label.fitted {\n  color: var(--sklearn-color-text);\n  background-color: var(--sklearn-color-fitted-level-2);\n}\n\n/* Estimator label */\n\n#sk-container-id-3 div.sk-label label {\n  font-family: monospace;\n  font-weight: bold;\n  display: inline-block;\n  line-height: 1.2em;\n}\n\n#sk-container-id-3 div.sk-label-container {\n  text-align: center;\n}\n\n/* Estimator-specific */\n#sk-container-id-3 div.sk-estimator {\n  font-family: monospace;\n  border: 1px dotted var(--sklearn-color-border-box);\n  border-radius: 0.25em;\n  box-sizing: border-box;\n  margin-bottom: 0.5em;\n  /* unfitted */\n  background-color: var(--sklearn-color-unfitted-level-0);\n}\n\n#sk-container-id-3 div.sk-estimator.fitted {\n  /* fitted */\n  background-color: var(--sklearn-color-fitted-level-0);\n}\n\n/* on hover */\n#sk-container-id-3 div.sk-estimator:hover {\n  /* unfitted */\n  background-color: var(--sklearn-color-unfitted-level-2);\n}\n\n#sk-container-id-3 div.sk-estimator.fitted:hover {\n  /* fitted */\n  background-color: var(--sklearn-color-fitted-level-2);\n}\n\n/* Specification for estimator info (e.g. \"i\" and \"?\") */\n\n/* Common style for \"i\" and \"?\" */\n\n.sk-estimator-doc-link,\na:link.sk-estimator-doc-link,\na:visited.sk-estimator-doc-link {\n  float: right;\n  font-size: smaller;\n  line-height: 1em;\n  font-family: monospace;\n  background-color: var(--sklearn-color-background);\n  border-radius: 1em;\n  height: 1em;\n  width: 1em;\n  text-decoration: none !important;\n  margin-left: 1ex;\n  /* unfitted */\n  border: var(--sklearn-color-unfitted-level-1) 1pt solid;\n  color: var(--sklearn-color-unfitted-level-1);\n}\n\n.sk-estimator-doc-link.fitted,\na:link.sk-estimator-doc-link.fitted,\na:visited.sk-estimator-doc-link.fitted {\n  /* fitted */\n  border: var(--sklearn-color-fitted-level-1) 1pt solid;\n  color: var(--sklearn-color-fitted-level-1);\n}\n\n/* On hover */\ndiv.sk-estimator:hover .sk-estimator-doc-link:hover,\n.sk-estimator-doc-link:hover,\ndiv.sk-label-container:hover .sk-estimator-doc-link:hover,\n.sk-estimator-doc-link:hover {\n  /* unfitted */\n  background-color: var(--sklearn-color-unfitted-level-3);\n  color: var(--sklearn-color-background);\n  text-decoration: none;\n}\n\ndiv.sk-estimator.fitted:hover .sk-estimator-doc-link.fitted:hover,\n.sk-estimator-doc-link.fitted:hover,\ndiv.sk-label-container:hover .sk-estimator-doc-link.fitted:hover,\n.sk-estimator-doc-link.fitted:hover {\n  /* fitted */\n  background-color: var(--sklearn-color-fitted-level-3);\n  color: var(--sklearn-color-background);\n  text-decoration: none;\n}\n\n/* Span, style for the box shown on hovering the info icon */\n.sk-estimator-doc-link span {\n  display: none;\n  z-index: 9999;\n  position: relative;\n  font-weight: normal;\n  right: .2ex;\n  padding: .5ex;\n  margin: .5ex;\n  width: min-content;\n  min-width: 20ex;\n  max-width: 50ex;\n  color: var(--sklearn-color-text);\n  box-shadow: 2pt 2pt 4pt #999;\n  /* unfitted */\n  background: var(--sklearn-color-unfitted-level-0);\n  border: .5pt solid var(--sklearn-color-unfitted-level-3);\n}\n\n.sk-estimator-doc-link.fitted span {\n  /* fitted */\n  background: var(--sklearn-color-fitted-level-0);\n  border: var(--sklearn-color-fitted-level-3);\n}\n\n.sk-estimator-doc-link:hover span {\n  display: block;\n}\n\n/* \"?\"-specific style due to the `<a>` HTML tag */\n\n#sk-container-id-3 a.estimator_doc_link {\n  float: right;\n  font-size: 1rem;\n  line-height: 1em;\n  font-family: monospace;\n  background-color: var(--sklearn-color-background);\n  border-radius: 1rem;\n  height: 1rem;\n  width: 1rem;\n  text-decoration: none;\n  /* unfitted */\n  color: var(--sklearn-color-unfitted-level-1);\n  border: var(--sklearn-color-unfitted-level-1) 1pt solid;\n}\n\n#sk-container-id-3 a.estimator_doc_link.fitted {\n  /* fitted */\n  border: var(--sklearn-color-fitted-level-1) 1pt solid;\n  color: var(--sklearn-color-fitted-level-1);\n}\n\n/* On hover */\n#sk-container-id-3 a.estimator_doc_link:hover {\n  /* unfitted */\n  background-color: var(--sklearn-color-unfitted-level-3);\n  color: var(--sklearn-color-background);\n  text-decoration: none;\n}\n\n#sk-container-id-3 a.estimator_doc_link.fitted:hover {\n  /* fitted */\n  background-color: var(--sklearn-color-fitted-level-3);\n}\n</style><div id=\"sk-container-id-3\" class=\"sk-top-container\"><div class=\"sk-text-repr-fallback\"><pre>RandomForestClassifier(max_depth=15, n_estimators=400, random_state=42)</pre><b>In a Jupyter environment, please rerun this cell to show the HTML representation or trust the notebook. <br />On GitHub, the HTML representation is unable to render, please try loading this page with nbviewer.org.</b></div><div class=\"sk-container\" hidden><div class=\"sk-item\"><div class=\"sk-estimator fitted sk-toggleable\"><input class=\"sk-toggleable__control sk-hidden--visually\" id=\"sk-estimator-id-5\" type=\"checkbox\" checked><label for=\"sk-estimator-id-5\" class=\"sk-toggleable__label fitted sk-toggleable__label-arrow fitted\">&nbsp;&nbsp;RandomForestClassifier<a class=\"sk-estimator-doc-link fitted\" rel=\"noreferrer\" target=\"_blank\" href=\"https://scikit-learn.org/1.5/modules/generated/sklearn.ensemble.RandomForestClassifier.html\">?<span>Documentation for RandomForestClassifier</span></a><span class=\"sk-estimator-doc-link fitted\">i<span>Fitted</span></span></label><div class=\"sk-toggleable__content fitted\"><pre>RandomForestClassifier(max_depth=15, n_estimators=400, random_state=42)</pre></div> </div></div></div></div>"
          },
          "metadata": {}
        }
      ],
      "execution_count": 22,
      "metadata": {
        "gather": {
          "logged": 1737352853197
        }
      }
    },
    {
      "cell_type": "code",
      "source": [
        "rf_pred = rf.predict(x_test_scaled)\n",
        "accuracy = accuracy_score(y_test, rf_pred)\n",
        "print(f\"Accuracy: {accuracy:.2f}\")"
      ],
      "outputs": [
        {
          "output_type": "stream",
          "name": "stdout",
          "text": "Accuracy: 0.91\n"
        }
      ],
      "execution_count": 23,
      "metadata": {
        "gather": {
          "logged": 1737356335856
        }
      }
    },
    {
      "cell_type": "code",
      "source": [
        "with open('/mnt/batch/tasks/shared/LS_root/mounts/clusters/freezing/code/Users/tmxhs85/RF_model','wb') as f:\n",
        "    pickle.dump(rf,f)"
      ],
      "outputs": [],
      "execution_count": 24,
      "metadata": {
        "gather": {
          "logged": 1737356382836
        }
      }
    },
    {
      "cell_type": "code",
      "source": [
        "import torch\n",
        "import torch.nn as nn\n",
        "from pytorch_tabnet.tab_model import TabNetClassifier"
      ],
      "outputs": [],
      "execution_count": 22,
      "metadata": {
        "gather": {
          "logged": 1737443020682
        }
      }
    },
    {
      "cell_type": "code",
      "source": [
        "!pip install pytorch-tabnet"
      ],
      "outputs": [
        {
          "output_type": "stream",
          "name": "stdout",
          "text": "Collecting pytorch-tabnet\n  Downloading pytorch_tabnet-4.1.0-py3-none-any.whl (44 kB)\n\u001b[2K     \u001b[90m━━━━━━━━━━━━━━━━━━━━━━━━━━━━━━━━━━━━━━━━\u001b[0m \u001b[32m44.5/44.5 kB\u001b[0m \u001b[31m1.8 MB/s\u001b[0m eta \u001b[36m0:00:00\u001b[0m\n\u001b[?25hRequirement already satisfied: tqdm>=4.36 in /anaconda/envs/azureml_py38/lib/python3.10/site-packages (from pytorch-tabnet) (4.66.4)\nRequirement already satisfied: scikit_learn>0.21 in /anaconda/envs/azureml_py38/lib/python3.10/site-packages (from pytorch-tabnet) (1.5.1)\nRequirement already satisfied: torch>=1.3 in /anaconda/envs/azureml_py38/lib/python3.10/site-packages (from pytorch-tabnet) (2.4.1)\nRequirement already satisfied: numpy>=1.17 in /anaconda/envs/azureml_py38/lib/python3.10/site-packages (from pytorch-tabnet) (1.23.5)\nRequirement already satisfied: scipy>1.4 in /anaconda/envs/azureml_py38/lib/python3.10/site-packages (from pytorch-tabnet) (1.10.1)\nRequirement already satisfied: joblib>=1.2.0 in /anaconda/envs/azureml_py38/lib/python3.10/site-packages (from scikit_learn>0.21->pytorch-tabnet) (1.2.0)\nRequirement already satisfied: threadpoolctl>=3.1.0 in /anaconda/envs/azureml_py38/lib/python3.10/site-packages (from scikit_learn>0.21->pytorch-tabnet) (3.5.0)\nRequirement already satisfied: nvidia-nccl-cu12==2.20.5 in /anaconda/envs/azureml_py38/lib/python3.10/site-packages (from torch>=1.3->pytorch-tabnet) (2.20.5)\nRequirement already satisfied: nvidia-curand-cu12==10.3.2.106 in /anaconda/envs/azureml_py38/lib/python3.10/site-packages (from torch>=1.3->pytorch-tabnet) (10.3.2.106)\nRequirement already satisfied: sympy in /anaconda/envs/azureml_py38/lib/python3.10/site-packages (from torch>=1.3->pytorch-tabnet) (1.13.1)\nRequirement already satisfied: nvidia-cusparse-cu12==12.1.0.106 in /anaconda/envs/azureml_py38/lib/python3.10/site-packages (from torch>=1.3->pytorch-tabnet) (12.1.0.106)\nRequirement already satisfied: nvidia-cuda-cupti-cu12==12.1.105 in /anaconda/envs/azureml_py38/lib/python3.10/site-packages (from torch>=1.3->pytorch-tabnet) (12.1.105)\nRequirement already satisfied: fsspec in /anaconda/envs/azureml_py38/lib/python3.10/site-packages (from torch>=1.3->pytorch-tabnet) (2023.10.0)\nRequirement already satisfied: nvidia-cusolver-cu12==11.4.5.107 in /anaconda/envs/azureml_py38/lib/python3.10/site-packages (from torch>=1.3->pytorch-tabnet) (11.4.5.107)\nRequirement already satisfied: networkx in /anaconda/envs/azureml_py38/lib/python3.10/site-packages (from torch>=1.3->pytorch-tabnet) (3.3)\nRequirement already satisfied: filelock in /anaconda/envs/azureml_py38/lib/python3.10/site-packages (from torch>=1.3->pytorch-tabnet) (3.15.4)\nRequirement already satisfied: nvidia-cublas-cu12==12.1.3.1 in /anaconda/envs/azureml_py38/lib/python3.10/site-packages (from torch>=1.3->pytorch-tabnet) (12.1.3.1)\nRequirement already satisfied: triton==3.0.0 in /anaconda/envs/azureml_py38/lib/python3.10/site-packages (from torch>=1.3->pytorch-tabnet) (3.0.0)\nRequirement already satisfied: typing-extensions>=4.8.0 in /anaconda/envs/azureml_py38/lib/python3.10/site-packages (from torch>=1.3->pytorch-tabnet) (4.12.2)\nRequirement already satisfied: jinja2 in /anaconda/envs/azureml_py38/lib/python3.10/site-packages (from torch>=1.3->pytorch-tabnet) (3.1.4)\nRequirement already satisfied: nvidia-cuda-nvrtc-cu12==12.1.105 in /anaconda/envs/azureml_py38/lib/python3.10/site-packages (from torch>=1.3->pytorch-tabnet) (12.1.105)\nRequirement already satisfied: nvidia-cuda-runtime-cu12==12.1.105 in /anaconda/envs/azureml_py38/lib/python3.10/site-packages (from torch>=1.3->pytorch-tabnet) (12.1.105)\nRequirement already satisfied: nvidia-cufft-cu12==11.0.2.54 in /anaconda/envs/azureml_py38/lib/python3.10/site-packages (from torch>=1.3->pytorch-tabnet) (11.0.2.54)\nRequirement already satisfied: nvidia-nvtx-cu12==12.1.105 in /anaconda/envs/azureml_py38/lib/python3.10/site-packages (from torch>=1.3->pytorch-tabnet) (12.1.105)\nRequirement already satisfied: nvidia-cudnn-cu12==9.1.0.70 in /anaconda/envs/azureml_py38/lib/python3.10/site-packages (from torch>=1.3->pytorch-tabnet) (9.1.0.70)\nRequirement already satisfied: nvidia-nvjitlink-cu12 in /anaconda/envs/azureml_py38/lib/python3.10/site-packages (from nvidia-cusolver-cu12==11.4.5.107->torch>=1.3->pytorch-tabnet) (12.6.68)\nRequirement already satisfied: MarkupSafe>=2.0 in /anaconda/envs/azureml_py38/lib/python3.10/site-packages (from jinja2->torch>=1.3->pytorch-tabnet) (2.1.5)\nRequirement already satisfied: mpmath<1.4,>=1.1.0 in /anaconda/envs/azureml_py38/lib/python3.10/site-packages (from sympy->torch>=1.3->pytorch-tabnet) (1.3.0)\nInstalling collected packages: pytorch-tabnet\nSuccessfully installed pytorch-tabnet-4.1.0\n"
        }
      ],
      "execution_count": 21,
      "metadata": {}
    },
    {
      "cell_type": "code",
      "source": [
        "train_df = pd.read_csv('/mnt/batch/tasks/shared/LS_root/mounts/clusters/freezing/code/Users/tmxhs85/train_df.csv')"
      ],
      "outputs": [],
      "execution_count": 62,
      "metadata": {
        "gather": {
          "logged": 1737366383415
        }
      }
    },
    {
      "cell_type": "code",
      "source": [
        "train_df.head()"
      ],
      "outputs": [
        {
          "output_type": "execute_result",
          "execution_count": 63,
          "data": {
            "text/plain": "       GRID_X     GRID_Y  ICE_state   WS  TA_C    HM  Year  Month  Day  Hour\n0  126.700114  37.191712          1  0.6  -4.6  94.0  2023      1    1     0\n1  126.700266  37.205535          1  0.6  -4.6  94.0  2023      1    1     0\n2  126.700417  37.219358          1  0.6  -4.6  94.0  2023      1    1     0\n3  126.700569  37.233181          1  0.6  -4.6  94.0  2023      1    1     0\n4  126.700721  37.247005          1  0.6  -4.6  94.0  2023      1    1     0",
            "text/html": "<div>\n<style scoped>\n    .dataframe tbody tr th:only-of-type {\n        vertical-align: middle;\n    }\n\n    .dataframe tbody tr th {\n        vertical-align: top;\n    }\n\n    .dataframe thead th {\n        text-align: right;\n    }\n</style>\n<table border=\"1\" class=\"dataframe\">\n  <thead>\n    <tr style=\"text-align: right;\">\n      <th></th>\n      <th>GRID_X</th>\n      <th>GRID_Y</th>\n      <th>ICE_state</th>\n      <th>WS</th>\n      <th>TA_C</th>\n      <th>HM</th>\n      <th>Year</th>\n      <th>Month</th>\n      <th>Day</th>\n      <th>Hour</th>\n    </tr>\n  </thead>\n  <tbody>\n    <tr>\n      <th>0</th>\n      <td>126.700114</td>\n      <td>37.191712</td>\n      <td>1</td>\n      <td>0.6</td>\n      <td>-4.6</td>\n      <td>94.0</td>\n      <td>2023</td>\n      <td>1</td>\n      <td>1</td>\n      <td>0</td>\n    </tr>\n    <tr>\n      <th>1</th>\n      <td>126.700266</td>\n      <td>37.205535</td>\n      <td>1</td>\n      <td>0.6</td>\n      <td>-4.6</td>\n      <td>94.0</td>\n      <td>2023</td>\n      <td>1</td>\n      <td>1</td>\n      <td>0</td>\n    </tr>\n    <tr>\n      <th>2</th>\n      <td>126.700417</td>\n      <td>37.219358</td>\n      <td>1</td>\n      <td>0.6</td>\n      <td>-4.6</td>\n      <td>94.0</td>\n      <td>2023</td>\n      <td>1</td>\n      <td>1</td>\n      <td>0</td>\n    </tr>\n    <tr>\n      <th>3</th>\n      <td>126.700569</td>\n      <td>37.233181</td>\n      <td>1</td>\n      <td>0.6</td>\n      <td>-4.6</td>\n      <td>94.0</td>\n      <td>2023</td>\n      <td>1</td>\n      <td>1</td>\n      <td>0</td>\n    </tr>\n    <tr>\n      <th>4</th>\n      <td>126.700721</td>\n      <td>37.247005</td>\n      <td>1</td>\n      <td>0.6</td>\n      <td>-4.6</td>\n      <td>94.0</td>\n      <td>2023</td>\n      <td>1</td>\n      <td>1</td>\n      <td>0</td>\n    </tr>\n  </tbody>\n</table>\n</div>"
          },
          "metadata": {}
        }
      ],
      "execution_count": 63,
      "metadata": {
        "gather": {
          "logged": 1737366383753
        }
      }
    },
    {
      "cell_type": "code",
      "source": [
        "target = train_df.columns[2]    # 2번째 컬럼\n",
        "if \"Set\" not in train_df.columns:\n",
        "    train_df[\"Set\"] = np.random.choice([\"train\", \"valid\", \"test\"], p =[.8, .1, .1], size=(train_df.shape[0],))\n",
        "\n",
        "train_indices = train_df[train_df.Set==\"train\"].index\n",
        "valid_indices = train_df[train_df.Set==\"valid\"].index\n",
        "test_indices = train_df[train_df.Set==\"test\"].index"
      ],
      "outputs": [],
      "execution_count": 10,
      "metadata": {
        "gather": {
          "logged": 1737442971359
        }
      }
    },
    {
      "cell_type": "code",
      "source": [
        "# TabNet 학습을 위한 Data Preprocessing\n",
        "nunique = train_df.nunique()\n",
        "types = train_df.dtypes"
      ],
      "outputs": [],
      "execution_count": 11,
      "metadata": {
        "gather": {
          "logged": 1737442973918
        }
      }
    },
    {
      "cell_type": "code",
      "source": [
        "nunique"
      ],
      "outputs": [
        {
          "output_type": "execute_result",
          "execution_count": 12,
          "data": {
            "text/plain": "GRID_X       2349\nGRID_Y       2349\nICE_state       3\nWS             84\nTA_C          357\nHM             88\nYear            2\nMonth           2\nDay            31\nHour           24\nSet             3\ndtype: int64"
          },
          "metadata": {}
        }
      ],
      "execution_count": 12,
      "metadata": {
        "gather": {
          "logged": 1737442975088
        }
      }
    },
    {
      "cell_type": "code",
      "source": [
        "types"
      ],
      "outputs": [
        {
          "output_type": "execute_result",
          "execution_count": 13,
          "data": {
            "text/plain": "GRID_X       float64\nGRID_Y       float64\nICE_state      int64\nWS           float64\nTA_C         float64\nHM           float64\nYear           int64\nMonth          int64\nDay            int64\nHour           int64\nSet           object\ndtype: object"
          },
          "metadata": {}
        }
      ],
      "execution_count": 13,
      "metadata": {
        "gather": {
          "logged": 1737442976250
        }
      }
    },
    {
      "cell_type": "code",
      "source": [
        "categorical_columns = []\n",
        "categorical_dims =  {}"
      ],
      "outputs": [],
      "execution_count": 14,
      "metadata": {
        "gather": {
          "logged": 1737442977489
        }
      }
    },
    {
      "cell_type": "code",
      "source": [
        "# unique한 값이 200개 미만이라면 categorical 변수로 변환\n",
        "for col in train_df.columns:\n",
        "    if types[col] == 'object' or nunique[col] < 200:\n",
        "        print(col, train_df[col].nunique())\n",
        "        l_enc = LabelEncoder()\n",
        "        train_df[col] = train_df[col].fillna(\"VV_likely\")\n",
        "        train_df[col] = l_enc.fit_transform(train_df[col].values)\n",
        "        categorical_columns.append(col)\n",
        "        categorical_dims[col] = len(l_enc.classes_)"
      ],
      "outputs": [
        {
          "output_type": "stream",
          "name": "stdout",
          "text": "ICE_state 3\nWS 84\nHM 88\nYear 2\nMonth 2\nDay 31\nHour 24\nSet 3\n"
        }
      ],
      "execution_count": 15,
      "metadata": {
        "gather": {
          "logged": 1737442983881
        }
      }
    },
    {
      "cell_type": "code",
      "source": [
        "train_df.head()"
      ],
      "outputs": [
        {
          "output_type": "execute_result",
          "execution_count": 16,
          "data": {
            "text/plain": "       GRID_X     GRID_Y  ICE_state  WS  TA_C  HM  Year  Month  Day  Hour  Set\n0  126.700114  37.191712          1   7  -4.6  81     0      0    0     0    0\n1  126.700266  37.205535          1   7  -4.6  81     0      0    0     0    1\n2  126.700417  37.219358          1   7  -4.6  81     0      0    0     0    1\n3  126.700569  37.233181          1   7  -4.6  81     0      0    0     0    1\n4  126.700721  37.247005          1   7  -4.6  81     0      0    0     0    1",
            "text/html": "<div>\n<style scoped>\n    .dataframe tbody tr th:only-of-type {\n        vertical-align: middle;\n    }\n\n    .dataframe tbody tr th {\n        vertical-align: top;\n    }\n\n    .dataframe thead th {\n        text-align: right;\n    }\n</style>\n<table border=\"1\" class=\"dataframe\">\n  <thead>\n    <tr style=\"text-align: right;\">\n      <th></th>\n      <th>GRID_X</th>\n      <th>GRID_Y</th>\n      <th>ICE_state</th>\n      <th>WS</th>\n      <th>TA_C</th>\n      <th>HM</th>\n      <th>Year</th>\n      <th>Month</th>\n      <th>Day</th>\n      <th>Hour</th>\n      <th>Set</th>\n    </tr>\n  </thead>\n  <tbody>\n    <tr>\n      <th>0</th>\n      <td>126.700114</td>\n      <td>37.191712</td>\n      <td>1</td>\n      <td>7</td>\n      <td>-4.6</td>\n      <td>81</td>\n      <td>0</td>\n      <td>0</td>\n      <td>0</td>\n      <td>0</td>\n      <td>0</td>\n    </tr>\n    <tr>\n      <th>1</th>\n      <td>126.700266</td>\n      <td>37.205535</td>\n      <td>1</td>\n      <td>7</td>\n      <td>-4.6</td>\n      <td>81</td>\n      <td>0</td>\n      <td>0</td>\n      <td>0</td>\n      <td>0</td>\n      <td>1</td>\n    </tr>\n    <tr>\n      <th>2</th>\n      <td>126.700417</td>\n      <td>37.219358</td>\n      <td>1</td>\n      <td>7</td>\n      <td>-4.6</td>\n      <td>81</td>\n      <td>0</td>\n      <td>0</td>\n      <td>0</td>\n      <td>0</td>\n      <td>1</td>\n    </tr>\n    <tr>\n      <th>3</th>\n      <td>126.700569</td>\n      <td>37.233181</td>\n      <td>1</td>\n      <td>7</td>\n      <td>-4.6</td>\n      <td>81</td>\n      <td>0</td>\n      <td>0</td>\n      <td>0</td>\n      <td>0</td>\n      <td>1</td>\n    </tr>\n    <tr>\n      <th>4</th>\n      <td>126.700721</td>\n      <td>37.247005</td>\n      <td>1</td>\n      <td>7</td>\n      <td>-4.6</td>\n      <td>81</td>\n      <td>0</td>\n      <td>0</td>\n      <td>0</td>\n      <td>0</td>\n      <td>1</td>\n    </tr>\n  </tbody>\n</table>\n</div>"
          },
          "metadata": {}
        }
      ],
      "execution_count": 16,
      "metadata": {
        "gather": {
          "logged": 1737442984238
        }
      }
    },
    {
      "cell_type": "code",
      "source": [
        "# Categorical Embedding을 위해 Categorical 변수의 차원과 idxs를 담음.\n",
        "unused_feat = ['Set']\n",
        "features = [ col for col in train_df.columns if col not in unused_feat+[target]]\n",
        "cat_idxs = [ i for i, f in enumerate(features) if f in categorical_columns]\n",
        "cat_dims = [ categorical_dims[f] for i, f in enumerate(features) if f in categorical_columns]"
      ],
      "outputs": [],
      "execution_count": 17,
      "metadata": {
        "gather": {
          "logged": 1737442987369
        }
      }
    },
    {
      "cell_type": "code",
      "source": [
        "x_train = train_df[features].values[train_indices]\n",
        "y_train = train_df[target].values[train_indices]\n",
        "\n",
        "x_valid = train_df[features].values[valid_indices]\n",
        "y_valid = train_df[target].values[valid_indices]\n",
        "\n",
        "x_test = train_df[features].values[test_indices]\n",
        "y_test = train_df[target].values[test_indices]"
      ],
      "outputs": [],
      "execution_count": 18,
      "metadata": {
        "gather": {
          "logged": 1737442990312
        }
      }
    },
    {
      "cell_type": "code",
      "source": [
        "tnc = TabNetClassifier(cat_idxs=cat_idxs,\n",
        "                       cat_dims=cat_dims,\n",
        "                       cat_emb_dim=10,\n",
        "                       optimizer_fn=torch.optim.Adam,\n",
        "                       optimizer_params=dict(lr=1e-2),\n",
        "                       scheduler_params={\"step_size\":50,\n",
        "                                         \"gamma\":0.9},\n",
        "                       scheduler_fn=torch.optim.lr_scheduler.StepLR,\n",
        "                       mask_type='sparsemax'\n",
        "                      )"
      ],
      "outputs": [
        {
          "output_type": "stream",
          "name": "stderr",
          "text": "/anaconda/envs/azureml_py38/lib/python3.10/site-packages/pytorch_tabnet/abstract_model.py:82: UserWarning: Device used : cuda\n  warnings.warn(f\"Device used : {self.device}\")\n"
        }
      ],
      "execution_count": 23,
      "metadata": {
        "gather": {
          "logged": 1737443028868
        }
      }
    },
    {
      "cell_type": "code",
      "source": [
        "max_epochs = 15\n",
        "\n",
        "history = tnc.fit(\n",
        "    X_train=x_train, y_train=y_train,\n",
        "    eval_set=[(x_train, y_train), (x_valid, y_valid)],\n",
        "    eval_name=['train', 'valid'],\n",
        "    eval_metric=['accuracy'],\n",
        "    max_epochs=max_epochs , patience=20,\n",
        "    batch_size=1024, virtual_batch_size=128,\n",
        "    num_workers=0,\n",
        "    weights=1,\n",
        "    drop_last=False,\n",
        ")"
      ],
      "outputs": [
        {
          "output_type": "stream",
          "name": "stdout",
          "text": "epoch 0  | loss: 0.42424 | train_accuracy: 0.8396  | valid_accuracy: 0.8397  |  0:04:53s\nepoch 1  | loss: 0.35188 | train_accuracy: 0.85882 | valid_accuracy: 0.85814 |  0:09:49s\nepoch 2  | loss: 0.34088 | train_accuracy: 0.85791 | valid_accuracy: 0.85747 |  0:14:40s\nepoch 3  | loss: 0.33385 | train_accuracy: 0.85947 | valid_accuracy: 0.85918 |  0:19:31s\nepoch 4  | loss: 0.33095 | train_accuracy: 0.86151 | valid_accuracy: 0.86131 |  0:24:22s\nepoch 5  | loss: 0.33236 | train_accuracy: 0.85669 | valid_accuracy: 0.85621 |  0:29:13s\nepoch 6  | loss: 0.33065 | train_accuracy: 0.86231 | valid_accuracy: 0.86208 |  0:34:04s\nepoch 7  | loss: 0.32797 | train_accuracy: 0.86381 | valid_accuracy: 0.86342 |  0:38:55s\nepoch 8  | loss: 0.33194 | train_accuracy: 0.86178 | valid_accuracy: 0.86128 |  0:43:45s\nepoch 9  | loss: 0.32698 | train_accuracy: 0.85767 | valid_accuracy: 0.85731 |  0:48:35s\nepoch 10 | loss: 0.32579 | train_accuracy: 0.86486 | valid_accuracy: 0.86437 |  0:53:25s\nepoch 11 | loss: 0.32331 | train_accuracy: 0.86531 | valid_accuracy: 0.8649  |  0:58:15s\nepoch 12 | loss: 0.32093 | train_accuracy: 0.85956 | valid_accuracy: 0.85871 |  1:03:06s\nepoch 13 | loss: 0.32827 | train_accuracy: 0.86041 | valid_accuracy: 0.85983 |  1:07:56s\n"
        },
        {
          "output_type": "stream",
          "name": "stderr",
          "text": "/anaconda/envs/azureml_py38/lib/python3.10/site-packages/pytorch_tabnet/callbacks.py:172: UserWarning: Best weights from best epoch are automatically used!\n  warnings.warn(wrn_msg)\n"
        }
      ],
      "execution_count": 24,
      "metadata": {
        "gather": {
          "logged": 1737447985571
        }
      }
    },
    {
      "cell_type": "code",
      "source": [
        "from sklearn.metrics import accuracy_score\n",
        "\n",
        "preds = tnc.predict(x_test)\n",
        "test_auc = accuracy_score(y_test, preds)\n",
        "print(f\"Accuracy: {test_auc:.2f}\")"
      ],
      "outputs": [
        {
          "output_type": "stream",
          "name": "stdout",
          "text": "Accuracy: 0.87\n"
        }
      ],
      "execution_count": 90,
      "metadata": {
        "gather": {
          "logged": 1737377184977
        }
      }
    },
    {
      "cell_type": "code",
      "source": [
        "explain_matrix, masks = tnc.explain(x_test)\n",
        "\n",
        "fig, axs = plt.subplots(1, 3, figsize=(20,10))\n",
        "for i in range(3):\n",
        "    axs[i].imshow(masks[i][:50])\n",
        "    axs[i].set_title(f\"mask {i}\")"
      ],
      "outputs": [
        {
          "output_type": "display_data",
          "data": {
            "text/plain": "<Figure size 2000x1000 with 3 Axes>",
            "image/png": "[encoded data removed]"
          },
          "metadata": {}
        }
      ],
      "execution_count": 93,
      "metadata": {
        "gather": {
          "logged": 1737377296025
        }
      }
    },
    {
      "cell_type": "code",
      "source": [
        "with open('/mnt/batch/tasks/shared/LS_root/mounts/clusters/freezing/code/Users/tmxhs85/TN_model','wb') as f:\n",
        "    pickle.dump(tnc,f)"
      ],
      "outputs": [],
      "execution_count": 94,
      "metadata": {
        "gather": {
          "logged": 1737377304073
        }
      }
    },
    {
      "cell_type": "code",
      "source": [
        "# RandomForest accuracy 그래프 그리기\n",
        "import pickle\n",
        "with open('/mnt/batch/tasks/shared/LS_root/mounts/clusters/gpu/code/Users/tmxhs85/RF_model', 'rb') as f:\n",
        "    rf_model = pickle.load(f)"
      ],
      "outputs": [],
      "execution_count": 61,
      "metadata": {
        "jupyter": {
          "source_hidden": false,
          "outputs_hidden": false
        },
        "nteract": {
          "transient": {
            "deleting": false
          }
        },
        "gather": {
          "logged": 1737524627904
        }
      }
    },
    {
      "cell_type": "code",
      "source": [
        "# 학습 완료 후 훈련 세트와 검증 세트에서 정확도를 추적\n",
        "train_acc = accuracy_score(y_train, rf_model.predict(x_train_scaled))\n",
        "val_acc = accuracy_score(y_test, rf_model.predict(x_test_scaled))"
      ],
      "outputs": [],
      "execution_count": 62,
      "metadata": {
        "gather": {
          "logged": 1737525038853
        }
      }
    },
    {
      "cell_type": "code",
      "source": [
        "# 정확도 기록\n",
        "train_accuracies = []\n",
        "val_accuracies = []\n",
        "\n",
        "train_accuracies.append(train_acc)\n",
        "val_accuracies.append(val_acc)"
      ],
      "outputs": [],
      "execution_count": 63,
      "metadata": {
        "gather": {
          "logged": 1737525111878
        }
      }
    },
    {
      "cell_type": "code",
      "source": [
        "# 차이 계산\n",
        "accuracy_diff = train_acc - val_acc"
      ],
      "outputs": [],
      "execution_count": 64,
      "metadata": {
        "gather": {
          "logged": 1737525113047
        }
      }
    },
    {
      "cell_type": "code",
      "source": [
        "# 정확도를 2D 배열로 준비 (한 차원으로 두 값을 넣음)\n",
        "accuracy_matrix = np.array([[train_acc, val_acc]])\n",
        "\n",
        "# 히트맵 그리기\n",
        "sns.heatmap(accuracy_matrix, annot=True, cmap='coolwarm', xticklabels=['Train Accuracy', 'Validation Accuracy'], yticklabels=['Accuracy'], cbar=True)\n",
        "\n",
        "# 그래프 설정\n",
        "plt.title('Random Forest Train, Validation Accuracy (Heatmap)')\n",
        "\n",
        "plt.savefig('/mnt/batch/tasks/shared/LS_root/mounts/clusters/gpu/code/Users/tmxhs85/RF_accuracy.png')"
      ],
      "outputs": [
        {
          "output_type": "display_data",
          "data": {
            "text/plain": "<Figure size 640x480 with 2 Axes>",
            "image/png": "[encoded data removed]"
          },
          "metadata": {}
        }
      ],
      "execution_count": 65,
      "metadata": {
        "gather": {
          "logged": 1737525136526
        }
      }
    },
    {
      "cell_type": "code",
      "source": [
        "from sklearn.ensemble import GradientBoostingClassifier\n",
        "\n",
        "# GradientBoosting 시각화\n",
        "gb_model = GradientBoostingClassifier(max_depth=5, n_estimators=200, random_state=42)"
      ],
      "outputs": [],
      "execution_count": 52,
      "metadata": {
        "gather": {
          "logged": 1737470497922
        }
      }
    },
    {
      "cell_type": "code",
      "source": [
        "# 정확도 및 손실 값 기록\n",
        "train_accuracies = []\n",
        "val_accuracies = []\n",
        "train_losses = []\n",
        "val_losses = []"
      ],
      "outputs": [],
      "execution_count": 53,
      "metadata": {
        "gather": {
          "logged": 1737470505848
        }
      }
    },
    {
      "cell_type": "code",
      "source": [
        "# 모델 학습 (staged_predict 사용)\n",
        "gb_model.fit(x_train_scaled, y_train)"
      ],
      "outputs": [
        {
          "output_type": "execute_result",
          "execution_count": 54,
          "data": {
            "text/plain": "GradientBoostingClassifier(max_depth=5, n_estimators=200, random_state=42)",
            "text/html": "<style>#sk-container-id-1 {\n  /* Definition of color scheme common for light and dark mode */\n  --sklearn-color-text: black;\n  --sklearn-color-line: gray;\n  /* Definition of color scheme for unfitted estimators */\n  --sklearn-color-unfitted-level-0: #fff5e6;\n  --sklearn-color-unfitted-level-1: #f6e4d2;\n  --sklearn-color-unfitted-level-2: #ffe0b3;\n  --sklearn-color-unfitted-level-3: chocolate;\n  /* Definition of color scheme for fitted estimators */\n  --sklearn-color-fitted-level-0: #f0f8ff;\n  --sklearn-color-fitted-level-1: #d4ebff;\n  --sklearn-color-fitted-level-2: #b3dbfd;\n  --sklearn-color-fitted-level-3: cornflowerblue;\n\n  /* Specific color for light theme */\n  --sklearn-color-text-on-default-background: var(--sg-text-color, var(--theme-code-foreground, var(--jp-content-font-color1, black)));\n  --sklearn-color-background: var(--sg-background-color, var(--theme-background, var(--jp-layout-color0, white)));\n  --sklearn-color-border-box: var(--sg-text-color, var(--theme-code-foreground, var(--jp-content-font-color1, black)));\n  --sklearn-color-icon: #696969;\n\n  @media (prefers-color-scheme: dark) {\n    /* Redefinition of color scheme for dark theme */\n    --sklearn-color-text-on-default-background: var(--sg-text-color, var(--theme-code-foreground, var(--jp-content-font-color1, white)));\n    --sklearn-color-background: var(--sg-background-color, var(--theme-background, var(--jp-layout-color0, #111)));\n    --sklearn-color-border-box: var(--sg-text-color, var(--theme-code-foreground, var(--jp-content-font-color1, white)));\n    --sklearn-color-icon: #878787;\n  }\n}\n\n#sk-container-id-1 {\n  color: var(--sklearn-color-text);\n}\n\n#sk-container-id-1 pre {\n  padding: 0;\n}\n\n#sk-container-id-1 input.sk-hidden--visually {\n  border: 0;\n  clip: rect(1px 1px 1px 1px);\n  clip: rect(1px, 1px, 1px, 1px);\n  height: 1px;\n  margin: -1px;\n  overflow: hidden;\n  padding: 0;\n  position: absolute;\n  width: 1px;\n}\n\n#sk-container-id-1 div.sk-dashed-wrapped {\n  border: 1px dashed var(--sklearn-color-line);\n  margin: 0 0.4em 0.5em 0.4em;\n  box-sizing: border-box;\n  padding-bottom: 0.4em;\n  background-color: var(--sklearn-color-background);\n}\n\n#sk-container-id-1 div.sk-container {\n  /* jupyter's `normalize.less` sets `[hidden] { display: none; }`\n     but bootstrap.min.css set `[hidden] { display: none !important; }`\n     so we also need the `!important` here to be able to override the\n     default hidden behavior on the sphinx rendered scikit-learn.org.\n     See: https://github.com/scikit-learn/scikit-learn/issues/21755 */\n  display: inline-block !important;\n  position: relative;\n}\n\n#sk-container-id-1 div.sk-text-repr-fallback {\n  display: none;\n}\n\ndiv.sk-parallel-item,\ndiv.sk-serial,\ndiv.sk-item {\n  /* draw centered vertical line to link estimators */\n  background-image: linear-gradient(var(--sklearn-color-text-on-default-background), var(--sklearn-color-text-on-default-background));\n  background-size: 2px 100%;\n  background-repeat: no-repeat;\n  background-position: center center;\n}\n\n/* Parallel-specific style estimator block */\n\n#sk-container-id-1 div.sk-parallel-item::after {\n  content: \"\";\n  width: 100%;\n  border-bottom: 2px solid var(--sklearn-color-text-on-default-background);\n  flex-grow: 1;\n}\n\n#sk-container-id-1 div.sk-parallel {\n  display: flex;\n  align-items: stretch;\n  justify-content: center;\n  background-color: var(--sklearn-color-background);\n  position: relative;\n}\n\n#sk-container-id-1 div.sk-parallel-item {\n  display: flex;\n  flex-direction: column;\n}\n\n#sk-container-id-1 div.sk-parallel-item:first-child::after {\n  align-self: flex-end;\n  width: 50%;\n}\n\n#sk-container-id-1 div.sk-parallel-item:last-child::after {\n  align-self: flex-start;\n  width: 50%;\n}\n\n#sk-container-id-1 div.sk-parallel-item:only-child::after {\n  width: 0;\n}\n\n/* Serial-specific style estimator block */\n\n#sk-container-id-1 div.sk-serial {\n  display: flex;\n  flex-direction: column;\n  align-items: center;\n  background-color: var(--sklearn-color-background);\n  padding-right: 1em;\n  padding-left: 1em;\n}\n\n\n/* Toggleable style: style used for estimator/Pipeline/ColumnTransformer box that is\nclickable and can be expanded/collapsed.\n- Pipeline and ColumnTransformer use this feature and define the default style\n- Estimators will overwrite some part of the style using the `sk-estimator` class\n*/\n\n/* Pipeline and ColumnTransformer style (default) */\n\n#sk-container-id-1 div.sk-toggleable {\n  /* Default theme specific background. It is overwritten whether we have a\n  specific estimator or a Pipeline/ColumnTransformer */\n  background-color: var(--sklearn-color-background);\n}\n\n/* Toggleable label */\n#sk-container-id-1 label.sk-toggleable__label {\n  cursor: pointer;\n  display: block;\n  width: 100%;\n  margin-bottom: 0;\n  padding: 0.5em;\n  box-sizing: border-box;\n  text-align: center;\n}\n\n#sk-container-id-1 label.sk-toggleable__label-arrow:before {\n  /* Arrow on the left of the label */\n  content: \"▸\";\n  float: left;\n  margin-right: 0.25em;\n  color: var(--sklearn-color-icon);\n}\n\n#sk-container-id-1 label.sk-toggleable__label-arrow:hover:before {\n  color: var(--sklearn-color-text);\n}\n\n/* Toggleable content - dropdown */\n\n#sk-container-id-1 div.sk-toggleable__content {\n  max-height: 0;\n  max-width: 0;\n  overflow: hidden;\n  text-align: left;\n  /* unfitted */\n  background-color: var(--sklearn-color-unfitted-level-0);\n}\n\n#sk-container-id-1 div.sk-toggleable__content.fitted {\n  /* fitted */\n  background-color: var(--sklearn-color-fitted-level-0);\n}\n\n#sk-container-id-1 div.sk-toggleable__content pre {\n  margin: 0.2em;\n  border-radius: 0.25em;\n  color: var(--sklearn-color-text);\n  /* unfitted */\n  background-color: var(--sklearn-color-unfitted-level-0);\n}\n\n#sk-container-id-1 div.sk-toggleable__content.fitted pre {\n  /* unfitted */\n  background-color: var(--sklearn-color-fitted-level-0);\n}\n\n#sk-container-id-1 input.sk-toggleable__control:checked~div.sk-toggleable__content {\n  /* Expand drop-down */\n  max-height: 200px;\n  max-width: 100%;\n  overflow: auto;\n}\n\n#sk-container-id-1 input.sk-toggleable__control:checked~label.sk-toggleable__label-arrow:before {\n  content: \"▾\";\n}\n\n/* Pipeline/ColumnTransformer-specific style */\n\n#sk-container-id-1 div.sk-label input.sk-toggleable__control:checked~label.sk-toggleable__label {\n  color: var(--sklearn-color-text);\n  background-color: var(--sklearn-color-unfitted-level-2);\n}\n\n#sk-container-id-1 div.sk-label.fitted input.sk-toggleable__control:checked~label.sk-toggleable__label {\n  background-color: var(--sklearn-color-fitted-level-2);\n}\n\n/* Estimator-specific style */\n\n/* Colorize estimator box */\n#sk-container-id-1 div.sk-estimator input.sk-toggleable__control:checked~label.sk-toggleable__label {\n  /* unfitted */\n  background-color: var(--sklearn-color-unfitted-level-2);\n}\n\n#sk-container-id-1 div.sk-estimator.fitted input.sk-toggleable__control:checked~label.sk-toggleable__label {\n  /* fitted */\n  background-color: var(--sklearn-color-fitted-level-2);\n}\n\n#sk-container-id-1 div.sk-label label.sk-toggleable__label,\n#sk-container-id-1 div.sk-label label {\n  /* The background is the default theme color */\n  color: var(--sklearn-color-text-on-default-background);\n}\n\n/* On hover, darken the color of the background */\n#sk-container-id-1 div.sk-label:hover label.sk-toggleable__label {\n  color: var(--sklearn-color-text);\n  background-color: var(--sklearn-color-unfitted-level-2);\n}\n\n/* Label box, darken color on hover, fitted */\n#sk-container-id-1 div.sk-label.fitted:hover label.sk-toggleable__label.fitted {\n  color: var(--sklearn-color-text);\n  background-color: var(--sklearn-color-fitted-level-2);\n}\n\n/* Estimator label */\n\n#sk-container-id-1 div.sk-label label {\n  font-family: monospace;\n  font-weight: bold;\n  display: inline-block;\n  line-height: 1.2em;\n}\n\n#sk-container-id-1 div.sk-label-container {\n  text-align: center;\n}\n\n/* Estimator-specific */\n#sk-container-id-1 div.sk-estimator {\n  font-family: monospace;\n  border: 1px dotted var(--sklearn-color-border-box);\n  border-radius: 0.25em;\n  box-sizing: border-box;\n  margin-bottom: 0.5em;\n  /* unfitted */\n  background-color: var(--sklearn-color-unfitted-level-0);\n}\n\n#sk-container-id-1 div.sk-estimator.fitted {\n  /* fitted */\n  background-color: var(--sklearn-color-fitted-level-0);\n}\n\n/* on hover */\n#sk-container-id-1 div.sk-estimator:hover {\n  /* unfitted */\n  background-color: var(--sklearn-color-unfitted-level-2);\n}\n\n#sk-container-id-1 div.sk-estimator.fitted:hover {\n  /* fitted */\n  background-color: var(--sklearn-color-fitted-level-2);\n}\n\n/* Specification for estimator info (e.g. \"i\" and \"?\") */\n\n/* Common style for \"i\" and \"?\" */\n\n.sk-estimator-doc-link,\na:link.sk-estimator-doc-link,\na:visited.sk-estimator-doc-link {\n  float: right;\n  font-size: smaller;\n  line-height: 1em;\n  font-family: monospace;\n  background-color: var(--sklearn-color-background);\n  border-radius: 1em;\n  height: 1em;\n  width: 1em;\n  text-decoration: none !important;\n  margin-left: 1ex;\n  /* unfitted */\n  border: var(--sklearn-color-unfitted-level-1) 1pt solid;\n  color: var(--sklearn-color-unfitted-level-1);\n}\n\n.sk-estimator-doc-link.fitted,\na:link.sk-estimator-doc-link.fitted,\na:visited.sk-estimator-doc-link.fitted {\n  /* fitted */\n  border: var(--sklearn-color-fitted-level-1) 1pt solid;\n  color: var(--sklearn-color-fitted-level-1);\n}\n\n/* On hover */\ndiv.sk-estimator:hover .sk-estimator-doc-link:hover,\n.sk-estimator-doc-link:hover,\ndiv.sk-label-container:hover .sk-estimator-doc-link:hover,\n.sk-estimator-doc-link:hover {\n  /* unfitted */\n  background-color: var(--sklearn-color-unfitted-level-3);\n  color: var(--sklearn-color-background);\n  text-decoration: none;\n}\n\ndiv.sk-estimator.fitted:hover .sk-estimator-doc-link.fitted:hover,\n.sk-estimator-doc-link.fitted:hover,\ndiv.sk-label-container:hover .sk-estimator-doc-link.fitted:hover,\n.sk-estimator-doc-link.fitted:hover {\n  /* fitted */\n  background-color: var(--sklearn-color-fitted-level-3);\n  color: var(--sklearn-color-background);\n  text-decoration: none;\n}\n\n/* Span, style for the box shown on hovering the info icon */\n.sk-estimator-doc-link span {\n  display: none;\n  z-index: 9999;\n  position: relative;\n  font-weight: normal;\n  right: .2ex;\n  padding: .5ex;\n  margin: .5ex;\n  width: min-content;\n  min-width: 20ex;\n  max-width: 50ex;\n  color: var(--sklearn-color-text);\n  box-shadow: 2pt 2pt 4pt #999;\n  /* unfitted */\n  background: var(--sklearn-color-unfitted-level-0);\n  border: .5pt solid var(--sklearn-color-unfitted-level-3);\n}\n\n.sk-estimator-doc-link.fitted span {\n  /* fitted */\n  background: var(--sklearn-color-fitted-level-0);\n  border: var(--sklearn-color-fitted-level-3);\n}\n\n.sk-estimator-doc-link:hover span {\n  display: block;\n}\n\n/* \"?\"-specific style due to the `<a>` HTML tag */\n\n#sk-container-id-1 a.estimator_doc_link {\n  float: right;\n  font-size: 1rem;\n  line-height: 1em;\n  font-family: monospace;\n  background-color: var(--sklearn-color-background);\n  border-radius: 1rem;\n  height: 1rem;\n  width: 1rem;\n  text-decoration: none;\n  /* unfitted */\n  color: var(--sklearn-color-unfitted-level-1);\n  border: var(--sklearn-color-unfitted-level-1) 1pt solid;\n}\n\n#sk-container-id-1 a.estimator_doc_link.fitted {\n  /* fitted */\n  border: var(--sklearn-color-fitted-level-1) 1pt solid;\n  color: var(--sklearn-color-fitted-level-1);\n}\n\n/* On hover */\n#sk-container-id-1 a.estimator_doc_link:hover {\n  /* unfitted */\n  background-color: var(--sklearn-color-unfitted-level-3);\n  color: var(--sklearn-color-background);\n  text-decoration: none;\n}\n\n#sk-container-id-1 a.estimator_doc_link.fitted:hover {\n  /* fitted */\n  background-color: var(--sklearn-color-fitted-level-3);\n}\n</style><div id=\"sk-container-id-1\" class=\"sk-top-container\"><div class=\"sk-text-repr-fallback\"><pre>GradientBoostingClassifier(max_depth=5, n_estimators=200, random_state=42)</pre><b>In a Jupyter environment, please rerun this cell to show the HTML representation or trust the notebook. <br />On GitHub, the HTML representation is unable to render, please try loading this page with nbviewer.org.</b></div><div class=\"sk-container\" hidden><div class=\"sk-item\"><div class=\"sk-estimator fitted sk-toggleable\"><input class=\"sk-toggleable__control sk-hidden--visually\" id=\"sk-estimator-id-1\" type=\"checkbox\" checked><label for=\"sk-estimator-id-1\" class=\"sk-toggleable__label fitted sk-toggleable__label-arrow fitted\">&nbsp;&nbsp;GradientBoostingClassifier<a class=\"sk-estimator-doc-link fitted\" rel=\"noreferrer\" target=\"_blank\" href=\"https://scikit-learn.org/1.5/modules/generated/sklearn.ensemble.GradientBoostingClassifier.html\">?<span>Documentation for GradientBoostingClassifier</span></a><span class=\"sk-estimator-doc-link fitted\">i<span>Fitted</span></span></label><div class=\"sk-toggleable__content fitted\"><pre>GradientBoostingClassifier(max_depth=5, n_estimators=200, random_state=42)</pre></div> </div></div></div></div>"
          },
          "metadata": {}
        }
      ],
      "execution_count": 54,
      "metadata": {
        "gather": {
          "logged": 1737479738626
        }
      }
    },
    {
      "cell_type": "code",
      "source": [
        "from sklearn.metrics import log_loss"
      ],
      "outputs": [],
      "execution_count": 55,
      "metadata": {
        "gather": {
          "logged": 1737480564525
        }
      }
    },
    {
      "cell_type": "code",
      "source": [
        "# 학습 단계별로 정확도와 손실 추적\n",
        "for y_train_pred, y_val_pred in zip(gb_model.staged_predict(x_train_scaled), gb_model.staged_predict(x_test_scaled)):\n",
        "    # 훈련 정확도와 검증 정확도\n",
        "    train_acc = accuracy_score(y_train, y_train_pred)\n",
        "    val_acc = accuracy_score(y_test, y_val_pred)\n",
        "    train_accuracies.append(train_acc)\n",
        "    val_accuracies.append(val_acc)\n",
        "    \n",
        "    # 훈련 loss와 검증 loss (log_loss 사용)\n",
        "    train_loss = log_loss(y_train, gb_model.predict_proba(x_train_scaled))\n",
        "    val_loss = log_loss(y_test, gb_model.predict_proba(x_test_scaled))\n",
        "    train_losses.append(train_loss)\n",
        "    val_losses.append(val_loss)"
      ],
      "outputs": [],
      "execution_count": 56,
      "metadata": {
        "gather": {
          "logged": 1737501052567
        }
      }
    },
    {
      "cell_type": "code",
      "source": [
        "# 그래프 그리기\n",
        "plt.figure(figsize=(15, 15))\n",
        "\n",
        "# Accuracy 그래프\n",
        "plt.subplot(2, 1, 1)\n",
        "plt.plot(train_accuracies, label='Train Accuracy', color='blue')\n",
        "plt.plot(val_accuracies, label='Validation Accuracy', color='orange')\n",
        "plt.title('Gradient Boosting Model Accuracy')\n",
        "plt.xlabel('Iterations')\n",
        "plt.ylabel('Accuracy')\n",
        "plt.legend()\n",
        "\n",
        "# Loss 그래프\n",
        "plt.subplot(2, 1, 2)\n",
        "plt.plot(train_losses, label='Train Loss', color='blue')\n",
        "plt.plot(val_losses, label='Validation Loss', color='orange')\n",
        "plt.title('Gradient Boosting Model Loss')\n",
        "plt.xlabel('Iterations')\n",
        "plt.ylabel('Log Loss')\n",
        "plt.legend()\n",
        "\n",
        "plt.tight_layout()\n",
        "plt.savefig('/mnt/batch/tasks/shared/LS_root/mounts/clusters/gpu/code/Users/tmxhs85/GB_loss,accuracy.png')"
      ],
      "outputs": [
        {
          "output_type": "display_data",
          "data": {
            "text/plain": "<Figure size 1500x1500 with 2 Axes>",
            "image/png": "[encoded data removed]"
          },
          "metadata": {}
        }
      ],
      "execution_count": 59,
      "metadata": {
        "gather": {
          "logged": 1737508831678
        }
      }
    },
    {
      "cell_type": "code",
      "source": [
        "from torch.utils.tensorboard import SummaryWriter\n",
        "from pytorch_tabnet.callbacks import Callback\n",
        "\n",
        "# TensorBoard 콜백 정의\n",
        "class TensorBoardCallback(Callback):\n",
        "    def __init__(self):\n",
        "        self.writer = SummaryWriter()  # TensorBoard writer 객체 생성\n",
        "\n",
        "    def on_epoch_end(self, epoch, logs=None):\n",
        "        # 훈련과 검증 손실 및 정확도 기록\n",
        "        self.writer.add_scalar('train_loss', logs['train_logloss'], epoch)\n",
        "        self.writer.add_scalar('valid_loss', logs['valid_logloss'], epoch)\n",
        "        self.writer.add_scalar('train_accuracy', logs['train_accuracy'], epoch)\n",
        "        self.writer.add_scalar('valid_accuracy', logs['valid_accuracy'], epoch)\n",
        "\n",
        "    def on_train_end(self, logs=None):\n",
        "        # 학습 종료 후 writer를 종료\n",
        "        self.writer.close()"
      ],
      "outputs": [],
      "execution_count": 93,
      "metadata": {
        "gather": {
          "logged": 1737596135178
        }
      }
    },
    {
      "cell_type": "code",
      "source": [
        "# TabNet 모델 정의\n",
        "tn_model = TabNetClassifier(\n",
        "    n_d=8,                # hidden layer의 차원\n",
        "    n_a=8,                # attention layer의 차원\n",
        "    n_steps=3,            # attention steps\n",
        "    gamma=1.3,            # sparse penalty\n",
        "    lambda_sparse=1e-3,   # sparse penalty 하이퍼파라미터\n",
        "    optimizer_fn=torch.optim.Adam,  # Adam optimizer\n",
        "    optimizer_params=dict(lr=2e-2),  # learning rate\n",
        "    mask_type='sparsemax',           # sparsemax or entmax\n",
        "    scheduler_fn=torch.optim.lr_scheduler.StepLR,  # learning rate scheduler\n",
        "    scheduler_params=dict(step_size=50, gamma=0.9)  # lr scheduler 하이퍼파라미터\n",
        ")"
      ],
      "outputs": [
        {
          "output_type": "stream",
          "name": "stderr",
          "text": "/anaconda/envs/azureml_py38/lib/python3.10/site-packages/pytorch_tabnet/abstract_model.py:82: UserWarning: Device used : cuda\n  warnings.warn(f\"Device used : {self.device}\")\n"
        }
      ],
      "execution_count": 94,
      "metadata": {
        "gather": {
          "logged": 1737596136198
        }
      }
    },
    {
      "cell_type": "code",
      "source": [
        "# 모델 학습\n",
        "tn_model.fit(\n",
        "    x_train_scaled, y_train,\n",
        "    eval_set=[(x_train_scaled, y_train), (x_test_scaled, y_test)],\n",
        "    batch_size=1024,\n",
        "    max_epochs=30,\n",
        "    patience=20,\n",
        "    eval_name=['train', 'valid'],\n",
        "    eval_metric=['accuracy', 'logloss'],\n",
        "    callbacks=[TensorBoardCallback()]  # TensorBoard 콜백 추가\n",
        ")"
      ],
      "outputs": [
        {
          "output_type": "stream",
          "name": "stdout",
          "text": "epoch 0  | loss: 0.37843 | train_accuracy: 0.84319 | train_logloss: 0.36312 | valid_accuracy: 0.84334 | valid_logloss: 0.36281 |  0:05:08s\nepoch 1  | loss: 0.34661 | train_accuracy: 0.86199 | train_logloss: 0.31817 | valid_accuracy: 0.86229 | valid_logloss: 0.31777 |  0:10:18s\nepoch 2  | loss: 0.33646 | train_accuracy: 0.85966 | train_logloss: 0.32715 | valid_accuracy: 0.85971 | valid_logloss: 0.3273  |  0:15:29s\nepoch 3  | loss: 0.32509 | train_accuracy: 0.86883 | train_logloss: 0.30468 | valid_accuracy: 0.86877 | valid_logloss: 0.30453 |  0:20:40s\nepoch 4  | loss: 0.31851 | train_accuracy: 0.86874 | train_logloss: 0.30262 | valid_accuracy: 0.86885 | valid_logloss: 0.30229 |  0:25:51s\nepoch 5  | loss: 0.31437 | train_accuracy: 0.87644 | train_logloss: 0.28814 | valid_accuracy: 0.87656 | valid_logloss: 0.28768 |  0:31:02s\nepoch 6  | loss: 0.32289 | train_accuracy: 0.86593 | train_logloss: 0.31171 | valid_accuracy: 0.86588 | valid_logloss: 0.31158 |  0:36:13s\nepoch 7  | loss: 0.31473 | train_accuracy: 0.87426 | train_logloss: 0.29401 | valid_accuracy: 0.87417 | valid_logloss: 0.29373 |  0:41:24s\nepoch 8  | loss: 0.31797 | train_accuracy: 0.87262 | train_logloss: 0.29834 | valid_accuracy: 0.87286 | valid_logloss: 0.29808 |  0:46:34s\nepoch 9  | loss: 0.31669 | train_accuracy: 0.87074 | train_logloss: 0.30105 | valid_accuracy: 0.87075 | valid_logloss: 0.30076 |  0:51:45s\nepoch 10 | loss: 0.31391 | train_accuracy: 0.87    | train_logloss: 0.30626 | valid_accuracy: 0.87004 | valid_logloss: 0.30629 |  0:56:56s\nepoch 11 | loss: 0.31193 | train_accuracy: 0.87654 | train_logloss: 0.28884 | valid_accuracy: 0.87666 | valid_logloss: 0.28858 |  1:02:07s\nepoch 12 | loss: 0.30596 | train_accuracy: 0.87926 | train_logloss: 0.28248 | valid_accuracy: 0.87914 | valid_logloss: 0.28222 |  1:07:18s\nepoch 13 | loss: 0.30459 | train_accuracy: 0.8826  | train_logloss: 0.27641 | valid_accuracy: 0.88267 | valid_logloss: 0.27606 |  1:12:29s\nepoch 14 | loss: 0.30255 | train_accuracy: 0.87973 | train_logloss: 0.28153 | valid_accuracy: 0.87991 | valid_logloss: 0.28108 |  1:17:40s\nepoch 15 | loss: 0.30438 | train_accuracy: 0.8715  | train_logloss: 0.30057 | valid_accuracy: 0.87149 | valid_logloss: 0.29998 |  1:22:50s\nepoch 16 | loss: 0.30308 | train_accuracy: 0.88318 | train_logloss: 0.2765  | valid_accuracy: 0.88324 | valid_logloss: 0.27626 |  1:28:01s\nepoch 17 | loss: 0.3039  | train_accuracy: 0.87883 | train_logloss: 0.28276 | valid_accuracy: 0.87865 | valid_logloss: 0.28241 |  1:33:12s\nepoch 18 | loss: 0.30054 | train_accuracy: 0.88141 | train_logloss: 0.27664 | valid_accuracy: 0.88165 | valid_logloss: 0.27623 |  1:38:23s\nepoch 19 | loss: 0.29816 | train_accuracy: 0.87956 | train_logloss: 0.27934 | valid_accuracy: 0.87966 | valid_logloss: 0.27874 |  1:43:33s\nepoch 20 | loss: 0.29825 | train_accuracy: 0.88032 | train_logloss: 0.28079 | valid_accuracy: 0.88034 | valid_logloss: 0.28055 |  1:48:44s\nepoch 21 | loss: 0.29757 | train_accuracy: 0.87177 | train_logloss: 0.29996 | valid_accuracy: 0.87186 | valid_logloss: 0.29958 |  1:53:55s\nepoch 22 | loss: 0.29795 | train_accuracy: 0.87091 | train_logloss: 0.29592 | valid_accuracy: 0.87098 | valid_logloss: 0.29547 |  1:59:04s\nepoch 23 | loss: 0.29548 | train_accuracy: 0.88574 | train_logloss: 0.26989 | valid_accuracy: 0.88566 | valid_logloss: 0.2694  |  2:04:15s\nepoch 24 | loss: 0.29475 | train_accuracy: 0.86349 | train_logloss: 0.32582 | valid_accuracy: 0.86357 | valid_logloss: 0.32513 |  2:09:25s\nepoch 25 | loss: 0.29472 | train_accuracy: 0.88284 | train_logloss: 0.27565 | valid_accuracy: 0.88274 | valid_logloss: 0.27543 |  2:14:35s\nepoch 26 | loss: 0.2953  | train_accuracy: 0.88498 | train_logloss: 0.27109 | valid_accuracy: 0.88492 | valid_logloss: 0.27105 |  2:19:45s\nepoch 27 | loss: 0.29443 | train_accuracy: 0.88235 | train_logloss: 0.27589 | valid_accuracy: 0.8824  | valid_logloss: 0.27558 |  2:24:55s\nepoch 28 | loss: 0.2948  | train_accuracy: 0.88423 | train_logloss: 0.27375 | valid_accuracy: 0.88414 | valid_logloss: 0.27387 |  2:30:04s\n"
        },
        {
          "output_type": "stream",
          "name": "stderr",
          "text": "/anaconda/envs/azureml_py38/lib/python3.10/site-packages/pytorch_tabnet/callbacks.py:172: UserWarning: Best weights from best epoch are automatically used!\n  warnings.warn(wrn_msg)\n"
        }
      ],
      "execution_count": 95,
      "metadata": {
        "gather": {
          "logged": 1737606031608
        }
      }
    },
    {
      "cell_type": "code",
      "source": [
        "# 학습 완료 후 훈련 세트와 검증 세트에서 정확도를 추적\n",
        "train_acc = accuracy_score(y_train, tn_model.predict(x_train_scaled))\n",
        "val_acc = accuracy_score(y_test, tn_model.predict(x_test_scaled))"
      ],
      "outputs": [],
      "execution_count": 110,
      "metadata": {
        "gather": {
          "logged": 1737609152244
        }
      }
    },
    {
      "cell_type": "code",
      "source": [
        "# 정확도 기록\n",
        "train_accuracies = []\n",
        "val_accuracies = []\n",
        "\n",
        "train_accuracies.append(train_acc)\n",
        "val_accuracies.append(val_acc)"
      ],
      "outputs": [],
      "execution_count": 111,
      "metadata": {
        "gather": {
          "logged": 1737609405970
        }
      }
    },
    {
      "cell_type": "code",
      "source": [
        "# 차이 계산\n",
        "accuracy_diff = train_acc - val_acc"
      ],
      "outputs": [],
      "execution_count": 112,
      "metadata": {
        "gather": {
          "logged": 1737609407098
        }
      }
    },
    {
      "cell_type": "code",
      "source": [
        "# 정확도를 2D 배열로 준비 (한 차원으로 두 값을 넣음)\n",
        "accuracy_matrix = np.array([[train_acc, val_acc]])\n",
        "\n",
        "# 히트맵 그리기\n",
        "sns.heatmap(accuracy_matrix, annot=True, cmap='coolwarm', xticklabels=['Train Accuracy', 'Validation Accuracy'], yticklabels=['Accuracy'], cbar=True)\n",
        "\n",
        "# 그래프 설정\n",
        "plt.title('TabNet Train,Validation Accuracy (Heatmap)')\n",
        "\n",
        "plt.savefig('/mnt/batch/tasks/shared/LS_root/mounts/clusters/gpu/code/Users/tmxhs85/TabNet_accuracy.png')"
      ],
      "outputs": [
        {
          "output_type": "display_data",
          "data": {
            "text/plain": "<Figure size 640x480 with 2 Axes>",
            "image/png": "[encoded data removed]"
          },
          "metadata": {}
        }
      ],
      "execution_count": 114,
      "metadata": {
        "gather": {
          "logged": 1737609466538
        }
      }
    },
    {
      "cell_type": "code",
      "source": [],
      "outputs": [],
      "execution_count": null,
      "metadata": {}
    }
  ],
  "metadata": {
    "kernelspec": {
      "name": "python38-azureml",
      "language": "python",
      "display_name": "Python 3.8 - AzureML"
    },
    "language_info": {
      "name": "python",
      "version": "3.10.11",
      "mimetype": "text/x-python",
      "codemirror_mode": {
        "name": "ipython",
        "version": 3
      },
      "pygments_lexer": "ipython3",
      "nbconvert_exporter": "python",
      "file_extension": ".py"
    },
    "kernel_info": {
      "name": "python38-azureml"
    },
    "nteract": {
      "version": "nteract-front-end@1.0.0"
    },
    "microsoft": {
      "host": {
        "AzureML": {
          "notebookHasBeenCompleted": true
        }
      }
    }
  },
  "nbformat": 4,
  "nbformat_minor": 2
}